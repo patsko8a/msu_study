{
  "nbformat": 4,
  "nbformat_minor": 0,
  "metadata": {
    "kernelspec": {
      "display_name": "Python 3",
      "language": "python",
      "name": "python3"
    },
    "language_info": {
      "codemirror_mode": {
        "name": "ipython",
        "version": 3
      },
      "file_extension": ".py",
      "mimetype": "text/x-python",
      "name": "python",
      "nbconvert_exporter": "python",
      "pygments_lexer": "ipython3",
      "version": "3.6.7"
    },
    "colab": {
      "name": "Lesson_01_PYML_19.ipynb",
      "provenance": []
    }
  },
  "cells": [
    {
      "cell_type": "markdown",
      "metadata": {
        "id": "wMUdmXV0bKf6",
        "colab_type": "text"
      },
      "source": [
        "<center>\n",
        "\n",
        "# Курс \"Основы Python для анализа данных\"\n",
        "\n",
        "## Артамонов Игорь Михайлович\n",
        "## Факультет \"Прикладная математика\" МАИ\n",
        "\n",
        "### Занятие № 1 \n",
        "\n",
        "</center>\n"
      ]
    },
    {
      "cell_type": "markdown",
      "metadata": {
        "id": "U60yac4rbKf_",
        "colab_type": "text"
      },
      "source": [
        "## Организационные вопросы"
      ]
    },
    {
      "cell_type": "markdown",
      "metadata": {
        "id": "4Bg-b-tkbKgC",
        "colab_type": "text"
      },
      "source": [
        "### Общение / вопросы по курсу\n",
        "\n",
        "Платформа для групповой работы Atlassian Confluence факультета \"Прикладная математика\"\n",
        "\n",
        "https://mai.moscow/display/PYTML "
      ]
    },
    {
      "cell_type": "markdown",
      "metadata": {
        "id": "yIalKrDMbKgF",
        "colab_type": "text"
      },
      "source": [
        "### Оценка\n",
        "\n",
        "<b>Используется балльная оценка</b>\n",
        "\n",
        "|Критерий| Максимальное количество баллов|\n",
        "|---|---|\n",
        "|Посещаемость | 15 баллов|\n",
        "|Недельные задания | 15 баллов |\n",
        "|Промежуточные практические работы (<i>коллоквиумы</i>) | 30 баллов |\n",
        "|Мини-исследовательские работы (<i>проекты</i>) | 40 баллов |\n",
        "|Внешние курсы | 40 баллов |\n",
        "|Экзамен | 30 баллов |\n",
        "\n",
        "<b>Конвертация балльнай оценки в итоговую</b>\n",
        "\n",
        "| Сумма баллов | Оценка |\n",
        "|---|---|\n",
        "| 65+ баллов | <b>3</b><br> |\n",
        "| 75+ баллов | <b>4</b><br> |\n",
        "| 85+ баллов | <b>5</b><br> |\n"
      ]
    },
    {
      "cell_type": "markdown",
      "metadata": {
        "id": "Lat2QKwPbKgH",
        "colab_type": "text"
      },
      "source": [
        "### Как упростить сдачу\n",
        "#### Мини-исследовательские работы и учебные работы\n",
        "* Самостоятельный проект\n",
        "* Kaggle\n",
        "* https://mlcourse.ai/ (бывший mail.ru и ODS - <b>начался 02.09!</b>)\n",
        "* coursera.org\n",
        "    * Яндекс - специализация \"Машинное обучение и анализ данных\"\n",
        "    * coursera - курс \"Machine learning\" Andrew Ng (English)"
      ]
    },
    {
      "cell_type": "markdown",
      "metadata": {
        "id": "O-o1gvHBbKgL",
        "colab_type": "text"
      },
      "source": [
        "### Важно!\n",
        "\n",
        "Deadline (крайний срок сдачи):\n",
        "  * 23.59 <b>\\<\\></b> 00:00\n",
        "  * считается момент <b>доставки / получения / размещения</b>\n",
        "  * 0<b>+</b> баллов - <b>до</b>\n",
        "  * 0 баллов - <b>после</b>"
      ]
    },
    {
      "cell_type": "markdown",
      "metadata": {
        "id": "kcvBKC3GbKgN",
        "colab_type": "text"
      },
      "source": [
        "### Предварительные знания"
      ]
    },
    {
      "cell_type": "markdown",
      "metadata": {
        "id": "S-YeOro4bKgT",
        "colab_type": "text"
      },
      "source": [
        "* Математический анализ\n",
        "* Линейная алгебра\n",
        "* Теория вероятности и статистика\n",
        "* Методы оптимизации\n",
        "* Программирование"
      ]
    },
    {
      "cell_type": "markdown",
      "metadata": {
        "id": "xK5oeJ_9bKgW",
        "colab_type": "text"
      },
      "source": [
        "# Содержание курса\n",
        "## Курс состоит из 3х модулей\n",
        "###     Модуль 1.  Введение в Python\n",
        "###     Модуль 2.  Анализ данных\n",
        "###     Модуль 3.  Машинное обучение"
      ]
    },
    {
      "cell_type": "markdown",
      "metadata": {
        "id": "78BrJ7JqbKgX",
        "colab_type": "text"
      },
      "source": [
        "## Модуль 1. Введение в Python и средства разработки"
      ]
    },
    {
      "cell_type": "markdown",
      "metadata": {
        "id": "zOgG6ycDbKgZ",
        "colab_type": "text"
      },
      "source": [
        "* <b>Занятие 1</b>\n",
        "     * Рабочее окружение: Ubuntu, virtualenv, PyCharm, Anaconda\n",
        "     * Работа Jupyter Notebook\n",
        "     * Система контроля версий git\n",
        "     * Сервисы GitHub, BitBucket и \n",
        "     * Kaggle\n",
        "     * Типы данных и операции с ними\n",
        "     * Операторы, условные конструкции, циклы\n",
        "     * Функции, аргументы и сигнатуры"
      ]
    },
    {
      "cell_type": "markdown",
      "metadata": {
        "id": "llM6lkdAbKgb",
        "colab_type": "text"
      },
      "source": [
        "* <b>Занятие 2. Основные типы данных. Обработка исключений.</b>\n",
        "     * Последовательности: строка, список, кортеж, множество\n",
        "     * Словарь\n",
        "     * Стеки, очередь, дерево\n",
        "     * Случайные величины\n",
        "     * Исключения и их обработка"
      ]
    },
    {
      "cell_type": "markdown",
      "metadata": {
        "id": "S9QhElk_bKgd",
        "colab_type": "text"
      },
      "source": [
        "* <b>Занятие  3. Объекто-ориентированное и функциональное программирование на Python</b>\n",
        "     * Основные положения ООП\n",
        "     * Классы и объекты\n",
        "     * Наследование\n",
        "     * Видимость переменных\n",
        "     * Основные положения ФП\n",
        "     * Итераторы и генераторы\n",
        "     * itertools\n",
        "     * functools\n",
        "     * lambda-функции"
      ]
    },
    {
      "cell_type": "markdown",
      "metadata": {
        "id": "ebt38bTSbKgf",
        "colab_type": "text"
      },
      "source": [
        "* <b>Занятие  4. Ввод и вывод. Работа с реляционными базами данных</b>\n",
        "     * Ввод и вывод из файлов\n",
        "     * Форматированный вывод\n",
        "     * Подключение к Oracle\n",
        "     * Отображение запросов на типы Python\n",
        "     * Запросы на получение данных\n",
        "     * Запросы на изменение\n",
        "     * Путь обработки данных с РСУБД и Python"
      ]
    },
    {
      "cell_type": "markdown",
      "metadata": {
        "id": "1iYHdJcCbKgi",
        "colab_type": "text"
      },
      "source": [
        "* <b>Занятие  5. Numpy</b>\n",
        "     * Многомерные массисы\n",
        "     * Выборка и сечения (slicing)\n",
        "     * Условное индексирование\n",
        "     * Массив-ориентированное программирование\n",
        "     * Ввод и вывод массивов\n",
        "     * Широковещательные операции (broadcasting)\n",
        "     * Линейная алгебра"
      ]
    },
    {
      "cell_type": "markdown",
      "metadata": {
        "id": "DBg3SzpYbKgj",
        "colab_type": "text"
      },
      "source": [
        "* <b>Коллоквиум № 1</b>\n",
        "    - Общие знания\n",
        "    - Линейная алгебра\n",
        "    - Случайные величины\n",
        "    - numpy\n",
        "    <br><br>"
      ]
    },
    {
      "cell_type": "markdown",
      "metadata": {
        "id": "VRXOsPeDbKgl",
        "colab_type": "text"
      },
      "source": [
        "## Система контроля версий git"
      ]
    },
    {
      "cell_type": "markdown",
      "metadata": {
        "id": "HbUDzUOkbKgo",
        "colab_type": "text"
      },
      "source": [
        "<i>«Система управления версиями (от англ. Version Control System, VCS или Revision Control System) — \n",
        "программное обеспечение для облегчения работы с изменяющейся информацией. \n",
        "Система управления версиями позволяет хранить несколько версий одного и того же документа, \n",
        "при необходимости возвращаться к более ранним версиям, определять, кто и когда сделал\n",
        "то или иное изменение, и многое другое.»</i>\n",
        "<p>  (из wikipedia.com)</p>"
      ]
    },
    {
      "cell_type": "markdown",
      "metadata": {
        "id": "AZbW3-XrbKgq",
        "colab_type": "text"
      },
      "source": [
        "<b>git</b> - это <b>децентрализованная</b> система контроля версий. В них клиенты не просто скачивают снимок всех файлов\n",
        "(состояние файлов на определённый момент времени): они полностью копируют репозиторий. В этом случае, если\n",
        "один из серверов, через который разработчики обменивались данными, умрёт, любой клиентский репозиторий может\n",
        "быть скопирован на другой сервер для продолжения работы. Каждая копия репозитория является полным бэкапом\n",
        "всех данных."
      ]
    },
    {
      "cell_type": "markdown",
      "metadata": {
        "id": "FEspXWV0bKgs",
        "colab_type": "text"
      },
      "source": [
        "Клонируем репозиторий:\n",
        "\n",
        "><p><i><b>git clone https://github.com/<< name >>/<< repo_name >>.git</b></i></p>\n",
        "\n",
        "><p><i><b>git add << file >>.py</b></i></p>\n",
        "\n",
        "Зафиксируем внесенные изменения в локальном репозитарии\n",
        "\n",
        "><p><i><b>git commit -m \"<< описание >>\"</b></i></p>\n",
        "\n",
        "Отправляем изменения на сервер в ветку master\n",
        "\n",
        "><p><i><b>git push -u origin master </b></i></p>\n"
      ]
    },
    {
      "cell_type": "markdown",
      "metadata": {
        "id": "MjCVB3TebKgu",
        "colab_type": "text"
      },
      "source": [
        "### Веб-сервисы для хостинга IT-проектов и их совместной разработки\n",
        "\n",
        "GitHub\n",
        "* https://github.com\n",
        " \n",
        "BitBucket\n",
        "* https://bitbucket.org"
      ]
    },
    {
      "cell_type": "markdown",
      "metadata": {
        "id": "XbArP5PNbKgz",
        "colab_type": "text"
      },
      "source": [
        "### ЗАДАНИЕ\n",
        "\n",
        "* Зарегистрироваться на любом из сервисов хостинга IT-проектов git\n",
        "* Создать свой репозиторий\n",
        "* Загрузить туда файл"
      ]
    },
    {
      "cell_type": "markdown",
      "metadata": {
        "id": "jyAOuuzVbKg1",
        "colab_type": "text"
      },
      "source": [
        "### Графические оболочки для Git (Windows / MacOS / Linux)"
      ]
    },
    {
      "cell_type": "markdown",
      "metadata": {
        "id": "AEMNCOfbbKg2",
        "colab_type": "text"
      },
      "source": [
        "SmartGit \n",
        "    <p><href a='https://www.syntevo.com/smartgit/'>https://www.syntevo.com/smartgit/</href></p>\n",
        "  \n",
        "GitEye\n",
        "    <p><href a='https://www.collab.net/downloads/giteye'>https://www.collab.net/downloads/giteye</href></p>\n"
      ]
    },
    {
      "cell_type": "markdown",
      "metadata": {
        "id": "Hb1eadZBbKg3",
        "colab_type": "text"
      },
      "source": [
        "### Полезные ресурсы\n",
        "\n",
        "<b>Pro Git v.2 by Scott Chacon and Ben Straub на русском</b>\n",
        "\n",
        "https://git-scm.com/book/ru/v2\n",
        "\n",
        "<b>Git How-To</b> - интерактивное введение в Git (English)\n",
        "\n",
        "https://githowto.com"
      ]
    },
    {
      "cell_type": "markdown",
      "metadata": {
        "id": "EWKpikhjbKg4",
        "colab_type": "text"
      },
      "source": [
        "### Последовательность работы с данными\n",
        "\n",
        "* Получение \"сырых\" данных (симуляция, эксперимент, сбор)\n",
        "* Препроцессинг (обработка и манипуляция) данными\n",
        "* Визуализация данных в виде, понятном для понимания, отчетов и публикация"
      ]
    },
    {
      "cell_type": "markdown",
      "metadata": {
        "id": "W5FOo84ubKg6",
        "colab_type": "text"
      },
      "source": [
        "### Why Python?"
      ]
    },
    {
      "cell_type": "markdown",
      "metadata": {
        "id": "5jQI2pRsbKg8",
        "colab_type": "text"
      },
      "source": [
        "* Входит в 5 наиболее популярных языков (Tiobe index: Sep 2018 - #3, Sep 2017 - #5)\n",
        "* Низкий порог вхождения\n",
        "* Пологая кривая обучения (Shallow learning curve)\n",
        "* Поддерживает много парадигм (императивный, объектно-ориентированный, функциональный)\n",
        "* Большое количество библиотек (язык, как способ доступа к библиотекам)\n",
        "* Отличное community"
      ]
    },
    {
      "cell_type": "markdown",
      "metadata": {
        "id": "twoDjPNqbKg8",
        "colab_type": "text"
      },
      "source": [
        "### Библиотеки, используемые в курсе:\n",
        "\n",
        "* <b>Numpy</b> - базовый пакет для научных вычислений  для Python:\n",
        "    - эффективная работа с векторами, матрицами и тензорами\n",
        "    - \"широковещятельные\" функции выполнения операций (broadcasting)\n",
        "    - средства для интеграции с кодом C/C++ и Fortran\n",
        "    - линейная алгебра, преобразование Фурье, работа со случайными числами\n",
        "\n",
        "* <b>Pandas</b> - ключевой пакте для эффективного анализа анализа данных, построенный на базе аналога DataFrame из языка R. Позволяет быстро, гибко и удобно работать с реляционными и \"помеченными\" данными самой разной природы. В качестве цели его создатели ставят создание наиболее мощного и гибкого средства для анализа и манипуляции данных, независимо от языка программирования.\n",
        "\n",
        "* <b>Scikit-learn</b> - реализация всех наиболее распространенных методов машинного обучения и анализа данных (data mining). Отличительная особенность - отличная документация и множество примеров.\n",
        "\n",
        "* <b>SciPy</b> - высокоуровневая библиотека научных вычислений. Оптимизация, решение дифференциальных уравнений, интегрирование, линейная алгебра, оптимизация, обработка сигналов и изображений, работа с геоданными и статистикой.\n",
        "\n",
        "* <b>matplotlib</b> - библиотека визаулизации данных, в основном двухмерная графика (хотя есть и удобный \"псевдо-3D\"). Широкие возможности по изменению внешнего вида.\n",
        "\n",
        "* <b>seaborn</b> - библиотека визаулизации статистических данных."
      ]
    },
    {
      "cell_type": "markdown",
      "metadata": {
        "id": "GmLIjfhIbKg_",
        "colab_type": "text"
      },
      "source": [
        "## Делаем virtualenv и запускаем Jupyter notebook"
      ]
    },
    {
      "cell_type": "markdown",
      "metadata": {
        "id": "9VmbP18wbKhB",
        "colab_type": "text"
      },
      "source": [
        "`$ conda -V\n",
        "\n",
        "conda update conda\n",
        "\n",
        "conda search \"^python$\"\n",
        "\n",
        "conda create -n yourenvname python=x.x anaconda\n",
        "\n",
        "source activate yourenvname\n",
        "\n",
        "conda install -n yourenvname [package]\n",
        "`"
      ]
    },
    {
      "cell_type": "markdown",
      "metadata": {
        "id": "Fszx5PA2bKhD",
        "colab_type": "text"
      },
      "source": [
        "### Python как калькулятор"
      ]
    },
    {
      "cell_type": "code",
      "metadata": {
        "id": "9mq_xIb9bKhE",
        "colab_type": "code",
        "colab": {},
        "outputId": "cc59890c-ba24-41ab-f39d-563eb32d514a"
      },
      "source": [
        "2 * 2"
      ],
      "execution_count": null,
      "outputs": [
        {
          "output_type": "execute_result",
          "data": {
            "text/plain": [
              "4"
            ]
          },
          "metadata": {
            "tags": []
          },
          "execution_count": 11
        }
      ]
    },
    {
      "cell_type": "code",
      "metadata": {
        "id": "gm9tWANabKhQ",
        "colab_type": "code",
        "colab": {},
        "outputId": "6fce5adb-1bf8-486b-f2a6-079a8d9e9590"
      },
      "source": [
        "i=2\n",
        "j=4\n",
        "print(i**j)"
      ],
      "execution_count": null,
      "outputs": [
        {
          "output_type": "stream",
          "text": [
            "16\n"
          ],
          "name": "stdout"
        }
      ]
    },
    {
      "cell_type": "code",
      "metadata": {
        "id": "qwsgIhCCbKhZ",
        "colab_type": "code",
        "colab": {},
        "outputId": "941324ef-a07b-4e4d-f2d3-e9e63cffc87d"
      },
      "source": [
        "2*2, 3+7, 11**2"
      ],
      "execution_count": null,
      "outputs": [
        {
          "output_type": "execute_result",
          "data": {
            "text/plain": [
              "(4, 10, 121)"
            ]
          },
          "metadata": {
            "tags": []
          },
          "execution_count": 21
        }
      ]
    },
    {
      "cell_type": "code",
      "metadata": {
        "id": "-5lWMR_ubKhi",
        "colab_type": "code",
        "colab": {}
      },
      "source": [
        "(a, b, c) = 2*2, 3+7, 11**2"
      ],
      "execution_count": null,
      "outputs": []
    },
    {
      "cell_type": "code",
      "metadata": {
        "id": "DA8SKmpObKhp",
        "colab_type": "code",
        "colab": {},
        "outputId": "36141f98-7c70-4409-8622-fddbe0959687"
      },
      "source": [
        "print(a, b, c)"
      ],
      "execution_count": null,
      "outputs": [
        {
          "output_type": "stream",
          "text": [
            "4 10 121\n"
          ],
          "name": "stdout"
        }
      ]
    },
    {
      "cell_type": "code",
      "metadata": {
        "id": "pLKgIVqSbKhv",
        "colab_type": "code",
        "colab": {},
        "outputId": "14373548-7be5-450d-a0ad-f877999d9130"
      },
      "source": [
        "2 * sin(3.14159 / 2)"
      ],
      "execution_count": null,
      "outputs": [
        {
          "output_type": "error",
          "ename": "NameError",
          "evalue": "name 'sin' is not defined",
          "traceback": [
            "\u001b[0;31m---------------------------------------------------------------------------\u001b[0m",
            "\u001b[0;31mNameError\u001b[0m                                 Traceback (most recent call last)",
            "\u001b[0;32m<ipython-input-15-52ee457cd2c9>\u001b[0m in \u001b[0;36m<module>\u001b[0;34m()\u001b[0m\n\u001b[0;32m----> 1\u001b[0;31m \u001b[0;36m2\u001b[0m \u001b[0;34m*\u001b[0m \u001b[0msin\u001b[0m\u001b[0;34m(\u001b[0m\u001b[0;36m3.14159\u001b[0m \u001b[0;34m/\u001b[0m \u001b[0;36m2\u001b[0m\u001b[0;34m)\u001b[0m\u001b[0;34m\u001b[0m\u001b[0m\n\u001b[0m",
            "\u001b[0;31mNameError\u001b[0m: name 'sin' is not defined"
          ]
        }
      ]
    },
    {
      "cell_type": "code",
      "metadata": {
        "id": "bdluhlNTbKh3",
        "colab_type": "code",
        "colab": {}
      },
      "source": [
        "import math"
      ],
      "execution_count": null,
      "outputs": []
    },
    {
      "cell_type": "code",
      "metadata": {
        "id": "-gPTtYYsbKh-",
        "colab_type": "code",
        "colab": {},
        "outputId": "b3c8b913-bb70-45bb-dcca-dfbf2757a241"
      },
      "source": [
        "2 * math.sin(math.pi / 2)"
      ],
      "execution_count": null,
      "outputs": [
        {
          "output_type": "execute_result",
          "data": {
            "text/plain": [
              "2.0"
            ]
          },
          "metadata": {
            "tags": []
          },
          "execution_count": 23
        }
      ]
    },
    {
      "cell_type": "code",
      "metadata": {
        "id": "TL5P4tSgbKiF",
        "colab_type": "code",
        "colab": {}
      },
      "source": [
        "from math import sin, cos, pi"
      ],
      "execution_count": null,
      "outputs": []
    },
    {
      "cell_type": "code",
      "metadata": {
        "id": "rZ3WZG9obKiK",
        "colab_type": "code",
        "colab": {},
        "outputId": "c34c7690-c0ac-4e02-964b-c9969d446c67"
      },
      "source": [
        "2 * sin(pi / 2)"
      ],
      "execution_count": null,
      "outputs": [
        {
          "output_type": "error",
          "ename": "TypeError",
          "evalue": "unsupported operand type(s) for /: 'function' and 'int'",
          "traceback": [
            "\u001b[0;31m---------------------------------------------------------------------------\u001b[0m",
            "\u001b[0;31mTypeError\u001b[0m                                 Traceback (most recent call last)",
            "\u001b[0;32m<ipython-input-24-57dc511a3fa2>\u001b[0m in \u001b[0;36m<module>\u001b[0;34m()\u001b[0m\n\u001b[0;32m----> 1\u001b[0;31m \u001b[0;36m2\u001b[0m \u001b[0;34m*\u001b[0m \u001b[0msin\u001b[0m\u001b[0;34m(\u001b[0m\u001b[0mpi\u001b[0m \u001b[0;34m/\u001b[0m \u001b[0;36m2\u001b[0m\u001b[0;34m)\u001b[0m\u001b[0;34m\u001b[0m\u001b[0m\n\u001b[0m",
            "\u001b[0;31mTypeError\u001b[0m: unsupported operand type(s) for /: 'function' and 'int'"
          ]
        }
      ]
    },
    {
      "cell_type": "code",
      "metadata": {
        "id": "AKCT5dJ0bKiT",
        "colab_type": "code",
        "colab": {},
        "outputId": "09b4a767-9e98-4d0f-e88c-911fbf8a7863"
      },
      "source": [
        "# определим функцию\n",
        "def pi(n):\n",
        "    return math.pi * n\n",
        "\n",
        "2 * sin(pi(1/2))"
      ],
      "execution_count": null,
      "outputs": [
        {
          "output_type": "execute_result",
          "data": {
            "text/plain": [
              "2.0"
            ]
          },
          "metadata": {
            "tags": []
          },
          "execution_count": 26
        }
      ]
    },
    {
      "cell_type": "code",
      "metadata": {
        "id": "g3TjUJtNbKiZ",
        "colab_type": "code",
        "colab": {},
        "outputId": "9e3ba961-c469-4563-cbea-71fd27fd2962"
      },
      "source": [
        "import sympy as sym\n",
        "\n",
        "x = sym.Symbol('x')\n",
        "\n",
        "# 2-я производная sin(2*x)\n",
        "sym.diff(sym.sin(2 * x), x, 2)"
      ],
      "execution_count": null,
      "outputs": [
        {
          "output_type": "execute_result",
          "data": {
            "text/plain": [
              "-4*sin(2*x)"
            ]
          },
          "metadata": {
            "tags": []
          },
          "execution_count": 42
        }
      ]
    },
    {
      "cell_type": "code",
      "metadata": {
        "id": "y7hsGh7XbKie",
        "colab_type": "code",
        "colab": {},
        "outputId": "0b6e4943-9df3-4e0d-8d3f-9bfb6f83a416"
      },
      "source": [
        "!pip install sympy"
      ],
      "execution_count": null,
      "outputs": [
        {
          "output_type": "stream",
          "text": [
            "Collecting sympy\n",
            "  Downloading https://files.pythonhosted.org/packages/b0/47/54f3a752f3b88b9487f38e5e6b7bb96e0b60286b50fd818999f1ffead0cc/sympy-1.2.tar.gz (5.4MB)\n",
            "\u001b[K    100% |████████████████████████████████| 5.4MB 311kB/s eta 0:00:01\n",
            "\u001b[?25hCollecting mpmath>=0.19 (from sympy)\n",
            "  Downloading https://files.pythonhosted.org/packages/7a/05/b3d1472885d8dc0606936ea5da0ccb1b4785682e78ab15e34ada24aea8d5/mpmath-1.0.0.tar.gz (511kB)\n",
            "\u001b[K    100% |████████████████████████████████| 512kB 3.2MB/s eta 0:00:01\n",
            "\u001b[?25hBuilding wheels for collected packages: sympy, mpmath\n",
            "  Running setup.py bdist_wheel for sympy ... \u001b[?25ldone\n",
            "\u001b[?25h  Stored in directory: /home/art/.cache/pip/wheels/b4/af/81/7fad05f53f1e451e8ddb4b15aa3908dc98112a9459911ebb66\n",
            "  Running setup.py bdist_wheel for mpmath ... \u001b[?25ldone\n",
            "\u001b[?25h  Stored in directory: /home/art/.cache/pip/wheels/33/15/0f/9ca5f2ad88a5456803098daa189f382408a81556aa209e97ff\n",
            "Successfully built sympy mpmath\n",
            "Installing collected packages: mpmath, sympy\n",
            "Successfully installed mpmath-1.0.0 sympy-1.2\n"
          ],
          "name": "stdout"
        }
      ]
    },
    {
      "cell_type": "markdown",
      "metadata": {
        "id": "_7YtF5AabKil",
        "colab_type": "text"
      },
      "source": [
        "## Cтрогая динамическая типизация "
      ]
    },
    {
      "cell_type": "code",
      "metadata": {
        "id": "6k4eBD9xbKim",
        "colab_type": "code",
        "colab": {},
        "outputId": "8f8972dd-5b39-407f-e0d2-0a434c791ce2"
      },
      "source": [
        "i = 2\n",
        "i, type(i)"
      ],
      "execution_count": null,
      "outputs": [
        {
          "output_type": "execute_result",
          "data": {
            "text/plain": [
              "(2, int)"
            ]
          },
          "metadata": {
            "tags": []
          },
          "execution_count": 45
        }
      ]
    },
    {
      "cell_type": "code",
      "metadata": {
        "id": "rL02q3OMbKit",
        "colab_type": "code",
        "colab": {},
        "outputId": "cd4b1f5b-d4e0-4523-d707-a0eb8e0bca0d"
      },
      "source": [
        "s = 'This is a string '\n",
        "j = '4'\n",
        "s, type(s), j, type(j)"
      ],
      "execution_count": null,
      "outputs": [
        {
          "output_type": "execute_result",
          "data": {
            "text/plain": [
              "('This is a string ', str, '4', str)"
            ]
          },
          "metadata": {
            "tags": []
          },
          "execution_count": 62
        }
      ]
    },
    {
      "cell_type": "code",
      "metadata": {
        "id": "UGaegp32bKiy",
        "colab_type": "code",
        "colab": {},
        "outputId": "e9a8966b-d2e7-4bfa-f322-77b459880021"
      },
      "source": [
        "s + j + '!'"
      ],
      "execution_count": null,
      "outputs": [
        {
          "output_type": "execute_result",
          "data": {
            "text/plain": [
              "'This is a string 4!'"
            ]
          },
          "metadata": {
            "tags": []
          },
          "execution_count": 68
        }
      ]
    },
    {
      "cell_type": "code",
      "metadata": {
        "id": "FwKFQ-yzbKi4",
        "colab_type": "code",
        "colab": {},
        "outputId": "880f747a-afd7-4e5b-a81f-c786ee630fca"
      },
      "source": [
        "i + j"
      ],
      "execution_count": null,
      "outputs": [
        {
          "output_type": "error",
          "ename": "TypeError",
          "evalue": "unsupported operand type(s) for +: 'int' and 'str'",
          "traceback": [
            "\u001b[0;31m---------------------------------------------------------------------------\u001b[0m",
            "\u001b[0;31mTypeError\u001b[0m                                 Traceback (most recent call last)",
            "\u001b[0;32m<ipython-input-64-8f0483cc3638>\u001b[0m in \u001b[0;36m<module>\u001b[0;34m()\u001b[0m\n\u001b[0;32m----> 1\u001b[0;31m \u001b[0mi\u001b[0m \u001b[0;34m+\u001b[0m \u001b[0mj\u001b[0m\u001b[0;34m\u001b[0m\u001b[0m\n\u001b[0m",
            "\u001b[0;31mTypeError\u001b[0m: unsupported operand type(s) for +: 'int' and 'str'"
          ]
        }
      ]
    },
    {
      "cell_type": "code",
      "metadata": {
        "id": "xr2dw5exbKi-",
        "colab_type": "code",
        "colab": {},
        "outputId": "e47d736c-a324-45aa-b7d7-c93429e5b660"
      },
      "source": [
        "i + int(j)float()"
      ],
      "execution_count": null,
      "outputs": [
        {
          "output_type": "execute_result",
          "data": {
            "text/plain": [
              "6"
            ]
          },
          "metadata": {
            "tags": []
          },
          "execution_count": 65
        }
      ]
    },
    {
      "cell_type": "code",
      "metadata": {
        "id": "ehjfLMKabKjE",
        "colab_type": "code",
        "colab": {},
        "outputId": "cdfc9f7b-ba56-49ad-c1e6-26ccc0276e1b"
      },
      "source": [
        "s + i"
      ],
      "execution_count": null,
      "outputs": [
        {
          "output_type": "error",
          "ename": "TypeError",
          "evalue": "must be str, not int",
          "traceback": [
            "\u001b[0;31m---------------------------------------------------------------------------\u001b[0m",
            "\u001b[0;31mTypeError\u001b[0m                                 Traceback (most recent call last)",
            "\u001b[0;32m<ipython-input-66-c1921053b55e>\u001b[0m in \u001b[0;36m<module>\u001b[0;34m()\u001b[0m\n\u001b[0;32m----> 1\u001b[0;31m \u001b[0ms\u001b[0m \u001b[0;34m+\u001b[0m \u001b[0mi\u001b[0m\u001b[0;34m\u001b[0m\u001b[0m\n\u001b[0m",
            "\u001b[0;31mTypeError\u001b[0m: must be str, not int"
          ]
        }
      ]
    },
    {
      "cell_type": "code",
      "metadata": {
        "id": "3w9kz4n9bKjJ",
        "colab_type": "code",
        "colab": {},
        "outputId": "e1d0717c-1012-45cf-99b0-6e2dbc07670f"
      },
      "source": [
        "s + str(i)"
      ],
      "execution_count": null,
      "outputs": [
        {
          "output_type": "execute_result",
          "data": {
            "text/plain": [
              "'This is a string 2'"
            ]
          },
          "metadata": {
            "tags": []
          },
          "execution_count": 67
        }
      ]
    },
    {
      "cell_type": "code",
      "metadata": {
        "id": "dJwTOQ5XbKjO",
        "colab_type": "code",
        "colab": {},
        "outputId": "7e928a2c-ad72-4703-de53-6d311046e34a"
      },
      "source": [
        "float(i) + float(j)"
      ],
      "execution_count": null,
      "outputs": [
        {
          "output_type": "execute_result",
          "data": {
            "text/plain": [
              "18.0"
            ]
          },
          "metadata": {
            "tags": []
          },
          "execution_count": 101
        }
      ]
    },
    {
      "cell_type": "markdown",
      "metadata": {
        "id": "VyPRL2TRbKjS",
        "colab_type": "text"
      },
      "source": [
        "### Зарезервированные имена"
      ]
    },
    {
      "cell_type": "code",
      "metadata": {
        "id": "qqvdjxpEbKjU",
        "colab_type": "code",
        "colab": {}
      },
      "source": [
        "s = 'abc'\n",
        "i = 10"
      ],
      "execution_count": null,
      "outputs": []
    },
    {
      "cell_type": "code",
      "metadata": {
        "id": "IZRSN8hFbKjZ",
        "colab_type": "code",
        "colab": {},
        "outputId": "1ce81f4e-efc0-46fa-b326-362b54eaeac1"
      },
      "source": [
        "while = 'abc'"
      ],
      "execution_count": null,
      "outputs": [
        {
          "output_type": "error",
          "ename": "SyntaxError",
          "evalue": "invalid syntax (<ipython-input-100-30707e5d35d7>, line 1)",
          "traceback": [
            "\u001b[0;36m  File \u001b[0;32m\"<ipython-input-100-30707e5d35d7>\"\u001b[0;36m, line \u001b[0;32m1\u001b[0m\n\u001b[0;31m    while = 'abc'\u001b[0m\n\u001b[0m          ^\u001b[0m\n\u001b[0;31mSyntaxError\u001b[0m\u001b[0;31m:\u001b[0m invalid syntax\n"
          ]
        }
      ]
    },
    {
      "cell_type": "markdown",
      "metadata": {
        "id": "ZmOwPbiFbKjd",
        "colab_type": "text"
      },
      "source": [
        "## Булевские значения и операции"
      ]
    },
    {
      "cell_type": "code",
      "metadata": {
        "id": "WAOIMfmebKjd",
        "colab_type": "code",
        "colab": {},
        "outputId": "02e0c73e-1883-407c-d8a1-1ed8eb588a66"
      },
      "source": [
        "x = 2\n",
        "x == 3"
      ],
      "execution_count": null,
      "outputs": [
        {
          "output_type": "execute_result",
          "data": {
            "text/plain": [
              "False"
            ]
          },
          "metadata": {
            "tags": []
          },
          "execution_count": 69
        }
      ]
    },
    {
      "cell_type": "code",
      "metadata": {
        "id": "gKStEIscbKjh",
        "colab_type": "code",
        "colab": {},
        "outputId": "8669c68a-1476-4284-df4e-fe981edffd67"
      },
      "source": [
        "x_is_2 = x == 2\n",
        "x_is_3 = x == 3\n",
        "x_is_2, x_is_3, type(x_is_2)"
      ],
      "execution_count": null,
      "outputs": [
        {
          "output_type": "execute_result",
          "data": {
            "text/plain": [
              "(True, False, bool)"
            ]
          },
          "metadata": {
            "tags": []
          },
          "execution_count": 73
        }
      ]
    },
    {
      "cell_type": "code",
      "metadata": {
        "id": "Tob92BxLbKjn",
        "colab_type": "code",
        "colab": {},
        "outputId": "7738be34-6f96-46e7-b837-813b2184c3e5"
      },
      "source": [
        "bool(0), bool(1), bool(2*8)"
      ],
      "execution_count": null,
      "outputs": [
        {
          "output_type": "execute_result",
          "data": {
            "text/plain": [
              "(False, True, True)"
            ]
          },
          "metadata": {
            "tags": []
          },
          "execution_count": 76
        }
      ]
    },
    {
      "cell_type": "code",
      "metadata": {
        "id": "mV-cG3kHbKjr",
        "colab_type": "code",
        "colab": {},
        "outputId": "e9d90dab-985b-4d2f-f56a-f047a16f34d4"
      },
      "source": [
        "int(True), int(False)"
      ],
      "execution_count": null,
      "outputs": [
        {
          "output_type": "execute_result",
          "data": {
            "text/plain": [
              "(1, 0)"
            ]
          },
          "metadata": {
            "tags": []
          },
          "execution_count": 77
        }
      ]
    },
    {
      "cell_type": "markdown",
      "metadata": {
        "id": "cCxK8znfbKj-",
        "colab_type": "text"
      },
      "source": [
        "## Условный оператор"
      ]
    },
    {
      "cell_type": "markdown",
      "metadata": {
        "id": "KkLWvHSVbKj_",
        "colab_type": "text"
      },
      "source": [
        "```python\n",
        "if expression1:\n",
        "   statement(s)\n",
        "elif expression2:\n",
        "   statement(s)\n",
        "elif expression3:\n",
        "   statement(s)\n",
        "else:\n",
        "   statement(s)\n",
        "```"
      ]
    },
    {
      "cell_type": "code",
      "metadata": {
        "scrolled": true,
        "id": "OpA0M2XNbKkA",
        "colab_type": "code",
        "colab": {},
        "outputId": "b6584938-5281-49b7-e127-a945773f78bd"
      },
      "source": [
        "import random\n",
        "\n",
        "a = random.uniform(0, 10)\n",
        "if a < 3:\n",
        "    print(\"a<3\")\n",
        "elif a < 6:\n",
        "    print (\"3<=a<6\")\n",
        "else:\n",
        "    print (\"a>=6\")"
      ],
      "execution_count": null,
      "outputs": [
        {
          "output_type": "stream",
          "text": [
            "3<=a<6\n"
          ],
          "name": "stdout"
        }
      ]
    },
    {
      "cell_type": "markdown",
      "metadata": {
        "id": "hOVvxU6bbKkG",
        "colab_type": "text"
      },
      "source": [
        "## ЗАДАНИЕ\n",
        "* Создайте строку<br>\n",
        "* Проверьте, начитается ли строка с 3х символов \"ААА\" и заканчивается строкой \"RRR\"<br>\n",
        "* Используйте str.startwith() , str.endwith()"
      ]
    },
    {
      "cell_type": "code",
      "metadata": {
        "id": "FeDsedQ_bKkH",
        "colab_type": "code",
        "colab": {}
      },
      "source": [
        "s = str()\n",
        "if s.startswith('AAA') and s.endswith('RRR'):\n",
        "    print('String start with AAA and end with RRR')"
      ],
      "execution_count": 2,
      "outputs": []
    },
    {
      "cell_type": "markdown",
      "metadata": {
        "id": "Uy_ukr0RbKkK",
        "colab_type": "text"
      },
      "source": [
        "## Циклы"
      ]
    },
    {
      "cell_type": "markdown",
      "metadata": {
        "id": "Nq6mi_XFbKkK",
        "colab_type": "text"
      },
      "source": [
        "```python\n",
        "while expression:\n",
        "   statement(s)\n",
        "```"
      ]
    },
    {
      "cell_type": "code",
      "metadata": {
        "id": "TmLeQl6ybKkK",
        "colab_type": "code",
        "colab": {
          "base_uri": "https://localhost:8080/",
          "height": 35
        },
        "outputId": "f7798924-b2ca-4c23-a37c-b3d75414ce3b"
      },
      "source": [
        "n = 1\n",
        "n_fac = 10\n",
        "fac =  1\n",
        "while n <= n_fac:\n",
        "    fac *= n\n",
        "    n += 1\n",
        "print(fac)"
      ],
      "execution_count": 3,
      "outputs": [
        {
          "output_type": "stream",
          "text": [
            "3628800\n"
          ],
          "name": "stdout"
        }
      ]
    },
    {
      "cell_type": "markdown",
      "metadata": {
        "id": "nb8Ck-s_bKkO",
        "colab_type": "text"
      },
      "source": [
        "## ЗАДАНИЕ\n",
        "* Определите, насколько значение экспоненты отличается от полученного после 10 элементов\n",
        "ряда в абсолютном и относительном значении от максимально точного для python\n",
        "* для проверки используйте пакет <b><i>math.exp</i></b>"
      ]
    },
    {
      "cell_type": "markdown",
      "metadata": {
        "id": "62oEU9KYbKkP",
        "colab_type": "text"
      },
      "source": [
        "$$e = (1+\\frac{1}{n})^n$$"
      ]
    },
    {
      "cell_type": "code",
      "metadata": {
        "id": "5qoUGbCibKkP",
        "colab_type": "code",
        "colab": {
          "base_uri": "https://localhost:8080/",
          "height": 71
        },
        "outputId": "70fc46b8-f3ec-427c-ce3c-3007303df250"
      },
      "source": [
        "import math\n",
        "\n",
        "e = 1\n",
        "for i in range(1, 11):\n",
        "    e += (1 / math.factorial(i))\n",
        "  \n",
        "print('e = ', e)\n",
        "print('math.exp = ', math.exp(1))\n",
        "print('abs = ', abs(e - math.exp(1)))"
      ],
      "execution_count": 15,
      "outputs": [
        {
          "output_type": "stream",
          "text": [
            "e =  2.7182818011463845\n",
            "math.exp =  2.718281828459045\n",
            "abs =  2.7312660577649694e-08\n"
          ],
          "name": "stdout"
        }
      ]
    },
    {
      "cell_type": "markdown",
      "metadata": {
        "id": "LBRh_WktbKkS",
        "colab_type": "text"
      },
      "source": [
        "```python\n",
        "for iterating_var in sequence:\n",
        "   statements(s)\n",
        "```"
      ]
    },
    {
      "cell_type": "markdown",
      "metadata": {
        "id": "Bk-TBiuVbKkT",
        "colab_type": "text"
      },
      "source": [
        "### Управление выполнением цикла"
      ]
    },
    {
      "cell_type": "markdown",
      "metadata": {
        "id": "QLdxhdLTbKkT",
        "colab_type": "text"
      },
      "source": [
        "```python\n",
        "break\n",
        "\n",
        "continue\n",
        "```"
      ]
    },
    {
      "cell_type": "code",
      "metadata": {
        "id": "cFAyw2iZbKkU",
        "colab_type": "code",
        "colab": {},
        "outputId": "d2e2f1ae-fc28-4ed3-dabc-a7393749f049"
      },
      "source": [
        "for i in range(10):\n",
        "    for j in range(10):\n",
        "        val = (i * 10 + j)\n",
        "        if j == 8:\n",
        "            break\n",
        "        elif val % 2 == 0:\n",
        "            continue\n",
        "        else:\n",
        "            print('val = {:3d}'.format(val))\n",
        "    if i > 5:\n",
        "        break"
      ],
      "execution_count": null,
      "outputs": [
        {
          "output_type": "stream",
          "text": [
            "val =   1\n",
            "val =   3\n",
            "val =   5\n",
            "val =   7\n",
            "val =  11\n",
            "val =  13\n",
            "val =  15\n",
            "val =  17\n",
            "val =  21\n",
            "val =  23\n",
            "val =  25\n",
            "val =  27\n",
            "val =  31\n",
            "val =  33\n",
            "val =  35\n",
            "val =  37\n",
            "val =  41\n",
            "val =  43\n",
            "val =  45\n",
            "val =  47\n",
            "val =  51\n",
            "val =  53\n",
            "val =  55\n",
            "val =  57\n",
            "val =  61\n",
            "val =  63\n",
            "val =  65\n",
            "val =  67\n"
          ],
          "name": "stdout"
        }
      ]
    },
    {
      "cell_type": "markdown",
      "metadata": {
        "id": "Vz6jmoV9bKkX",
        "colab_type": "text"
      },
      "source": [
        "## ЗАДАНИЕ\n",
        "* Найдите и распечатайте простые числа до 1000"
      ]
    },
    {
      "cell_type": "code",
      "metadata": {
        "id": "BBfWwB9_bKkX",
        "colab_type": "code",
        "colab": {
          "base_uri": "https://localhost:8080/",
          "height": 55
        },
        "outputId": "6a59bedf-dd67-4260-9bbd-e725f16b7023"
      },
      "source": [
        "def eratosthenes(n):\n",
        "    sieve = [i for i in range(2, n + 1)]\n",
        "    for i in sieve:\n",
        "        if i == 0:\n",
        "            continue\n",
        "        for j in range(i + i, len(sieve), i):\n",
        "            sieve[j] = 0\n",
        "    sieve.insert(0, 1)\n",
        "    return [i for i in sieve if i]\n",
        "\n",
        "res = eratosthenes(1000)\n",
        "for i in res:\n",
        "    print(i, end=' ')\n",
        "print()"
      ],
      "execution_count": 12,
      "outputs": [
        {
          "output_type": "stream",
          "text": [
            "1 2 3 4 5 7 9 13 15 19 21 25 31 33 39 43 45 49 55 61 63 69 73 75 81 85 91 99 103 105 109 111 115 123 129 133 139 141 151 153 159 165 169 175 181 183 189 193 195 199 201 213 225 229 231 235 241 243 253 255 259 265 271 273 279 283 285 291 295 309 313 315 319 321 333 339 349 351 355 361 369 375 381 385 391 393 399 403 409 411 421 423 433 435 441 445 451 453 459 463 465 469 481 489 493 495 501 505 511 519 523 525 531 543 549 559 565 571 573 579 585 589 595 601 603 609 615 619 621 631 633 643 645 649 651 655 661 663 669 675 679 685 693 699 703 711 721 729 735 739 741 745 753 759 763 771 775 783 789 799 801 811 813 823 825 829 831 841 843 853 855 859 861 865 871 879 883 885 889 903 909 913 915 921 931 939 943 945 949 955 969 973 979 981 985 993 999 \n"
          ],
          "name": "stdout"
        }
      ]
    },
    {
      "cell_type": "markdown",
      "metadata": {
        "id": "re87e7FRbKkb",
        "colab_type": "text"
      },
      "source": [
        "### Unicode для переменных (избегайте этого!)"
      ]
    },
    {
      "cell_type": "code",
      "metadata": {
        "id": "bR5rAZdYbKkb",
        "colab_type": "code",
        "colab": {}
      },
      "source": [
        "переменная = 7\n",
        "str_переменная = 'Oops! I did it again!'"
      ],
      "execution_count": null,
      "outputs": []
    },
    {
      "cell_type": "code",
      "metadata": {
        "id": "SI-oWCSpbKke",
        "colab_type": "code",
        "colab": {},
        "outputId": "55b7bd94-c091-4870-c4a9-8d091835045b"
      },
      "source": [
        "print(переменная, type(переменная), '\\n', str_переменная, type(str_переменная))"
      ],
      "execution_count": null,
      "outputs": [
        {
          "output_type": "stream",
          "text": [
            "7 <class 'int'> \n",
            " Oops! I did it again! <class 'str'>\n"
          ],
          "name": "stdout"
        }
      ]
    },
    {
      "cell_type": "markdown",
      "metadata": {
        "id": "5UR060zRbKkj",
        "colab_type": "text"
      },
      "source": [
        "\n",
        "## Функции, аргументы и сигнатуры"
      ]
    },
    {
      "cell_type": "markdown",
      "metadata": {
        "id": "YruILQs-bKkk",
        "colab_type": "text"
      },
      "source": [
        "```python\n",
        "def func(first, second, third='something'):\n",
        "    pass\n",
        "```"
      ]
    },
    {
      "cell_type": "markdown",
      "metadata": {
        "id": "Mfex2olgbKkk",
        "colab_type": "text"
      },
      "source": [
        "```python\n",
        "def func(*args):\n",
        "     return args\n",
        "```"
      ]
    },
    {
      "cell_type": "markdown",
      "metadata": {
        "id": "fJjhrI3bbKkl",
        "colab_type": "text"
      },
      "source": [
        "```python\n",
        "def func(**kwargs):\n",
        "     return kwargs\n",
        "```"
      ]
    },
    {
      "cell_type": "code",
      "metadata": {
        "id": "dLMbmUiUbKkl",
        "colab_type": "code",
        "colab": {}
      },
      "source": [
        "from inspect import signature\n",
        "\n",
        "def func(first, second, third='something'):\n",
        "    \"\"\"\n",
        "    Description\n",
        "    1.\n",
        "    2. \n",
        "    3.\n",
        "    \"\"\"\n",
        "    pass\n"
      ],
      "execution_count": null,
      "outputs": []
    },
    {
      "cell_type": "code",
      "metadata": {
        "id": "T6XojSkBbKkp",
        "colab_type": "code",
        "colab": {},
        "outputId": "e18eede1-c854-44a1-8e07-b8cc1274537e"
      },
      "source": [
        "help(func)\n"
      ],
      "execution_count": null,
      "outputs": [
        {
          "output_type": "stream",
          "text": [
            "Help on function func in module __main__:\n",
            "\n",
            "func(first, second, third='something')\n",
            "    Description\n",
            "    1.\n",
            "    2. \n",
            "    3.\n",
            "\n"
          ],
          "name": "stdout"
        }
      ]
    },
    {
      "cell_type": "code",
      "metadata": {
        "scrolled": true,
        "id": "NMxXrMTGbKks",
        "colab_type": "code",
        "colab": {},
        "outputId": "66dc34fb-2e0e-4611-ee81-e745f24192fa"
      },
      "source": [
        "sig = signature(func)\n",
        "print(sig)"
      ],
      "execution_count": null,
      "outputs": [
        {
          "output_type": "stream",
          "text": [
            "(first, second, third='something')\n"
          ],
          "name": "stdout"
        }
      ]
    },
    {
      "cell_type": "code",
      "metadata": {
        "id": "VHIYVQ0QbKkv",
        "colab_type": "code",
        "colab": {}
      },
      "source": [
        ""
      ],
      "execution_count": null,
      "outputs": []
    },
    {
      "cell_type": "markdown",
      "metadata": {
        "id": "PHoKKeljbKky",
        "colab_type": "text"
      },
      "source": [
        "## Экзаменационные вопросы"
      ]
    },
    {
      "cell_type": "markdown",
      "metadata": {
        "id": "Vk_xf28YbKk0",
        "colab_type": "text"
      },
      "source": [
        "* Общая структура программы Python\n",
        "* Управляющие структуры Python\n",
        "* Простые типы в Python\n",
        "* Система управления версиями Git"
      ]
    },
    {
      "cell_type": "markdown",
      "metadata": {
        "id": "qL9wxQZ3bKk1",
        "colab_type": "text"
      },
      "source": [
        "### <b>Задание №1</b>\n",
        "- завести свой репозиторий на GitHub или BitBucket\n",
        "- создать там проект по данному курсу\n",
        "- загрузить данный файл по ссылке ...\n",
        "- разместить данные на GitHub\n",
        "\n",
        "><b>deadline: </b>"
      ]
    },
    {
      "cell_type": "markdown",
      "metadata": {
        "id": "8Obo9EQWbKk1",
        "colab_type": "text"
      },
      "source": [
        "# This is the end, my friend! "
      ]
    }
  ]
}