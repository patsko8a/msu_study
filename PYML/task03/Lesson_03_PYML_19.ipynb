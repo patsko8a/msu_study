{
  "nbformat": 4,
  "nbformat_minor": 0,
  "metadata": {
    "kernelspec": {
      "display_name": "Python 3",
      "language": "python",
      "name": "python3"
    },
    "language_info": {
      "codemirror_mode": {
        "name": "ipython",
        "version": 3
      },
      "file_extension": ".py",
      "mimetype": "text/x-python",
      "name": "python",
      "nbconvert_exporter": "python",
      "pygments_lexer": "ipython3",
      "version": "3.6.8"
    },
    "colab": {
      "name": "Lesson_03_PYML-19.ipynb",
      "provenance": [],
      "collapsed_sections": [
        "mcbhdWPoaMwr",
        "ZXlR5sWBaMw3",
        "wmOViO5CaMw4",
        "fYk5EdgKaMxt",
        "piPK_h_iaMxu"
      ]
    }
  },
  "cells": [
    {
      "cell_type": "markdown",
      "metadata": {
        "id": "259hcD_paMth",
        "colab_type": "text"
      },
      "source": [
        "<center>\n",
        "\n",
        "# Курс \"Основы Python для анализа данных\"\n",
        "\n",
        "## Артамонов Игорь Михайлович\n",
        "## Факультет \"Прикладная математика\" МАИ\n",
        "\n",
        "### Занятие № 3.  Объектно ориентированное и функциональное программирование\n",
        "\n",
        "</center>\n"
      ]
    },
    {
      "cell_type": "markdown",
      "metadata": {
        "id": "0SfW5CkGaMtk",
        "colab_type": "text"
      },
      "source": [
        "## Общение / вопросы по курсу\n",
        "\n",
        "Платформа для групповой работы Atlassian Confluence факультета \"Прикладная математика\"\n",
        "\n",
        "https://mai.moscow/display/PYTML"
      ]
    },
    {
      "cell_type": "markdown",
      "metadata": {
        "id": "3FZaoZNVaMtn",
        "colab_type": "text"
      },
      "source": [
        "* <b>Занятие 3. Объектно ориентированное и функциональное программирование</b>\n",
        "       * Объектно ориентированное программирование\n",
        "           * Общие понятия\n",
        "           * ООП в Python\n",
        "       * Функциональное программирование\n",
        "           * Общие понятия\n",
        "           * ФП в Python"
      ]
    },
    {
      "cell_type": "markdown",
      "metadata": {
        "id": "FBXgROzPaMtq",
        "colab_type": "text"
      },
      "source": [
        "## virtualenv + Jupyter notebook"
      ]
    },
    {
      "cell_type": "markdown",
      "metadata": {
        "id": "5OI_FTtjaMts",
        "colab_type": "text"
      },
      "source": [
        "```\n",
        "<Ctrl> + <Alt> + T - новое окно терминала\n",
        "```"
      ]
    },
    {
      "cell_type": "markdown",
      "metadata": {
        "id": "bSJJTmY8aMtv",
        "colab_type": "text"
      },
      "source": [
        "```\n",
        "$ conda -V\n",
        "\n",
        "$ conda update conda\n",
        "\n",
        "$ conda search \"^python$\"\n",
        "\n",
        "$ conda create -n yourenvname python=x.x anaconda\n",
        "\n",
        "$ source activate yourenvname\n",
        "\n",
        "$ jupyter notebook\n",
        "\n",
        "$ conda install -n yourenvname [package]\n",
        "```"
      ]
    },
    {
      "cell_type": "markdown",
      "metadata": {
        "id": "ps00_n17aMtw",
        "colab_type": "text"
      },
      "source": [
        "# Общее"
      ]
    },
    {
      "cell_type": "markdown",
      "metadata": {
        "id": "2Sqj8wrFaMt2",
        "colab_type": "text"
      },
      "source": [
        "* Python позволяет писать в рамках большинства подходов к программированию. Часто говорят, что он поддерживает несколько __парадигм__ программирования:\n",
        "    - императивное\n",
        "    - структурное\n",
        "    - объектно-ориентированное\n",
        "    - функциональное\n",
        "* При наличии дополнительных пакетов (Kanren + SymPy) поддерживает даже логическое программирование\n",
        "* Такие языки называют многопарадигменными (_multi-paradigm programming language_)"
      ]
    },
    {
      "cell_type": "markdown",
      "metadata": {
        "id": "FsdJp6cuaMt5",
        "colab_type": "text"
      },
      "source": [
        "### Когда недостаточно императивного программирования:"
      ]
    },
    {
      "cell_type": "markdown",
      "metadata": {
        "id": "KqQUNQe_aMt7",
        "colab_type": "text"
      },
      "source": [
        "* много (в том числе - очень) кода\n",
        "* можно выделить структуру задачи через функции или объекты\n",
        "* использование внешних библиотек, использующих определенный подход (например, почти все интерфейсные\n",
        "  библиотеки используют объектно-ориентированный подход\n",
        "* рефакторинг кода для улучшения его структуры\n",
        "* хорошее понимание одной из парадигм и умение \"раскладывать\" в неё задачи"
      ]
    },
    {
      "cell_type": "markdown",
      "metadata": {
        "id": "OwWbHSqkaMt9",
        "colab_type": "text"
      },
      "source": [
        "## <font color=blue>ВАЖНО!</font>"
      ]
    },
    {
      "cell_type": "markdown",
      "metadata": {
        "id": "btW3BXUvaMt-",
        "colab_type": "text"
      },
      "source": [
        "* наличие инструментов и использование парадигмы - это __разные__ вещи\n",
        "* правильное понимание и использование парадигмы часто __важнее__, чем наличие инструментов\n",
        "* многие инструменты могут успешно использоваться __вне__ \"чистого\" объектно-ориентированного или функционального кода"
      ]
    },
    {
      "cell_type": "code",
      "metadata": {
        "id": "PxSlqAQnaMt_",
        "colab_type": "code",
        "colab": {}
      },
      "source": [
        "import numpy as np\n",
        "import pandas as pd\n",
        "import matplotlib.pyplot as plt\n",
        "import scipy as sc\n",
        "%matplotlib inline"
      ],
      "execution_count": null,
      "outputs": []
    },
    {
      "cell_type": "markdown",
      "metadata": {
        "id": "JcNv5qcxaMuL",
        "colab_type": "text"
      },
      "source": [
        "# Объектно-ориентированное программирование"
      ]
    },
    {
      "cell_type": "markdown",
      "metadata": {
        "id": "2LBH7bONaMuM",
        "colab_type": "text"
      },
      "source": [
        "## Основные принципы"
      ]
    },
    {
      "cell_type": "markdown",
      "metadata": {
        "id": "7B5pR6mFaMuO",
        "colab_type": "text"
      },
      "source": [
        "* способ __структурирования__ программы\n",
        "* поведение и свойства (чего-то) помещены в индивидуальные __объекты__\n",
        "* объект является представителем __класса__"
      ]
    },
    {
      "cell_type": "markdown",
      "metadata": {
        "id": "lBtphD7yaMuQ",
        "colab_type": "text"
      },
      "source": [
        "__Класс__ - определяет поведение __группы объектов__"
      ]
    },
    {
      "cell_type": "markdown",
      "metadata": {
        "id": "AyIrg8INaMuS",
        "colab_type": "text"
      },
      "source": [
        "__Объект__ (__пример__ класса) - содержит реальные значения, относящиеся непосредственно к нему"
      ]
    },
    {
      "cell_type": "markdown",
      "metadata": {
        "id": "ZFv7YrU9aMuT",
        "colab_type": "text"
      },
      "source": [
        "```python\n",
        "class my_class(superclass(es)):\n",
        "    \n",
        "    def __init__(self):\n",
        "        my_list = []\n",
        "        my_dict = {1:1}\n",
        "        n = 0\n",
        "        pass\n",
        "    \n",
        "    def method1(self, *args):\n",
        "        pass\n",
        "    \n",
        "    def method2(self, *args)\n",
        "        return x\n",
        "    \n",
        "    def __len__(self):\n",
        "        return n\n",
        "```"
      ]
    },
    {
      "cell_type": "markdown",
      "metadata": {
        "id": "Waut_a1RaMuV",
        "colab_type": "text"
      },
      "source": [
        "self - обращение к переменной объекта\n",
        "var != self.var"
      ]
    },
    {
      "cell_type": "code",
      "metadata": {
        "id": "-wQF9gEBaMuW",
        "colab_type": "code",
        "colab": {}
      },
      "source": [
        "class Gender:\n",
        "    def __init__(self, gender):\n",
        "        self.gender = gender\n",
        "\n",
        "    def __str__(self):\n",
        "        return self.gender\n",
        "    \n",
        "    def get():\n",
        "        return self.gender\n",
        "    \n",
        "    def set(gender):\n",
        "        self.gender = gender\n"
      ],
      "execution_count": null,
      "outputs": []
    },
    {
      "cell_type": "code",
      "metadata": {
        "scrolled": true,
        "id": "mEXX-qkwaMuf",
        "colab_type": "code",
        "colab": {}
      },
      "source": [
        "class Human:\n",
        "    \n",
        "    population = 0\n",
        "    \n",
        "    def __init__(self, name, age, gender):\n",
        "        self.name = name\n",
        "        self.age = age\n",
        "        self.gender = gender\n",
        "        Human.population += 1\n",
        "    \n",
        "    def __str__(self):\n",
        "        return 'Имя: {}, возраст: {}, пол: {}'.format(self.name, self.age, self.gender)\n",
        "    \n",
        "    def get_name(self):\n",
        "        return self.name\n",
        "\n",
        "    @classmethod\n",
        "    def how_many(cls):\n",
        "        return  Human.population\n"
      ],
      "execution_count": null,
      "outputs": []
    },
    {
      "cell_type": "code",
      "metadata": {
        "id": "GgwRzV65aMur",
        "colab_type": "code",
        "colab": {
          "base_uri": "https://localhost:8080/",
          "height": 35
        },
        "outputId": "f085c908-b808-463e-9be5-ac5ad3cb76b7"
      },
      "source": [
        "Human.how_many()"
      ],
      "execution_count": null,
      "outputs": [
        {
          "output_type": "execute_result",
          "data": {
            "text/plain": [
              "0"
            ]
          },
          "metadata": {
            "tags": []
          },
          "execution_count": 4
        }
      ]
    },
    {
      "cell_type": "code",
      "metadata": {
        "id": "5HJPAn3YaMu_",
        "colab_type": "code",
        "colab": {
          "base_uri": "https://localhost:8080/",
          "height": 35
        },
        "outputId": "8ff50dfa-dcac-4d66-9333-49e764958868"
      },
      "source": [
        "vasya = Human('Вася', 30, Gender('М'))\n",
        "print(type(vasya), vasya)"
      ],
      "execution_count": null,
      "outputs": [
        {
          "output_type": "stream",
          "text": [
            "<class '__main__.Human'> Имя: Вася, возраст: 30, пол: М\n"
          ],
          "name": "stdout"
        }
      ]
    },
    {
      "cell_type": "code",
      "metadata": {
        "id": "u1Rw4WncaMvH",
        "colab_type": "code",
        "colab": {
          "base_uri": "https://localhost:8080/",
          "height": 35
        },
        "outputId": "b325c493-13ad-4c2e-ad0d-569db3362e7b"
      },
      "source": [
        "Human('Петя', 32, Gender('М'))"
      ],
      "execution_count": null,
      "outputs": [
        {
          "output_type": "execute_result",
          "data": {
            "text/plain": [
              "<__main__.Human at 0x7f85a4b07e48>"
            ]
          },
          "metadata": {
            "tags": []
          },
          "execution_count": 6
        }
      ]
    },
    {
      "cell_type": "code",
      "metadata": {
        "id": "aFA11aIOaMvQ",
        "colab_type": "code",
        "colab": {}
      },
      "source": [
        "class Man(Human):\n",
        "    def __init__(self, name, age, gender):\n",
        "        Human.__init__(self, name, age, Gender('M'))\n",
        "    \n",
        "    def get_name(self):\n",
        "        return 'Меня зовут ' + Human.get_name(self)"
      ],
      "execution_count": null,
      "outputs": []
    },
    {
      "cell_type": "code",
      "metadata": {
        "id": "hE2rhKndaMvY",
        "colab_type": "code",
        "colab": {}
      },
      "source": [
        ""
      ],
      "execution_count": null,
      "outputs": []
    },
    {
      "cell_type": "code",
      "metadata": {
        "id": "dJOuaK7BaMvi",
        "colab_type": "code",
        "colab": {
          "base_uri": "https://localhost:8080/",
          "height": 35
        },
        "outputId": "47d8dc94-3c61-436d-bee8-ad60de4b5ea5"
      },
      "source": [
        "print(Human.how_many())"
      ],
      "execution_count": null,
      "outputs": [
        {
          "output_type": "stream",
          "text": [
            "2\n"
          ],
          "name": "stdout"
        }
      ]
    },
    {
      "cell_type": "code",
      "metadata": {
        "id": "bWt1qfisaMvt",
        "colab_type": "code",
        "colab": {}
      },
      "source": [
        "vasya = Man('Вася', 30, Gender('М'))"
      ],
      "execution_count": null,
      "outputs": []
    },
    {
      "cell_type": "code",
      "metadata": {
        "id": "tXlIblqUaMvx",
        "colab_type": "code",
        "colab": {
          "base_uri": "https://localhost:8080/",
          "height": 35
        },
        "outputId": "95a2684c-03c4-4119-d9f3-2bfc35f6eeee"
      },
      "source": [
        "print(vasya)"
      ],
      "execution_count": null,
      "outputs": [
        {
          "output_type": "stream",
          "text": [
            "Имя: Вася, возраст: 30, пол: M\n"
          ],
          "name": "stdout"
        }
      ]
    },
    {
      "cell_type": "code",
      "metadata": {
        "id": "1e2AL8XbaMv7",
        "colab_type": "code",
        "colab": {
          "base_uri": "https://localhost:8080/",
          "height": 53
        },
        "outputId": "05b238a4-2b2c-471c-cf37-fc4d2ddaa87e"
      },
      "source": [
        "print(vasya), type(vasya)"
      ],
      "execution_count": null,
      "outputs": [
        {
          "output_type": "stream",
          "text": [
            "Имя: Вася, возраст: 30, пол: M\n"
          ],
          "name": "stdout"
        },
        {
          "output_type": "execute_result",
          "data": {
            "text/plain": [
              "(None, __main__.Man)"
            ]
          },
          "metadata": {
            "tags": []
          },
          "execution_count": 11
        }
      ]
    },
    {
      "cell_type": "code",
      "metadata": {
        "id": "9mN-cO-uaMwD",
        "colab_type": "code",
        "colab": {
          "base_uri": "https://localhost:8080/",
          "height": 35
        },
        "outputId": "db4630fe-57af-4f9a-a0ce-b6a113f8c61a"
      },
      "source": [
        "isinstance(vasya, object)"
      ],
      "execution_count": null,
      "outputs": [
        {
          "output_type": "execute_result",
          "data": {
            "text/plain": [
              "True"
            ]
          },
          "metadata": {
            "tags": []
          },
          "execution_count": 12
        }
      ]
    },
    {
      "cell_type": "code",
      "metadata": {
        "id": "Pk5d57pnaMwK",
        "colab_type": "code",
        "colab": {}
      },
      "source": [
        ""
      ],
      "execution_count": null,
      "outputs": []
    },
    {
      "cell_type": "code",
      "metadata": {
        "id": "h07-Qu60aMwS",
        "colab_type": "code",
        "colab": {
          "base_uri": "https://localhost:8080/",
          "height": 35
        },
        "outputId": "a00110e8-0c8f-48db-a1a8-048d1e8d7e47"
      },
      "source": [
        "isinstance(vasya, Man)"
      ],
      "execution_count": null,
      "outputs": [
        {
          "output_type": "execute_result",
          "data": {
            "text/plain": [
              "True"
            ]
          },
          "metadata": {
            "tags": []
          },
          "execution_count": 13
        }
      ]
    },
    {
      "cell_type": "code",
      "metadata": {
        "id": "thFYaFa1aMwd",
        "colab_type": "code",
        "colab": {
          "base_uri": "https://localhost:8080/",
          "height": 35
        },
        "outputId": "f3aa2af3-6198-4220-b336-383769200afb"
      },
      "source": [
        "isinstance(vasya, list)"
      ],
      "execution_count": null,
      "outputs": [
        {
          "output_type": "execute_result",
          "data": {
            "text/plain": [
              "False"
            ]
          },
          "metadata": {
            "tags": []
          },
          "execution_count": 14
        }
      ]
    },
    {
      "cell_type": "code",
      "metadata": {
        "id": "2nAuVG-baMwj",
        "colab_type": "code",
        "colab": {
          "base_uri": "https://localhost:8080/",
          "height": 35
        },
        "outputId": "bd05ae22-21a9-4a8e-8ff7-1de017773697"
      },
      "source": [
        "isinstance([1,2,3], list)"
      ],
      "execution_count": null,
      "outputs": [
        {
          "output_type": "execute_result",
          "data": {
            "text/plain": [
              "True"
            ]
          },
          "metadata": {
            "tags": []
          },
          "execution_count": 15
        }
      ]
    },
    {
      "cell_type": "markdown",
      "metadata": {
        "id": "mcbhdWPoaMwr",
        "colab_type": "text"
      },
      "source": [
        "## <font color=red>ЗАДАНИЕ</font>"
      ]
    },
    {
      "cell_type": "markdown",
      "metadata": {
        "id": "Ygw_e8OFaMws",
        "colab_type": "text"
      },
      "source": [
        "Реализуйте класс клеток (cell) со следующими функциями:<br>\n",
        "* при создании у клетки задается имя (строка)\n",
        "* hello - клетка печатает \"Клетка:\" плюс свое имя\n",
        "* die - клетка погибает\n",
        "* divide - возвращяет tuple из двух новых клеток, к имени старой клетки добавлются 0 и 1\n",
        "    старая клетка погибает\n",
        "* Надо сохранять количество клеток в переменной класса"
      ]
    },
    {
      "cell_type": "code",
      "metadata": {
        "id": "nIkzpkeMaMww",
        "colab_type": "code",
        "colab": {}
      },
      "source": [
        "class cell:\n",
        "    count = 0\n",
        "\n",
        "    def __init__(self, name):\n",
        "        self.name = name\n",
        "        self.died = False\n",
        "        cell.count += 1\n",
        "\n",
        "    def hello(self):\n",
        "        if self.died:\n",
        "            raise Exception('Cell is dead')\n",
        "        print(f'Клетка: {self.name}')\n",
        "\n",
        "    def die(self):\n",
        "        if self.died:\n",
        "            raise Exception('Cell is already dead')\n",
        "        self.died = True\n",
        "        cell.count -= 1\n",
        "\n",
        "    def divide(self):\n",
        "        if self.died:\n",
        "            raise Exception('Cell is dead')\n",
        "        self.die()\n",
        "        return (cell(f'{self.name}0'), cell(f'{self.name}1'))"
      ],
      "execution_count": 62,
      "outputs": []
    },
    {
      "cell_type": "code",
      "metadata": {
        "id": "NEFWVXTTMZh6",
        "colab_type": "code",
        "colab": {
          "base_uri": "https://localhost:8080/",
          "height": 71
        },
        "outputId": "b22f6368-e8be-4a17-ae23-7fb1de351d5a"
      },
      "source": [
        "c = cell('kek')\n",
        "c.hello()\n",
        "a, b = c.divide()\n",
        "a.hello()\n",
        "b.hello()"
      ],
      "execution_count": 63,
      "outputs": [
        {
          "output_type": "stream",
          "text": [
            "Клетка: kek\n",
            "Клетка: kek0\n",
            "Клетка: kek1\n"
          ],
          "name": "stdout"
        }
      ]
    },
    {
      "cell_type": "code",
      "metadata": {
        "id": "bvFMknFbM_pX",
        "colab_type": "code",
        "colab": {
          "base_uri": "https://localhost:8080/",
          "height": 296
        },
        "outputId": "67c9b5d2-444e-4d3f-ea4d-2a00b05ee440"
      },
      "source": [
        "c.die()"
      ],
      "execution_count": 64,
      "outputs": [
        {
          "output_type": "error",
          "ename": "Exception",
          "evalue": "ignored",
          "traceback": [
            "\u001b[0;31m---------------------------------------------------------------------------\u001b[0m",
            "\u001b[0;31mException\u001b[0m                                 Traceback (most recent call last)",
            "\u001b[0;32m<ipython-input-64-c0f1556f888f>\u001b[0m in \u001b[0;36m<module>\u001b[0;34m()\u001b[0m\n\u001b[0;32m----> 1\u001b[0;31m \u001b[0mc\u001b[0m\u001b[0;34m.\u001b[0m\u001b[0mdie\u001b[0m\u001b[0;34m(\u001b[0m\u001b[0;34m)\u001b[0m\u001b[0;34m\u001b[0m\u001b[0;34m\u001b[0m\u001b[0m\n\u001b[0m",
            "\u001b[0;32m<ipython-input-62-5b10a68cd815>\u001b[0m in \u001b[0;36mdie\u001b[0;34m(self)\u001b[0m\n\u001b[1;32m     14\u001b[0m     \u001b[0;32mdef\u001b[0m \u001b[0mdie\u001b[0m\u001b[0;34m(\u001b[0m\u001b[0mself\u001b[0m\u001b[0;34m)\u001b[0m\u001b[0;34m:\u001b[0m\u001b[0;34m\u001b[0m\u001b[0;34m\u001b[0m\u001b[0m\n\u001b[1;32m     15\u001b[0m         \u001b[0;32mif\u001b[0m \u001b[0mself\u001b[0m\u001b[0;34m.\u001b[0m\u001b[0mdied\u001b[0m\u001b[0;34m:\u001b[0m\u001b[0;34m\u001b[0m\u001b[0;34m\u001b[0m\u001b[0m\n\u001b[0;32m---> 16\u001b[0;31m             \u001b[0;32mraise\u001b[0m \u001b[0mException\u001b[0m\u001b[0;34m(\u001b[0m\u001b[0;34m'Cell is already dead'\u001b[0m\u001b[0;34m)\u001b[0m\u001b[0;34m\u001b[0m\u001b[0;34m\u001b[0m\u001b[0m\n\u001b[0m\u001b[1;32m     17\u001b[0m         \u001b[0mself\u001b[0m\u001b[0;34m.\u001b[0m\u001b[0mdied\u001b[0m \u001b[0;34m=\u001b[0m \u001b[0;32mTrue\u001b[0m\u001b[0;34m\u001b[0m\u001b[0;34m\u001b[0m\u001b[0m\n\u001b[1;32m     18\u001b[0m         \u001b[0mcell\u001b[0m\u001b[0;34m.\u001b[0m\u001b[0mcount\u001b[0m \u001b[0;34m-=\u001b[0m \u001b[0;36m1\u001b[0m\u001b[0;34m\u001b[0m\u001b[0;34m\u001b[0m\u001b[0m\n",
            "\u001b[0;31mException\u001b[0m: Cell is already dead"
          ]
        }
      ]
    },
    {
      "cell_type": "code",
      "metadata": {
        "id": "0qy5H3AmNBbQ",
        "colab_type": "code",
        "colab": {}
      },
      "source": [
        "b.die()"
      ],
      "execution_count": 65,
      "outputs": []
    },
    {
      "cell_type": "code",
      "metadata": {
        "id": "B6AvN2MANDQe",
        "colab_type": "code",
        "colab": {
          "base_uri": "https://localhost:8080/",
          "height": 35
        },
        "outputId": "882f7b32-c65b-4afa-867f-bb67dccdc8ba"
      },
      "source": [
        "print(cell.count)"
      ],
      "execution_count": 66,
      "outputs": [
        {
          "output_type": "stream",
          "text": [
            "1\n"
          ],
          "name": "stdout"
        }
      ]
    },
    {
      "cell_type": "markdown",
      "metadata": {
        "id": "ZXlR5sWBaMw3",
        "colab_type": "text"
      },
      "source": [
        "#### Чего в Python нет:\n",
        "    * Перегрузки функций"
      ]
    },
    {
      "cell_type": "markdown",
      "metadata": {
        "id": "wmOViO5CaMw4",
        "colab_type": "text"
      },
      "source": [
        "#### Что есть:\n",
        "    * Перегрузка операторов\n",
        "        * Арифметических\n",
        "        * Сравнения\n",
        "        * Как бинарных (+,-), так и унарных (-)\n",
        "    * Определение \"стандартных\" функций (len, str)"
      ]
    },
    {
      "cell_type": "code",
      "metadata": {
        "id": "oLUeKkCMaMw6",
        "colab_type": "code",
        "colab": {}
      },
      "source": [
        "class MyVector: \n",
        "    def __init__(self, a, b): \n",
        "        self.a = a \n",
        "        self.b = b \n",
        "    \n",
        "    def __len__(self):\n",
        "        return math.sqrt(self.a**2 + self.b**2)\n",
        "\n",
        "    # adding two objects  \n",
        "    def __add__(self, other): \n",
        "        return MyVector(self.a + other.a, self.b + other.b )\n",
        "  \n",
        "    def __neg__(self): \n",
        "        return MyVector(-self.a, -self.b)\n",
        "  \n",
        "    def __str__(self): \n",
        "        return f\"({self.a}, {self.b})\"\n",
        "    \n",
        "    def __lt__(self, other): \n",
        "        return self.__len__() < other.__len__()\n",
        "        \n",
        "    def __eq__(self, other):\n",
        "        return self.a == other.a and self.b == other.b\n"
      ],
      "execution_count": null,
      "outputs": []
    },
    {
      "cell_type": "code",
      "metadata": {
        "id": "vHjIsuq2aMxA",
        "colab_type": "code",
        "colab": {
          "base_uri": "https://localhost:8080/",
          "height": 35
        },
        "outputId": "023f689e-f5e6-4df7-be1d-f99014051603"
      },
      "source": [
        "a = MyVector(2,3)\n",
        "b = MyVector(2,3)\n",
        "c = MyVector(3,5)\n",
        "\n",
        "print(a, b, c)"
      ],
      "execution_count": null,
      "outputs": [
        {
          "output_type": "stream",
          "text": [
            "(2, 3) (2, 3) (3, 5)\n"
          ],
          "name": "stdout"
        }
      ]
    },
    {
      "cell_type": "code",
      "metadata": {
        "id": "MR0Ml47laMxI",
        "colab_type": "code",
        "colab": {
          "base_uri": "https://localhost:8080/",
          "height": 35
        },
        "outputId": "3062dbd7-8e57-42f6-8e06-e05992f19e4a"
      },
      "source": [
        "a + b"
      ],
      "execution_count": null,
      "outputs": [
        {
          "output_type": "execute_result",
          "data": {
            "text/plain": [
              "<__main__.MyVector at 0x7fc13b8268d0>"
            ]
          },
          "metadata": {
            "tags": []
          },
          "execution_count": 6
        }
      ]
    },
    {
      "cell_type": "code",
      "metadata": {
        "id": "dnYLa-_oaMxO",
        "colab_type": "code",
        "colab": {}
      },
      "source": [
        "z = b + c + c"
      ],
      "execution_count": null,
      "outputs": []
    },
    {
      "cell_type": "code",
      "metadata": {
        "id": "JpP0-ncnaMxV",
        "colab_type": "code",
        "colab": {
          "base_uri": "https://localhost:8080/",
          "height": 35
        },
        "outputId": "8e73f29a-23df-4489-e494-a27a88cf0ac7"
      },
      "source": [
        "print(z)"
      ],
      "execution_count": null,
      "outputs": [
        {
          "output_type": "stream",
          "text": [
            "(8, 13)\n"
          ],
          "name": "stdout"
        }
      ]
    },
    {
      "cell_type": "code",
      "metadata": {
        "id": "ybs2f7AwaMxa",
        "colab_type": "code",
        "colab": {
          "base_uri": "https://localhost:8080/",
          "height": 35
        },
        "outputId": "f0d42b2d-d159-4c91-9a9c-66ffd89a6262"
      },
      "source": [
        "-a"
      ],
      "execution_count": null,
      "outputs": [
        {
          "output_type": "execute_result",
          "data": {
            "text/plain": [
              "<__main__.MyVector at 0x7fc13b826ac8>"
            ]
          },
          "metadata": {
            "tags": []
          },
          "execution_count": 9
        }
      ]
    },
    {
      "cell_type": "markdown",
      "metadata": {
        "id": "CACsYWOmaMxg",
        "colab_type": "text"
      },
      "source": [
        "# Функциональное программирование"
      ]
    },
    {
      "cell_type": "markdown",
      "metadata": {
        "id": "dS12WeogaMxh",
        "colab_type": "text"
      },
      "source": [
        "## Основные принципы"
      ]
    },
    {
      "cell_type": "markdown",
      "metadata": {
        "id": "9xwcIGASaMxi",
        "colab_type": "text"
      },
      "source": [
        "__\"Чистое\" функциональное программирование__<br>\n",
        "\n",
        "* Функциональное программирование основано на испольовании функций и их композиций\n",
        "* Переменные отсутствуют, только константы\n",
        "* Используются только неизменяемые структуры данных\n",
        "* Нет циклов, нелокальных переходов и исключений\n",
        "* Нет побочных эффектов. Для операций с побочными эффектами используются монады"
      ]
    },
    {
      "cell_type": "markdown",
      "metadata": {
        "id": "JXDFSv0aaMxl",
        "colab_type": "text"
      },
      "source": [
        "В начале оно кажется очень сложным и непонятным ..."
      ]
    },
    {
      "cell_type": "markdown",
      "metadata": {
        "id": "m6zkKUq5aMxn",
        "colab_type": "text"
      },
      "source": [
        "### Чистота функций\n",
        "* функция возвращает одинаковый результат при одинаковых значениях аргументов\n",
        "* у функции отсутствуют побочные эффекты -> не зависит от контекста\n"
      ]
    },
    {
      "cell_type": "code",
      "metadata": {
        "id": "n6idZBH5aMxo",
        "colab_type": "code",
        "colab": {}
      },
      "source": [
        "def pure_func(x):\n",
        "    return 2 * 3.1415926 * x \n",
        "\n",
        "y = 2\n",
        " \n",
        "def impure_func(x):\n",
        "    y = y + 2 * 3.1415926 * x\n",
        "    return y"
      ],
      "execution_count": null,
      "outputs": []
    },
    {
      "cell_type": "markdown",
      "metadata": {
        "id": "fYk5EdgKaMxt",
        "colab_type": "text"
      },
      "source": [
        "### Следствия\n",
        "* могут выполняться (оцениваться) в любом порядке\n",
        "* удобны для параллельного выполнения<br>"
      ]
    },
    {
      "cell_type": "markdown",
      "metadata": {
        "id": "piPK_h_iaMxu",
        "colab_type": "text"
      },
      "source": [
        "### Вызов чистой функции всегда может быть заменен на результат (ссылочная прозрачность)\n",
        "* проще  тестирование (функция \"изолирована\")\n",
        "* читаемость (не надо анализировать другие функции)\n",
        "* возможность анализа и валидации кода"
      ]
    },
    {
      "cell_type": "markdown",
      "metadata": {
        "id": "draiqvptaMxv",
        "colab_type": "text"
      },
      "source": [
        "### Первоклассные функции"
      ]
    },
    {
      "cell_type": "markdown",
      "metadata": {
        "id": "cPO8WUvdaMxx",
        "colab_type": "text"
      },
      "source": [
        "* Функции имеют те же свойства, что и остальные значения\n",
        "* Им пожно присвоить имя или присвоить их объекту\n",
        "* Их можно передать, как аргумент функции\n",
        "* Их можно возвращать"
      ]
    },
    {
      "cell_type": "markdown",
      "metadata": {
        "id": "qsBnoHuYaMxy",
        "colab_type": "text"
      },
      "source": [
        "## <font color=red>ЗАДАНИЕ</font>"
      ]
    },
    {
      "cell_type": "markdown",
      "metadata": {
        "id": "8PzIHI-vaMxz",
        "colab_type": "text"
      },
      "source": [
        "Реализуйте класс, принимающий имя функции в виде строки и функцию, связанную с этой строкой. <br>\n",
        "При выполнении метода __execute__ с кодом и переменной или значением выполняет функцию, связанную с кодом.<br>\n",
        "Если кода нет, то методы генерирует прерывание __KeyError__"
      ]
    },
    {
      "cell_type": "code",
      "metadata": {
        "id": "lnZc1s2KaMxz",
        "colab_type": "code",
        "colab": {}
      },
      "source": [
        "class FDict():\n",
        "    def __init__(self):\n",
        "        self.funcs = dict()\n",
        "\n",
        "    # добавляет функцию с кодом\n",
        "    def add(self, code, func):\n",
        "        self.funcs[code] = func\n",
        "    \n",
        "    # удаляет функцию по коду\n",
        "    def remove(self, code):\n",
        "        if code not in self.funcs:\n",
        "            raise KeyError('Func doesnt exist')\n",
        "        self.funcs.pop(code)\n",
        "\n",
        "    # выполняет функцию с аргументом\n",
        "    def execute(self, code, arg):\n",
        "        if code not in self.funcs:\n",
        "            raise KeyError('Func doesnt exist')\n",
        "        return self.funcs[code](arg)\n",
        "    \n",
        "    # возвращает функцию по коду\n",
        "    def get_func(self, code):\n",
        "        if code not in self.funcs:\n",
        "            raise KeyError('Func doesnt exist')\n",
        "        return self.funcs[code]\n",
        "    \n",
        "    # получает 2*N аргументов (код, значение, код, значение ..) и возвращает кортеж из значений\n",
        "    def execute_many(self, *args):\n",
        "        return tuple(self.funcs[i](j) for i, j in zip(args[::2], args[1::2]) if i in self.funcs)"
      ],
      "execution_count": 2,
      "outputs": []
    },
    {
      "cell_type": "markdown",
      "metadata": {
        "id": "4jDil-KdaMx3",
        "colab_type": "text"
      },
      "source": [
        "Проверьте функционирование Вашего кода. Проверьте работу с отсутствующим кодом и добавьте обработку исключения."
      ]
    },
    {
      "cell_type": "code",
      "metadata": {
        "id": "y4kRtREqaMx4",
        "colab_type": "code",
        "colab": {
          "base_uri": "https://localhost:8080/",
          "height": 53
        },
        "outputId": "f618603c-fb40-4271-983e-d44eabb74996"
      },
      "source": [
        "import math\n",
        "from math import sin, cos\n",
        "\n",
        "x = math.pi / 3\n",
        "\n",
        "func_dict = FDict()\n",
        "func_dict.add('sin', math.sin)\n",
        "func_dict.add('cos', math.cos)\n",
        "\n",
        "y1 = func_dict.execute('sin', x)\n",
        "y2 = func_dict.execute('cos', x)\n",
        "\n",
        "print(\"1. sin({0:.4f})={1:.4f}, cos({0:.4f})={2:.4f}\".format(x, y1, y2))\n",
        "\n",
        "y1, y2 = func_dict.execute_many('sin', x*2, 'cos', x*3)\n",
        "print(\"2. sin({0:4f})={1:4f}, cos({0:4f})={2:4f}\".format(x, y1, y2))"
      ],
      "execution_count": 3,
      "outputs": [
        {
          "output_type": "stream",
          "text": [
            "1. sin(1.0472)=0.8660, cos(1.0472)=0.5000\n",
            "2. sin(1.047198)=0.866025, cos(1.047198)=-1.000000\n"
          ],
          "name": "stdout"
        }
      ]
    },
    {
      "cell_type": "markdown",
      "metadata": {
        "id": "T-B3V_P7aMx8",
        "colab_type": "text"
      },
      "source": [
        "### Лямбда-функции (анонимные функции)"
      ]
    },
    {
      "cell_type": "code",
      "metadata": {
        "id": "mcBoVOiyaMx-",
        "colab_type": "code",
        "colab": {
          "base_uri": "https://localhost:8080/",
          "height": 35
        },
        "outputId": "23fd7c40-16cb-418a-b011-32c39aac6c75"
      },
      "source": [
        "f = lambda x, y: sin(x**2) + cos(y**2)\n",
        "\n",
        "def func(x,y):\n",
        "    return sin(x**2) + cos(y**2)\n",
        "\n",
        "f(math.pi/2, math.pi/2)"
      ],
      "execution_count": 4,
      "outputs": [
        {
          "output_type": "execute_result",
          "data": {
            "text/plain": [
              "-0.15694593947078894"
            ]
          },
          "metadata": {
            "tags": []
          },
          "execution_count": 4
        }
      ]
    },
    {
      "cell_type": "markdown",
      "metadata": {
        "id": "3cNfQ6rJaMyE",
        "colab_type": "text"
      },
      "source": [
        "## <font color=green>ВСПОМИНАЕМ</font> генераторы списков, словарей и просто генераторы"
      ]
    },
    {
      "cell_type": "code",
      "metadata": {
        "id": "3HJ2Rfs5aMyF",
        "colab_type": "code",
        "colab": {},
        "outputId": "5e58aee5-961c-44ba-8ca0-c15860a29e27"
      },
      "source": [
        "import math\n",
        "\n",
        "even_square_roots = [(lambda x: math.sqrt(x))(x) for x in range(37) if x % 2 == 0]\n",
        "even_square_roots\n"
      ],
      "execution_count": null,
      "outputs": [
        {
          "output_type": "execute_result",
          "data": {
            "text/plain": [
              "[0.0,\n",
              " 1.4142135623730951,\n",
              " 2.0,\n",
              " 2.449489742783178,\n",
              " 2.8284271247461903,\n",
              " 3.1622776601683795,\n",
              " 3.4641016151377544,\n",
              " 3.7416573867739413,\n",
              " 4.0,\n",
              " 4.242640687119285,\n",
              " 4.47213595499958,\n",
              " 4.69041575982343,\n",
              " 4.898979485566356,\n",
              " 5.0990195135927845,\n",
              " 5.291502622129181,\n",
              " 5.477225575051661,\n",
              " 5.656854249492381,\n",
              " 5.830951894845301,\n",
              " 6.0]"
            ]
          },
          "metadata": {
            "tags": []
          },
          "execution_count": 23
        }
      ]
    },
    {
      "cell_type": "markdown",
      "metadata": {
        "id": "dx0AZhzKaMyK",
        "colab_type": "text"
      },
      "source": [
        "## <font color=red>ЗАДАНИЕ</font>"
      ]
    },
    {
      "cell_type": "markdown",
      "metadata": {
        "id": "xC3OOI7aaMyK",
        "colab_type": "text"
      },
      "source": [
        "1. Преобразуйте этот код в формирование словаря, в котором число - ключ, а корень из него - значение"
      ]
    },
    {
      "cell_type": "code",
      "metadata": {
        "id": "VAdpRIrzaMyK",
        "colab_type": "code",
        "colab": {
          "base_uri": "https://localhost:8080/",
          "height": 678
        },
        "outputId": "99897fbe-2d4f-4460-c8f0-ac53b9909aea"
      },
      "source": [
        "## Ваш код\n",
        "{i : i**2 for i in range(37)}"
      ],
      "execution_count": 5,
      "outputs": [
        {
          "output_type": "execute_result",
          "data": {
            "text/plain": [
              "{0: 0,\n",
              " 1: 1,\n",
              " 2: 4,\n",
              " 3: 9,\n",
              " 4: 16,\n",
              " 5: 25,\n",
              " 6: 36,\n",
              " 7: 49,\n",
              " 8: 64,\n",
              " 9: 81,\n",
              " 10: 100,\n",
              " 11: 121,\n",
              " 12: 144,\n",
              " 13: 169,\n",
              " 14: 196,\n",
              " 15: 225,\n",
              " 16: 256,\n",
              " 17: 289,\n",
              " 18: 324,\n",
              " 19: 361,\n",
              " 20: 400,\n",
              " 21: 441,\n",
              " 22: 484,\n",
              " 23: 529,\n",
              " 24: 576,\n",
              " 25: 625,\n",
              " 26: 676,\n",
              " 27: 729,\n",
              " 28: 784,\n",
              " 29: 841,\n",
              " 30: 900,\n",
              " 31: 961,\n",
              " 32: 1024,\n",
              " 33: 1089,\n",
              " 34: 1156,\n",
              " 35: 1225,\n",
              " 36: 1296}"
            ]
          },
          "metadata": {
            "tags": []
          },
          "execution_count": 5
        }
      ]
    },
    {
      "cell_type": "markdown",
      "metadata": {
        "id": "5JHJ07MAaMyO",
        "colab_type": "text"
      },
      "source": [
        "2. Преобразуйте этот код в формирование генератора и пройтиде по нему с помощью цикла for"
      ]
    },
    {
      "cell_type": "code",
      "metadata": {
        "id": "h9bRJNzIaMyO",
        "colab_type": "code",
        "colab": {
          "base_uri": "https://localhost:8080/",
          "height": 678
        },
        "outputId": "84efd8d5-bbd3-46d0-81d2-d114d5214157"
      },
      "source": [
        "## Ваш код\n",
        "def sqrt_gen(n):\n",
        "    for i in range(n):\n",
        "        yield i, i**2\n",
        "\n",
        "for i, j in sqrt_gen(37):\n",
        "    print(i, j)"
      ],
      "execution_count": 6,
      "outputs": [
        {
          "output_type": "stream",
          "text": [
            "0 0\n",
            "1 1\n",
            "2 4\n",
            "3 9\n",
            "4 16\n",
            "5 25\n",
            "6 36\n",
            "7 49\n",
            "8 64\n",
            "9 81\n",
            "10 100\n",
            "11 121\n",
            "12 144\n",
            "13 169\n",
            "14 196\n",
            "15 225\n",
            "16 256\n",
            "17 289\n",
            "18 324\n",
            "19 361\n",
            "20 400\n",
            "21 441\n",
            "22 484\n",
            "23 529\n",
            "24 576\n",
            "25 625\n",
            "26 676\n",
            "27 729\n",
            "28 784\n",
            "29 841\n",
            "30 900\n",
            "31 961\n",
            "32 1024\n",
            "33 1089\n",
            "34 1156\n",
            "35 1225\n",
            "36 1296\n"
          ],
          "name": "stdout"
        }
      ]
    },
    {
      "cell_type": "markdown",
      "metadata": {
        "id": "WjJqrG_laMyV",
        "colab_type": "text"
      },
      "source": [
        "### Функции для работы с итерируемыми"
      ]
    },
    {
      "cell_type": "markdown",
      "metadata": {
        "id": "nc80ayzbaMyX",
        "colab_type": "text"
      },
      "source": [
        "```python\n",
        "    map()\n",
        "    filter()\n",
        "    reduce()\n",
        "```"
      ]
    },
    {
      "cell_type": "markdown",
      "metadata": {
        "id": "TqmceiMWaMyX",
        "colab_type": "text"
      },
      "source": [
        "__map__ - выполняет функцию над всеми элементами итерируемого"
      ]
    },
    {
      "cell_type": "code",
      "metadata": {
        "id": "h1VC_8anaMyZ",
        "colab_type": "code",
        "colab": {},
        "outputId": "ee163d55-ddaf-428c-bf2c-7ceba4eddf2b"
      },
      "source": [
        "squared =  map(lambda x: x**2, [1,2,3])\n",
        "squared"
      ],
      "execution_count": null,
      "outputs": [
        {
          "output_type": "execute_result",
          "data": {
            "text/plain": [
              "<map at 0x7f8745c20320>"
            ]
          },
          "metadata": {
            "tags": []
          },
          "execution_count": 39
        }
      ]
    },
    {
      "cell_type": "code",
      "metadata": {
        "id": "EiZDGVTJaMyf",
        "colab_type": "code",
        "colab": {},
        "outputId": "054da89f-8e15-4b1a-e3a3-c2838740f137"
      },
      "source": [
        "type(squared)"
      ],
      "execution_count": null,
      "outputs": [
        {
          "output_type": "execute_result",
          "data": {
            "text/plain": [
              "map"
            ]
          },
          "metadata": {
            "tags": []
          },
          "execution_count": 40
        }
      ]
    },
    {
      "cell_type": "code",
      "metadata": {
        "id": "fieqOqDqaMyh",
        "colab_type": "code",
        "colab": {},
        "outputId": "e5eaf283-e91d-4f4d-eb47-c7a3a14d9f83"
      },
      "source": [
        "x = (i for i in range(10))\n",
        "type(x)"
      ],
      "execution_count": null,
      "outputs": [
        {
          "output_type": "execute_result",
          "data": {
            "text/plain": [
              "generator"
            ]
          },
          "metadata": {
            "tags": []
          },
          "execution_count": 41
        }
      ]
    },
    {
      "cell_type": "code",
      "metadata": {
        "id": "K04GoeeGaMym",
        "colab_type": "code",
        "colab": {},
        "outputId": "228dbbfb-2e4c-412f-e59f-67a17d2870ad"
      },
      "source": [
        "isinstance(squared, map)"
      ],
      "execution_count": null,
      "outputs": [
        {
          "output_type": "execute_result",
          "data": {
            "text/plain": [
              "True"
            ]
          },
          "metadata": {
            "tags": []
          },
          "execution_count": 43
        }
      ]
    },
    {
      "cell_type": "markdown",
      "metadata": {
        "id": "jFbRkc3daMyq",
        "colab_type": "text"
      },
      "source": [
        "__<font color=blue>??</font>__ Какой тип возвращает __map__? Почему?"
      ]
    },
    {
      "cell_type": "markdown",
      "metadata": {
        "id": "HBvt6GF_aMyq",
        "colab_type": "text"
      },
      "source": [
        "## <font color=red>ЗАДАНИЕ</font>"
      ]
    },
    {
      "cell_type": "markdown",
      "metadata": {
        "id": "o59MsLbhaMys",
        "colab_type": "text"
      },
      "source": [
        "Найдите длину самой длинной строки в списке с помощью __map__"
      ]
    },
    {
      "cell_type": "code",
      "metadata": {
        "id": "VMttXo4gaMys",
        "colab_type": "code",
        "colab": {}
      },
      "source": [
        "l = ['abc', 'xyz', 'ab', 'qwer', 'trench', 'm', '17', 'www.mai.ru', 'd', 'plot']"
      ],
      "execution_count": 7,
      "outputs": []
    },
    {
      "cell_type": "code",
      "metadata": {
        "id": "_HZmu2VeaMyv",
        "colab_type": "code",
        "colab": {
          "base_uri": "https://localhost:8080/",
          "height": 35
        },
        "outputId": "49a9d2c6-9400-4867-a856-55559083e296"
      },
      "source": [
        "# Ваш код\n",
        "max(map(lambda x: len(x), l))"
      ],
      "execution_count": 9,
      "outputs": [
        {
          "output_type": "execute_result",
          "data": {
            "text/plain": [
              "10"
            ]
          },
          "metadata": {
            "tags": []
          },
          "execution_count": 9
        }
      ]
    },
    {
      "cell_type": "markdown",
      "metadata": {
        "id": "tDlUc2hfaMy0",
        "colab_type": "text"
      },
      "source": [
        "__filter__ - возвращает те значения из итерируемого, для которых верна функция"
      ]
    },
    {
      "cell_type": "code",
      "metadata": {
        "id": "NnOt6qrnaMy1",
        "colab_type": "code",
        "colab": {},
        "outputId": "8309718e-d17a-42b8-f956-86017150460e"
      },
      "source": [
        "even = list(filter(lambda x:x % 2 == 0, range(20)))\n",
        "even"
      ],
      "execution_count": null,
      "outputs": [
        {
          "output_type": "execute_result",
          "data": {
            "text/plain": [
              "[0, 2, 4, 6, 8, 10, 12, 14, 16, 18]"
            ]
          },
          "metadata": {
            "tags": []
          },
          "execution_count": 44
        }
      ]
    },
    {
      "cell_type": "markdown",
      "metadata": {
        "id": "_e1-P3_AaMy5",
        "colab_type": "text"
      },
      "source": [
        "## <font color=red>ЗАДАНИЕ</font>"
      ]
    },
    {
      "cell_type": "markdown",
      "metadata": {
        "id": "7xPjZsKiaMy5",
        "colab_type": "text"
      },
      "source": [
        "Найдите все строки, в которых присутствует буква __'a'__"
      ]
    },
    {
      "cell_type": "code",
      "metadata": {
        "id": "Jj3M1BbKaMy5",
        "colab_type": "code",
        "colab": {
          "base_uri": "https://localhost:8080/",
          "height": 35
        },
        "outputId": "eb47c678-2988-4ded-89ad-b7e2625bd331"
      },
      "source": [
        "# Ваш код\n",
        "list(filter(lambda x: 'a' in x, l))"
      ],
      "execution_count": 11,
      "outputs": [
        {
          "output_type": "execute_result",
          "data": {
            "text/plain": [
              "['abc', 'ab', 'www.mai.ru']"
            ]
          },
          "metadata": {
            "tags": []
          },
          "execution_count": 11
        }
      ]
    },
    {
      "cell_type": "markdown",
      "metadata": {
        "id": "rufUnlD_aMzC",
        "colab_type": "text"
      },
      "source": [
        "__reduce()__ - сворачивает итерируемое в одно значение<br>\n",
        "В отличие от map и filter у функции 2 аргумента"
      ]
    },
    {
      "cell_type": "code",
      "metadata": {
        "id": "187C36TraMzE",
        "colab_type": "code",
        "colab": {}
      },
      "source": [
        "from functools import reduce"
      ],
      "execution_count": 12,
      "outputs": []
    },
    {
      "cell_type": "code",
      "metadata": {
        "id": "6ge1qXMhaMzH",
        "colab_type": "code",
        "colab": {
          "base_uri": "https://localhost:8080/",
          "height": 35
        },
        "outputId": "54c523b8-ea07-4e04-8487-8f1225804652"
      },
      "source": [
        "values = list(range(10))\n",
        "summed = reduce( lambda x,y: x+y, values)\n",
        "summed"
      ],
      "execution_count": 13,
      "outputs": [
        {
          "output_type": "execute_result",
          "data": {
            "text/plain": [
              "45"
            ]
          },
          "metadata": {
            "tags": []
          },
          "execution_count": 13
        }
      ]
    },
    {
      "cell_type": "markdown",
      "metadata": {
        "id": "X9gMUyc4aMzM",
        "colab_type": "text"
      },
      "source": [
        "## <font color=red>ЗАДАНИЕ</font>"
      ]
    },
    {
      "cell_type": "markdown",
      "metadata": {
        "id": "7I6cxQxUaMzN",
        "colab_type": "text"
      },
      "source": [
        "Верните самую длинную строку из списка с помощью reduce<br><br>\n",
        "__<font color=green>Уложившимся в 1 строку с lambda-функцией - 1 балл</font>__"
      ]
    },
    {
      "cell_type": "code",
      "metadata": {
        "id": "jN5ayAOPaMzN",
        "colab_type": "code",
        "colab": {
          "base_uri": "https://localhost:8080/",
          "height": 35
        },
        "outputId": "f71cb5c5-28d3-4eb2-8571-eb8311106e24"
      },
      "source": [
        "# Ваш код\n",
        "reduce(lambda x, y: x if len(x) > len(y) else y, l)"
      ],
      "execution_count": 14,
      "outputs": [
        {
          "output_type": "execute_result",
          "data": {
            "application/vnd.google.colaboratory.intrinsic+json": {
              "type": "string"
            },
            "text/plain": [
              "'www.mai.ru'"
            ]
          },
          "metadata": {
            "tags": []
          },
          "execution_count": 14
        }
      ]
    },
    {
      "cell_type": "markdown",
      "metadata": {
        "id": "JcDOp02raMzR",
        "colab_type": "text"
      },
      "source": [
        "### Ещё полезности из __functools__"
      ]
    },
    {
      "cell_type": "markdown",
      "metadata": {
        "id": "KvDqI66saMzT",
        "colab_type": "text"
      },
      "source": [
        "__functools__ - работа с функциями высшего порядка, то есть функциями, которые работают с функциями\n",
        "или возвращают другие функции"
      ]
    },
    {
      "cell_type": "code",
      "metadata": {
        "id": "e_7OiPD7aMzU",
        "colab_type": "code",
        "colab": {}
      },
      "source": [
        "from functools import partial"
      ],
      "execution_count": null,
      "outputs": []
    },
    {
      "cell_type": "code",
      "metadata": {
        "id": "NHzMlD5FaMzY",
        "colab_type": "code",
        "colab": {},
        "outputId": "93a72c76-e4a7-487b-ac0c-ba89a1913eb8"
      },
      "source": [
        "def f(a, b, c):\n",
        "    return a + b + c\n",
        "\n",
        "f(1, 2, 3)"
      ],
      "execution_count": null,
      "outputs": [
        {
          "output_type": "execute_result",
          "data": {
            "text/plain": [
              "6"
            ]
          },
          "metadata": {
            "tags": []
          },
          "execution_count": 47
        }
      ]
    },
    {
      "cell_type": "code",
      "metadata": {
        "id": "6BNdK10QaMzb",
        "colab_type": "code",
        "colab": {},
        "outputId": "7922240a-6baa-4ab4-c90e-67a92064a0ee"
      },
      "source": [
        "part_f = partial(f, 100)\n",
        "part_f(4, 5)"
      ],
      "execution_count": null,
      "outputs": [
        {
          "output_type": "execute_result",
          "data": {
            "text/plain": [
              "109"
            ]
          },
          "metadata": {
            "tags": []
          },
          "execution_count": 48
        }
      ]
    },
    {
      "cell_type": "code",
      "metadata": {
        "id": "jGfc6A27aMzg",
        "colab_type": "code",
        "colab": {},
        "outputId": "18c74272-62ee-40cf-ad7f-d7e7bcd3877c"
      },
      "source": [
        "part_f = partial(f, b=10)\n",
        "part_f(a=4, c=5)"
      ],
      "execution_count": null,
      "outputs": [
        {
          "output_type": "execute_result",
          "data": {
            "text/plain": [
              "19"
            ]
          },
          "metadata": {
            "tags": []
          },
          "execution_count": 51
        }
      ]
    },
    {
      "cell_type": "markdown",
      "metadata": {
        "id": "6XF5neEXaMzk",
        "colab_type": "text"
      },
      "source": [
        "## <font color=red>ДОМАШНЕЕ ЗАДАНИЕ</font>"
      ]
    },
    {
      "cell_type": "markdown",
      "metadata": {
        "id": "OF0tCZOeaMzl",
        "colab_type": "text"
      },
      "source": [
        "Сделайте класс бинарного дерева, который наполняется строками. <br>\n",
        "Все функции добавления, поиска, удаления, длины должны быть рекурсивными<br><br>\n",
        "<font color=red>__deadline - 18:00 27.09__</font>"
      ]
    },
    {
      "cell_type": "code",
      "metadata": {
        "id": "-qLjJ_k8aMzl",
        "colab_type": "code",
        "colab": {}
      },
      "source": [
        "from difflib import ndiff\n",
        "\n",
        "\n",
        "class Node:\n",
        "    def __init__(self, key):\n",
        "        self.key = key\n",
        "        self.left = None\n",
        "        self.right = None\n",
        "\n",
        "class StrBinTree:\n",
        "    '''\n",
        "    Класс бинарного дерева с функциями поиска и выдачи расстояния до ближайшей сохраненной строки:\n",
        "     '''\n",
        "    def __init__(self):\n",
        "        self.root = None\n",
        "        self.size = 0\n",
        "    \n",
        "    def add(self, s):\n",
        "        '''\n",
        "        добавляет строку в дерево\n",
        "        '''\n",
        "        if self.root is None:\n",
        "            self.root = Node(s)\n",
        "        else:\n",
        "            self.root = self._insert(self.root, s)\n",
        "        self.size += 1\n",
        "    \n",
        "    # Каков смысл этой функции?\n",
        "    def __add__(self, s):\n",
        "        '''\n",
        "        переопределение операции сложения\n",
        "        '''\n",
        "        add(self, s)\n",
        "    \n",
        "    def isin(self, s):\n",
        "        '''\n",
        "        возвращает True, если есть точно такая же строка, или False, если её нет\n",
        "        '''\n",
        "        return self._search(self.root, s)\n",
        "        \n",
        "    def remove(self, s):\n",
        "        '''\n",
        "        удаляет строку. Удаление производится только в случае точного совпадения\n",
        "        строки с указанной. Возвращает 0, если удаление выполнено, и 1 в остальных случаях\n",
        "        '''\n",
        "        if not self.isin(s):\n",
        "            return 1\n",
        "        self.root = self._remove(self.root, s)\n",
        "        self.size -= 1\n",
        "        return 0\n",
        "        \n",
        "    def get(self, s):\n",
        "        '''\n",
        "        возвращает ближайшую с лексической точки зрения строку и расстояние строки-аргумента\n",
        "        до нее\n",
        "        '''\n",
        "        neighbor = None\n",
        "        nearest = self._nearest_node(self.root, s, neighbor).key\n",
        "        return nearest, self._dist(s, nearest)\n",
        "\n",
        "    def __len__(self):\n",
        "        '''\n",
        "        возвращает количество строк в дереве\n",
        "        '''\n",
        "        return self.size\n",
        "    \n",
        "    def to_list(self):\n",
        "        '''\n",
        "        возвращает все строки в виде упорядоченного списка\n",
        "        '''\n",
        "        all_nodes = []\n",
        "        self._inorder(self.root, all_nodes)\n",
        "        return all_nodes\n",
        "\n",
        "    def _insert(self, node, key):\n",
        "        if node is None:\n",
        "            return Node(key)\n",
        "        elif node.key <= key:\n",
        "            node.right = self._insert(node.right, key)\n",
        "        else:\n",
        "            node.left = self._insert(node.left, key)\n",
        "        return node\n",
        "\n",
        "    def _search(self, node, key):\n",
        "        if node is None:\n",
        "            return False\n",
        "        elif node.key < key:\n",
        "            return self._search(node.right, key)\n",
        "        elif node.key > key:\n",
        "            return self._search(node.left, key)\n",
        "        return True\n",
        "\n",
        "    def _find_predecessor(self, node):\n",
        "        while node.left is not None:\n",
        "            node = node.left\n",
        "        return node\n",
        "\n",
        "    def _remove(self, node, key):\n",
        "        if node is None:\n",
        "            return None\n",
        "        elif node.key < key:\n",
        "            node.right = self._remove(node.right, key)\n",
        "        elif node.key > key:\n",
        "            node.left = self._remove(node.left, key)\n",
        "        else:\n",
        "            if node.left and node.right:\n",
        "                pred = self._find_predecessor(node.right)\n",
        "                node.key = pred.key\n",
        "                node.right = self._remove(node.right, pred.key)\n",
        "            elif node.left:\n",
        "                node.key = node.left.key\n",
        "                node.right = node.left.right\n",
        "                node.left = node.left.left\n",
        "            elif node.right:\n",
        "                node.key = node.right.key\n",
        "                node.left = node.right.left\n",
        "                node.right = node.right.right\n",
        "            else:\n",
        "                del node\n",
        "                return None\n",
        "            return node\n",
        "\n",
        "    def _inorder(self, node, lst):\n",
        "        if node is None:\n",
        "            return None\n",
        "        self._inorder(node.left, lst)\n",
        "        lst.append(node.key)\n",
        "        self._inorder(node.right, lst)\n",
        "\n",
        "    def _dist(self, key1, key2):\n",
        "        return sum([1 for diff in ndiff(key1, key2) if '+' in diff or '-' in diff])\n",
        "\n",
        "    def _nearest_node(self, node, key, neighbor):\n",
        "        if node is None:\n",
        "          return neighbor\n",
        "\n",
        "        if node.key == key:\n",
        "            return node\n",
        "\n",
        "        if neighbor is None or self._dist(node.key, key) < self._dist(neighbor.key, key):\n",
        "            neighbor = node\n",
        "\n",
        "        if key < node.key:\n",
        "            return self._nearest_node(node.left, key, neighbor)\n",
        "        else:\n",
        "            return self._nearest_node(node.right, key, neighbor)"
      ],
      "execution_count": 41,
      "outputs": []
    },
    {
      "cell_type": "code",
      "metadata": {
        "id": "Wi4BOs-bEell",
        "colab_type": "code",
        "colab": {}
      },
      "source": [
        "import random\n",
        "import string\n",
        "\n",
        "\n",
        "def random_strings(n=1000):\n",
        "    letters = string.ascii_lowercase\n",
        "    res = []\n",
        "    for _ in range(n):\n",
        "        str_len = random.randint(3, 8)\n",
        "        res.append(''.join(random.choice(letters) for _ in range(str_len)))\n",
        "    return res"
      ],
      "execution_count": 32,
      "outputs": []
    },
    {
      "cell_type": "code",
      "metadata": {
        "id": "VaMGbfwoEjCS",
        "colab_type": "code",
        "colab": {}
      },
      "source": [
        "bst = StrBinTree()\n",
        "keys = random_strings()\n",
        "for i in keys:\n",
        "    bst.add(i)"
      ],
      "execution_count": 44,
      "outputs": []
    },
    {
      "cell_type": "code",
      "metadata": {
        "id": "IWIo4KfmFl3m",
        "colab_type": "code",
        "colab": {
          "base_uri": "https://localhost:8080/",
          "height": 71
        },
        "outputId": "76c97167-6da3-4966-e941-f69f97617e5d"
      },
      "source": [
        "word, dist = bst.get('kek')\n",
        "print(word, dist)\n",
        "print(bst.isin(word))\n",
        "bst.remove(word)\n",
        "print(bst.isin(word))"
      ],
      "execution_count": 45,
      "outputs": [
        {
          "output_type": "stream",
          "text": [
            "kec 2\n",
            "True\n",
            "False\n"
          ],
          "name": "stdout"
        }
      ]
    },
    {
      "cell_type": "code",
      "metadata": {
        "id": "mb9e8I4EaMzo",
        "colab_type": "code",
        "colab": {
          "base_uri": "https://localhost:8080/",
          "height": 767
        },
        "outputId": "e3ddacd7-bbd3-4feb-a1fb-3f4f493aa623"
      },
      "source": [
        "help( StrBinTree)"
      ],
      "execution_count": 16,
      "outputs": [
        {
          "output_type": "stream",
          "text": [
            "Help on class StrBinTree in module __main__:\n",
            "\n",
            "class StrBinTree(builtins.object)\n",
            " |  Класс бинарного дерева с функциями поиска и выдачи расстояния до ближайшей сохраненной строки:\n",
            " |  \n",
            " |  Methods defined here:\n",
            " |  \n",
            " |  __add__(self, s)\n",
            " |      переопределение операции сложения\n",
            " |  \n",
            " |  __init__(self)\n",
            " |      Initialize self.  See help(type(self)) for accurate signature.\n",
            " |  \n",
            " |  __len__(self)\n",
            " |      возвращает количество строк в дереве\n",
            " |  \n",
            " |  add(self, s)\n",
            " |      добавляет строку в дерево\n",
            " |  \n",
            " |  get(self, s)\n",
            " |      возвращает ближайшую с лексической точки зрения строку и расстояние строки-аргумента\n",
            " |      до нее\n",
            " |  \n",
            " |  isin(self, s)\n",
            " |      возвращает True, если есть точно такая же строка, или False, если её нет\n",
            " |  \n",
            " |  remove(self, s)\n",
            " |      удаляет строку. Удаление производится только в случае точного совпадения\n",
            " |      строки с указанной. Возвращает 0, если удаление выполнено, и 1 в остальных случаях\n",
            " |  \n",
            " |  to_list(self)\n",
            " |      возвращает все строки в виде упорядоченного списка\n",
            " |  \n",
            " |  ----------------------------------------------------------------------\n",
            " |  Data descriptors defined here:\n",
            " |  \n",
            " |  __dict__\n",
            " |      dictionary for instance variables (if defined)\n",
            " |  \n",
            " |  __weakref__\n",
            " |      list of weak references to the object (if defined)\n",
            "\n"
          ],
          "name": "stdout"
        }
      ]
    },
    {
      "cell_type": "markdown",
      "metadata": {
        "id": "HdiNe6YDaMzu",
        "colab_type": "text"
      },
      "source": [
        "ДЗ посылать по адресу __mai-ml AT mail.ru__"
      ]
    },
    {
      "cell_type": "markdown",
      "metadata": {
        "id": "I70qQRpzaMzu",
        "colab_type": "text"
      },
      "source": [
        "## Экзаменационные вопросы:"
      ]
    },
    {
      "cell_type": "markdown",
      "metadata": {
        "id": "u79ZOFXHaMzv",
        "colab_type": "text"
      },
      "source": [
        "* Объектно-оринетированное программирование. Основные положения\n",
        "* Классы и объекты в Python\n",
        "* Функциональное программирование. Основные положения\n",
        "* Функциональное программирование в Python\n",
        "* Генераторы списков, словарей и просто генераторы\n",
        "* Функции отображения: map, filter, reduce"
      ]
    },
    {
      "cell_type": "markdown",
      "metadata": {
        "id": "Bh9-4Rt-aMzw",
        "colab_type": "text"
      },
      "source": [
        "### К следующему занятию п(р)очитать:\n"
      ]
    },
    {
      "cell_type": "markdown",
      "metadata": {
        "id": "mtN55kGNaMzw",
        "colab_type": "text"
      },
      "source": [
        "* что такое объектно ориентированное програмирование\n",
        "* что такое функциональное программирование"
      ]
    }
  ]
}