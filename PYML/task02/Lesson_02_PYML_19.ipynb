{
  "nbformat": 4,
  "nbformat_minor": 0,
  "metadata": {
    "kernelspec": {
      "display_name": "Python 3",
      "language": "python",
      "name": "python3"
    },
    "language_info": {
      "codemirror_mode": {
        "name": "ipython",
        "version": 3
      },
      "file_extension": ".py",
      "mimetype": "text/x-python",
      "name": "python",
      "nbconvert_exporter": "python",
      "pygments_lexer": "ipython3",
      "version": "3.6.8"
    },
    "colab": {
      "name": "Lesson_02_PYML_19.ipynb",
      "provenance": []
    }
  },
  "cells": [
    {
      "cell_type": "markdown",
      "metadata": {
        "id": "O8AtiWCRvOdD",
        "colab_type": "text"
      },
      "source": [
        "<center>\n",
        "\n",
        "# Курс \"Основы Python для анализа данных\"\n",
        "\n",
        "## Артамонов Игорь Михайлович\n",
        "## Факультет \"Прикладная математика\" МАИ\n",
        "\n",
        "### Занятие № 2.  Основные типы данных. Обработка исключений.\n",
        "\n",
        "</center>\n"
      ]
    },
    {
      "cell_type": "markdown",
      "metadata": {
        "id": "2sltGnZovOdK",
        "colab_type": "text"
      },
      "source": [
        "## Общение / вопросы по курсу\n",
        "\n",
        "Платформа для групповой работы Atlassian Confluence факультета \"Прикладная математика\"\n",
        "\n",
        "https://mai.moscow/display/PYTML"
      ]
    },
    {
      "cell_type": "markdown",
      "metadata": {
        "id": "YY9wt7xSvOdN",
        "colab_type": "text"
      },
      "source": [
        "* <b>Занятие 2. Основные типы данных. Обработка исключений.</b>\n",
        "     * Последовательности: строка, список, кортеж, множество\n",
        "     * Словарь\n",
        "     * Стеки, очередь, дерево\n",
        "     * Случайные величины\n",
        "     * Исключения и их обработка"
      ]
    },
    {
      "cell_type": "markdown",
      "metadata": {
        "id": "XkxbE7ugvOdR",
        "colab_type": "text"
      },
      "source": [
        "## virtualenv + Jupyter notebook"
      ]
    },
    {
      "cell_type": "markdown",
      "metadata": {
        "id": "rjemaOz0vOdW",
        "colab_type": "text"
      },
      "source": [
        "```\n",
        "<Ctrl> + <Alt> + T - новое окно терминала\n",
        "```"
      ]
    },
    {
      "cell_type": "markdown",
      "metadata": {
        "id": "WKYFssrFvOdZ",
        "colab_type": "text"
      },
      "source": [
        "```\n",
        "$ conda -V\n",
        "\n",
        "$ conda update conda\n",
        "\n",
        "$ conda search \"^python$\"\n",
        "\n",
        "$ conda create -n yourenvname python=x.x anaconda\n",
        "\n",
        "$ source activate yourenvname\n",
        "\n",
        "$ jupyter notebook\n",
        "\n",
        "$ conda install -n yourenvname [package]\n",
        "```"
      ]
    },
    {
      "cell_type": "markdown",
      "metadata": {
        "id": "xObrXRVuvOde",
        "colab_type": "text"
      },
      "source": [
        "# ВАЖНО!"
      ]
    },
    {
      "cell_type": "markdown",
      "metadata": {
        "id": "E8tehaskvOdq",
        "colab_type": "text"
      },
      "source": [
        "* курс построен как \"__слойка__\"\n",
        "* плохое освоение модуля __сильно__ затрудняет освоение следующего модуля\n",
        "* возвратов и повторов __мало__ ..."
      ]
    },
    {
      "cell_type": "markdown",
      "metadata": {
        "id": "smHii7REvOdu",
        "colab_type": "text"
      },
      "source": [
        "# Общее"
      ]
    },
    {
      "cell_type": "markdown",
      "metadata": {
        "id": "aAuHwCNOvOdy",
        "colab_type": "text"
      },
      "source": [
        "* Python имеет много __встроенных__ сложных структур данных\n",
        "* Наиболее часто используемыми являются:\n",
        "   - строка\n",
        "   - список\n",
        "   - кортеж\n",
        "   - словарь\n",
        "   - множество\n",
        "* В большинстве случаев, код для встроенных структур написан на языке низкого уровня и хорошо оптимизирован\n",
        "* __ВЫВОД № 1__: если Вам требуется какая-то структура, то:\n",
        "   - поищите уже реализованную структуру (стек, очередь, ...)\n",
        "   - сводите её к одной из типовых\n",
        "   - старайтесь максимально использовать встроенные функции типовых структур\n",
        "* __ВЫВОД № 2__:\n",
        "   - имеет смысл __полностью__ просматривать руководство по нужному классу"
      ]
    },
    {
      "cell_type": "code",
      "metadata": {
        "id": "eC621sGkvOd4",
        "colab_type": "code",
        "colab": {}
      },
      "source": [
        "import numpy as np\n",
        "import pandas as pd\n",
        "import matplotlib.pyplot as plt\n",
        "import scipy as sc\n",
        "%matplotlib inline"
      ],
      "execution_count": 1,
      "outputs": []
    },
    {
      "cell_type": "markdown",
      "metadata": {
        "id": "jWhUgJT5vOef",
        "colab_type": "text"
      },
      "source": [
        "## Основные сложные структуры данных"
      ]
    },
    {
      "cell_type": "markdown",
      "metadata": {
        "id": "-fWmWcy4vOel",
        "colab_type": "text"
      },
      "source": [
        "* связанные списки (linked list) - односторонние и двусторонние\n",
        "* стек (stack)\n",
        "* очередь (queue)\n",
        "* хэш-таблица (hash table)\n",
        "* двоичное дерево (binary tree)"
      ]
    },
    {
      "cell_type": "markdown",
      "metadata": {
        "id": "qjRI1yPdvOet",
        "colab_type": "text"
      },
      "source": [
        "# Рекурсия"
      ]
    },
    {
      "cell_type": "markdown",
      "metadata": {
        "id": "xisRRrTkvOe2",
        "colab_type": "text"
      },
      "source": [
        "Рекурсия - обращение функции __к самой себе__"
      ]
    },
    {
      "cell_type": "code",
      "metadata": {
        "id": "q6EidA39vOe6",
        "colab_type": "code",
        "colab": {}
      },
      "source": [
        "def factorial(n):\n",
        "    if n == 1:\n",
        "        return 1\n",
        "    else:\n",
        "        return n * factorial(n-1)"
      ],
      "execution_count": 2,
      "outputs": []
    },
    {
      "cell_type": "code",
      "metadata": {
        "id": "MJ4CRYf1vOfM",
        "colab_type": "code",
        "colab": {
          "base_uri": "https://localhost:8080/",
          "height": 35
        },
        "outputId": "f843d9d4-46e9-4516-e4b6-e2798e95ee05"
      },
      "source": [
        "factorial(10)"
      ],
      "execution_count": 3,
      "outputs": [
        {
          "output_type": "execute_result",
          "data": {
            "text/plain": [
              "3628800"
            ]
          },
          "metadata": {
            "tags": []
          },
          "execution_count": 3
        }
      ]
    },
    {
      "cell_type": "markdown",
      "metadata": {
        "id": "KugSz348vOfd",
        "colab_type": "text"
      },
      "source": [
        "### Сохранение значения"
      ]
    },
    {
      "cell_type": "code",
      "metadata": {
        "id": "4lLRlpydvOfg",
        "colab_type": "code",
        "colab": {}
      },
      "source": [
        "def sum_accum(current, accum, n):\n",
        "    # Финальное состояние\n",
        "    if current == n:\n",
        "        return accum\n",
        "\n",
        "    # Рекурсия\n",
        "    else:\n",
        "        return sum_accum(current + 1, accum + current, n)"
      ],
      "execution_count": null,
      "outputs": []
    },
    {
      "cell_type": "code",
      "metadata": {
        "id": "etArh9pNvOft",
        "colab_type": "code",
        "colab": {}
      },
      "source": [
        "sum_accum(0, 0, 5)"
      ],
      "execution_count": null,
      "outputs": []
    },
    {
      "cell_type": "markdown",
      "metadata": {
        "id": "Y5YXtGk3vOf8",
        "colab_type": "text"
      },
      "source": [
        "### Когда рекурсия полезна?"
      ]
    },
    {
      "cell_type": "markdown",
      "metadata": {
        "id": "oDGtxa0kvOf_",
        "colab_type": "text"
      },
      "source": [
        "* большая читаемость кода\n",
        "* работа с неизменяемыми значениями\n",
        "* работа с \"естественно\" рекурсивными структурами (деревья, графы)"
      ]
    },
    {
      "cell_type": "markdown",
      "metadata": {
        "id": "5lIY98PMvOgC",
        "colab_type": "text"
      },
      "source": [
        "### Ограничения"
      ]
    },
    {
      "cell_type": "markdown",
      "metadata": {
        "id": "jZtvOMGovOgF",
        "colab_type": "text"
      },
      "source": [
        "* рекурсия менее эффективная, чем итрации\n",
        "* ограничена глубина стека"
      ]
    },
    {
      "cell_type": "code",
      "metadata": {
        "id": "HpAyWgZOvOgI",
        "colab_type": "code",
        "colab": {
          "base_uri": "https://localhost:8080/",
          "height": 35
        },
        "outputId": "868c7ce1-1c1a-4e8d-f809-2a3528f69284"
      },
      "source": [
        "import sys\n",
        "sys.getrecursionlimit()"
      ],
      "execution_count": 6,
      "outputs": [
        {
          "output_type": "execute_result",
          "data": {
            "text/plain": [
              "1000"
            ]
          },
          "metadata": {
            "tags": []
          },
          "execution_count": 6
        }
      ]
    },
    {
      "cell_type": "markdown",
      "metadata": {
        "id": "q4Oaxqm1vOgW",
        "colab_type": "text"
      },
      "source": [
        "### <font color=red>Задание</font>"
      ]
    },
    {
      "cell_type": "markdown",
      "metadata": {
        "id": "mqhSdIQpvOgY",
        "colab_type": "text"
      },
      "source": [
        "Вычислите рекурсивно __$e^x$__ по $n$ первым элементам ряда:"
      ]
    },
    {
      "cell_type": "markdown",
      "metadata": {
        "id": "_xMJKDYJvOge",
        "colab_type": "text"
      },
      "source": [
        "$$e(x) = \\sum_{i=0}^{n} \\frac{x^n}{n!}$$"
      ]
    },
    {
      "cell_type": "code",
      "metadata": {
        "id": "5et58DHBvOgg",
        "colab_type": "code",
        "colab": {}
      },
      "source": [
        "import math\n",
        "\n",
        "def my_exp(x, n):\n",
        "    if n == 0:\n",
        "        return 1\n",
        "    return my_exp(x, n - 1) + x**n / math.factorial(n)\n",
        "\n"
      ],
      "execution_count": 4,
      "outputs": []
    },
    {
      "cell_type": "code",
      "metadata": {
        "id": "feLY1vjavOgq",
        "colab_type": "code",
        "colab": {
          "base_uri": "https://localhost:8080/",
          "height": 35
        },
        "outputId": "5e85a069-09f1-4420-858b-90cfbf745679"
      },
      "source": [
        "print(\"{:.8f}\".format(my_exp(1, 50)))"
      ],
      "execution_count": 5,
      "outputs": [
        {
          "output_type": "stream",
          "text": [
            "2.71828183\n"
          ],
          "name": "stdout"
        }
      ]
    },
    {
      "cell_type": "markdown",
      "metadata": {
        "id": "lDXoEG7nvOgw",
        "colab_type": "text"
      },
      "source": [
        "## Строка"
      ]
    },
    {
      "cell_type": "markdown",
      "metadata": {
        "id": "e_YQ9x-tvOg0",
        "colab_type": "text"
      },
      "source": [
        "* могут ограничиваться либо одинарными __'< str >'__ , либо двойными __\"< str >\"__, либо тройными двойными ___\"\"\"< multiline str >\"\"\"___ кавычками\n",
        "* в целом, аналогична списку из символов\n",
        "* может быть преобразована в список командой __list()__\n",
        "* существуют команды, типичные для обработки строк в других языках"
      ]
    },
    {
      "cell_type": "code",
      "metadata": {
        "id": "sKAmmqCxvOg3",
        "colab_type": "code",
        "colab": {}
      },
      "source": [
        "s = 'Ехал Грека через реку, видит грека - в реке рак'"
      ],
      "execution_count": 7,
      "outputs": []
    },
    {
      "cell_type": "code",
      "metadata": {
        "id": "TZJU8PMGvOg-",
        "colab_type": "code",
        "colab": {
          "base_uri": "https://localhost:8080/",
          "height": 35
        },
        "outputId": "57cd3756-279c-429c-f1e0-ff5d8764e15d"
      },
      "source": [
        "'abc' == \"abc\""
      ],
      "execution_count": 8,
      "outputs": [
        {
          "output_type": "execute_result",
          "data": {
            "text/plain": [
              "True"
            ]
          },
          "metadata": {
            "tags": []
          },
          "execution_count": 8
        }
      ]
    },
    {
      "cell_type": "code",
      "metadata": {
        "id": "UZEDC3eYvOhF",
        "colab_type": "code",
        "colab": {
          "base_uri": "https://localhost:8080/",
          "height": 35
        },
        "outputId": "c968ad39-d7f3-4343-a564-fbe080c4af07"
      },
      "source": [
        "'abc' > \"rbc\""
      ],
      "execution_count": 9,
      "outputs": [
        {
          "output_type": "execute_result",
          "data": {
            "text/plain": [
              "False"
            ]
          },
          "metadata": {
            "tags": []
          },
          "execution_count": 9
        }
      ]
    },
    {
      "cell_type": "code",
      "metadata": {
        "id": "a5TWHuicvOhT",
        "colab_type": "code",
        "colab": {}
      },
      "source": [
        "long_str = \"\"\"\n",
        "this is\n",
        "a very\n",
        "long \n",
        "string\n",
        "\"\"\""
      ],
      "execution_count": 10,
      "outputs": []
    },
    {
      "cell_type": "code",
      "metadata": {
        "id": "fgV754_svOha",
        "colab_type": "code",
        "colab": {
          "base_uri": "https://localhost:8080/",
          "height": 35
        },
        "outputId": "a6d75e81-dae1-4c67-f5a1-c6362ade82a5"
      },
      "source": [
        "long_str, len(long_str)"
      ],
      "execution_count": 11,
      "outputs": [
        {
          "output_type": "execute_result",
          "data": {
            "text/plain": [
              "('\\nthis is\\na very\\nlong \\nstring\\n', 29)"
            ]
          },
          "metadata": {
            "tags": []
          },
          "execution_count": 11
        }
      ]
    },
    {
      "cell_type": "code",
      "metadata": {
        "id": "p9GckMUovOhj",
        "colab_type": "code",
        "colab": {}
      },
      "source": [
        "s = 'Ехал Грека через реку, видит грека - в реке рак'"
      ],
      "execution_count": 12,
      "outputs": []
    },
    {
      "cell_type": "code",
      "metadata": {
        "id": "XsJeZAsmvOhq",
        "colab_type": "code",
        "colab": {
          "base_uri": "https://localhost:8080/",
          "height": 35
        },
        "outputId": "109987b4-4d96-460d-d22e-e3d4ea4bfedf"
      },
      "source": [
        "s.startswith( 'река' ), s.startswith( 'Ехал' )"
      ],
      "execution_count": 13,
      "outputs": [
        {
          "output_type": "execute_result",
          "data": {
            "text/plain": [
              "(False, True)"
            ]
          },
          "metadata": {
            "tags": []
          },
          "execution_count": 13
        }
      ]
    },
    {
      "cell_type": "code",
      "metadata": {
        "id": "FLKqCeervOhz",
        "colab_type": "code",
        "colab": {
          "base_uri": "https://localhost:8080/",
          "height": 35
        },
        "outputId": "b1a5b64b-1246-40e6-d856-64bf5ca26dbb"
      },
      "source": [
        "print(s.startswith( 'река', 6))"
      ],
      "execution_count": 14,
      "outputs": [
        {
          "output_type": "stream",
          "text": [
            "True\n"
          ],
          "name": "stdout"
        }
      ]
    },
    {
      "cell_type": "code",
      "metadata": {
        "id": "3G486AtMvOh4",
        "colab_type": "code",
        "colab": {
          "base_uri": "https://localhost:8080/",
          "height": 35
        },
        "outputId": "c0df6f20-4297-4b27-a66e-d02f8f8980c9"
      },
      "source": [
        "print(s.startswith( 'река', 6, 9))"
      ],
      "execution_count": 15,
      "outputs": [
        {
          "output_type": "stream",
          "text": [
            "False\n"
          ],
          "name": "stdout"
        }
      ]
    },
    {
      "cell_type": "code",
      "metadata": {
        "id": "Gbn60vTsvOh-",
        "colab_type": "code",
        "colab": {
          "base_uri": "https://localhost:8080/",
          "height": 35
        },
        "outputId": "d07112a8-e49c-40c1-eeaa-7a452e18521c"
      },
      "source": [
        "print(s.endswith( 'рак'))"
      ],
      "execution_count": 16,
      "outputs": [
        {
          "output_type": "stream",
          "text": [
            "True\n"
          ],
          "name": "stdout"
        }
      ]
    },
    {
      "cell_type": "code",
      "metadata": {
        "id": "Aq6Ga-UcvOiF",
        "colab_type": "code",
        "colab": {
          "base_uri": "https://localhost:8080/",
          "height": 35
        },
        "outputId": "46da32fa-61ad-4e44-ef11-97aaa7fb3df9"
      },
      "source": [
        "s.count('рек')"
      ],
      "execution_count": 17,
      "outputs": [
        {
          "output_type": "execute_result",
          "data": {
            "text/plain": [
              "4"
            ]
          },
          "metadata": {
            "tags": []
          },
          "execution_count": 17
        }
      ]
    },
    {
      "cell_type": "code",
      "metadata": {
        "id": "fy9L35NCvOiJ",
        "colab_type": "code",
        "colab": {
          "base_uri": "https://localhost:8080/",
          "height": 35
        },
        "outputId": "2490fb46-a93c-4dfa-e9e1-c2e8d032db46"
      },
      "source": [
        "s.find('через')"
      ],
      "execution_count": 18,
      "outputs": [
        {
          "output_type": "execute_result",
          "data": {
            "text/plain": [
              "11"
            ]
          },
          "metadata": {
            "tags": []
          },
          "execution_count": 18
        }
      ]
    },
    {
      "cell_type": "code",
      "metadata": {
        "id": "zi6y9-ljvOiP",
        "colab_type": "code",
        "colab": {
          "base_uri": "https://localhost:8080/",
          "height": 35
        },
        "outputId": "93b7eb2d-7057-4746-b58b-1195dc33a259"
      },
      "source": [
        "s_enc = s.encode('cp1252', errors='ignore')\n",
        "s_enc"
      ],
      "execution_count": 19,
      "outputs": [
        {
          "output_type": "execute_result",
          "data": {
            "text/plain": [
              "b'   ,   -   '"
            ]
          },
          "metadata": {
            "tags": []
          },
          "execution_count": 19
        }
      ]
    },
    {
      "cell_type": "code",
      "metadata": {
        "id": "UtcZpgAevOiX",
        "colab_type": "code",
        "colab": {}
      },
      "source": [
        "s = \"ascii\""
      ],
      "execution_count": 20,
      "outputs": []
    },
    {
      "cell_type": "code",
      "metadata": {
        "scrolled": false,
        "id": "x76RmJrNvOic",
        "colab_type": "code",
        "colab": {
          "base_uri": "https://localhost:8080/",
          "height": 35
        },
        "outputId": "2d0e9aea-453e-4950-9305-774c12e3b259"
      },
      "source": [
        "s.join(','), s.join(',,,,,')"
      ],
      "execution_count": 21,
      "outputs": [
        {
          "output_type": "execute_result",
          "data": {
            "text/plain": [
              "(',', ',ascii,ascii,ascii,ascii,')"
            ]
          },
          "metadata": {
            "tags": []
          },
          "execution_count": 21
        }
      ]
    },
    {
      "cell_type": "code",
      "metadata": {
        "id": "0jOLcG25vOii",
        "colab_type": "code",
        "colab": {
          "base_uri": "https://localhost:8080/",
          "height": 35
        },
        "outputId": "0f3e99f2-0eb6-4c56-f8ce-6bbe2dee9f54"
      },
      "source": [
        "long_str.split('\\n')"
      ],
      "execution_count": 22,
      "outputs": [
        {
          "output_type": "execute_result",
          "data": {
            "text/plain": [
              "['', 'this is', 'a very', 'long ', 'string', '']"
            ]
          },
          "metadata": {
            "tags": []
          },
          "execution_count": 22
        }
      ]
    },
    {
      "cell_type": "markdown",
      "metadata": {
        "id": "UDfPnzgMvOin",
        "colab_type": "text"
      },
      "source": [
        "### Специальные символы"
      ]
    },
    {
      "cell_type": "markdown",
      "metadata": {
        "id": "FqLAUbyWvOip",
        "colab_type": "text"
      },
      "source": [
        "* \\n - перевод строки\n",
        "* \\r - возврат каретки\n",
        "* \\t - табуляция\n",
        "* \\xNN - символ в 16-ричной нотации\n",
        "* \\ - символ экранирования (\\\\n)"
      ]
    },
    {
      "cell_type": "code",
      "metadata": {
        "id": "dzvw6MNbvOiq",
        "colab_type": "code",
        "colab": {
          "base_uri": "https://localhost:8080/",
          "height": 53
        },
        "outputId": "336d26e5-2d2f-4fb9-921e-f690b93e37f5"
      },
      "source": [
        "print('a' + '\\n' + 'b')"
      ],
      "execution_count": 23,
      "outputs": [
        {
          "output_type": "stream",
          "text": [
            "a\n",
            "b\n"
          ],
          "name": "stdout"
        }
      ]
    },
    {
      "cell_type": "code",
      "metadata": {
        "id": "aNErxDf8vOiu",
        "colab_type": "code",
        "colab": {
          "base_uri": "https://localhost:8080/",
          "height": 35
        },
        "outputId": "d4563a7b-7a0e-4c7d-8eef-136d885de0c3"
      },
      "source": [
        "print('a' + '\\r' + 'b')"
      ],
      "execution_count": 24,
      "outputs": [
        {
          "output_type": "stream",
          "text": [
            "a\rb\n"
          ],
          "name": "stdout"
        }
      ]
    },
    {
      "cell_type": "code",
      "metadata": {
        "id": "Kl-m6NQDvOiz",
        "colab_type": "code",
        "colab": {
          "base_uri": "https://localhost:8080/",
          "height": 35
        },
        "outputId": "1ab2f695-f251-47db-cd16-2b9c9c53c070"
      },
      "source": [
        "print('a' + '\\t' + 'b')"
      ],
      "execution_count": 25,
      "outputs": [
        {
          "output_type": "stream",
          "text": [
            "a\tb\n"
          ],
          "name": "stdout"
        }
      ]
    },
    {
      "cell_type": "code",
      "metadata": {
        "id": "mdRXjht8vOi3",
        "colab_type": "code",
        "colab": {
          "base_uri": "https://localhost:8080/",
          "height": 35
        },
        "outputId": "5a8c4e5f-49e8-4772-b66e-3a70658db694"
      },
      "source": [
        "print('a' + '\\\\n' + 'b')"
      ],
      "execution_count": 26,
      "outputs": [
        {
          "output_type": "stream",
          "text": [
            "a\\nb\n"
          ],
          "name": "stdout"
        }
      ]
    },
    {
      "cell_type": "markdown",
      "metadata": {
        "id": "bt9x84GbvOi8",
        "colab_type": "text"
      },
      "source": [
        "### Индексирование строк и списков"
      ]
    },
    {
      "cell_type": "markdown",
      "metadata": {
        "id": "CFhqtzjDvOi8",
        "colab_type": "text"
      },
      "source": [
        "* индекс размещается в квадратных скобках __\\[ \\]__\n",
        "* начинается с 0\n",
        "* отрицательный индекс __n__ означает __len(s) - n__ => -1 __исключает__ последний символ\n",
        "* можно указывать диапазон через двоеточие __:__\n",
        "* отсутствующий индекс перед двоеточиием означает __\"с начала\"__, после - __\"до последнего символа включительно\"__\n",
        "* можно добавить второе двоеточие, которое означает __\"шаг\"__"
      ]
    },
    {
      "cell_type": "code",
      "metadata": {
        "id": "8XzJo5MtvOi9",
        "colab_type": "code",
        "colab": {}
      },
      "source": [
        "s = 'Большая длинная тестовая строка'"
      ],
      "execution_count": 27,
      "outputs": []
    },
    {
      "cell_type": "code",
      "metadata": {
        "id": "E040p8e0vOjE",
        "colab_type": "code",
        "colab": {
          "base_uri": "https://localhost:8080/",
          "height": 35
        },
        "outputId": "83533c4f-e6c0-4ec0-db34-8bc0e12ad89f"
      },
      "source": [
        "len(s)"
      ],
      "execution_count": 28,
      "outputs": [
        {
          "output_type": "execute_result",
          "data": {
            "text/plain": [
              "31"
            ]
          },
          "metadata": {
            "tags": []
          },
          "execution_count": 28
        }
      ]
    },
    {
      "cell_type": "code",
      "metadata": {
        "id": "VhBkc-6dvOjJ",
        "colab_type": "code",
        "colab": {
          "base_uri": "https://localhost:8080/",
          "height": 171
        },
        "outputId": "b0647583-5aec-4cab-f6e1-c3cafbcbaa99"
      },
      "source": [
        "s[31]"
      ],
      "execution_count": 29,
      "outputs": [
        {
          "output_type": "error",
          "ename": "IndexError",
          "evalue": "ignored",
          "traceback": [
            "\u001b[0;31m---------------------------------------------------------------------------\u001b[0m",
            "\u001b[0;31mIndexError\u001b[0m                                Traceback (most recent call last)",
            "\u001b[0;32m<ipython-input-29-a1b072b79232>\u001b[0m in \u001b[0;36m<module>\u001b[0;34m()\u001b[0m\n\u001b[0;32m----> 1\u001b[0;31m \u001b[0ms\u001b[0m\u001b[0;34m[\u001b[0m\u001b[0;36m31\u001b[0m\u001b[0;34m]\u001b[0m\u001b[0;34m\u001b[0m\u001b[0;34m\u001b[0m\u001b[0m\n\u001b[0m",
            "\u001b[0;31mIndexError\u001b[0m: string index out of range"
          ]
        }
      ]
    },
    {
      "cell_type": "code",
      "metadata": {
        "id": "_KPNfc7ovOjN",
        "colab_type": "code",
        "colab": {
          "base_uri": "https://localhost:8080/",
          "height": 35
        },
        "outputId": "ba5a77a2-9842-42c3-dfd4-04ee2863010c"
      },
      "source": [
        "s[16:-1], s[16:len(s)], s[-1]"
      ],
      "execution_count": 30,
      "outputs": [
        {
          "output_type": "execute_result",
          "data": {
            "text/plain": [
              "('тестовая строк', 'тестовая строка', 'а')"
            ]
          },
          "metadata": {
            "tags": []
          },
          "execution_count": 30
        }
      ]
    },
    {
      "cell_type": "code",
      "metadata": {
        "id": "u5rqxBM_vOjR",
        "colab_type": "code",
        "colab": {
          "base_uri": "https://localhost:8080/",
          "height": 35
        },
        "outputId": "3fffd4cc-46a2-4e6b-96ce-e05abf7e2ffa"
      },
      "source": [
        "s = '0123456789'\n",
        "s[0:-1:2]"
      ],
      "execution_count": 31,
      "outputs": [
        {
          "output_type": "execute_result",
          "data": {
            "application/vnd.google.colaboratory.intrinsic+json": {
              "type": "string"
            },
            "text/plain": [
              "'02468'"
            ]
          },
          "metadata": {
            "tags": []
          },
          "execution_count": 31
        }
      ]
    },
    {
      "cell_type": "markdown",
      "metadata": {
        "id": "owWqRDFKvOjU",
        "colab_type": "text"
      },
      "source": [
        "### <font color=red>Задание</font>"
      ]
    },
    {
      "cell_type": "markdown",
      "metadata": {
        "id": "K28ghxmJvOjV",
        "colab_type": "text"
      },
      "source": [
        "* пользуясь __только__ индексом, выведите строку в обратном порядке"
      ]
    },
    {
      "cell_type": "code",
      "metadata": {
        "id": "iGOGj8a1vOjW",
        "colab_type": "code",
        "colab": {
          "base_uri": "https://localhost:8080/",
          "height": 35
        },
        "outputId": "fd2d20cb-1bd4-4557-b19f-71b5d02f4623"
      },
      "source": [
        "s[::-1]"
      ],
      "execution_count": 32,
      "outputs": [
        {
          "output_type": "execute_result",
          "data": {
            "application/vnd.google.colaboratory.intrinsic+json": {
              "type": "string"
            },
            "text/plain": [
              "'9876543210'"
            ]
          },
          "metadata": {
            "tags": []
          },
          "execution_count": 32
        }
      ]
    },
    {
      "cell_type": "markdown",
      "metadata": {
        "id": "7FhWCwrqvOja",
        "colab_type": "text"
      },
      "source": [
        "## Операции над строками"
      ]
    },
    {
      "cell_type": "code",
      "metadata": {
        "id": "9S6MPTekvOjb",
        "colab_type": "code",
        "colab": {
          "base_uri": "https://localhost:8080/",
          "height": 35
        },
        "outputId": "e77376b9-4faa-4e20-ea46-78f1dd970c34"
      },
      "source": [
        "s = 'abc' + ' - ' + 'cde'\n",
        "s"
      ],
      "execution_count": 33,
      "outputs": [
        {
          "output_type": "execute_result",
          "data": {
            "application/vnd.google.colaboratory.intrinsic+json": {
              "type": "string"
            },
            "text/plain": [
              "'abc - cde'"
            ]
          },
          "metadata": {
            "tags": []
          },
          "execution_count": 33
        }
      ]
    },
    {
      "cell_type": "code",
      "metadata": {
        "id": "F9NcglUvvOje",
        "colab_type": "code",
        "colab": {
          "base_uri": "https://localhost:8080/",
          "height": 35
        },
        "outputId": "72358a0a-982b-4bae-a011-47486b67186e"
      },
      "source": [
        "s = (s + '? ') * 3\n",
        "s"
      ],
      "execution_count": 34,
      "outputs": [
        {
          "output_type": "execute_result",
          "data": {
            "application/vnd.google.colaboratory.intrinsic+json": {
              "type": "string"
            },
            "text/plain": [
              "'abc - cde? abc - cde? abc - cde? '"
            ]
          },
          "metadata": {
            "tags": []
          },
          "execution_count": 34
        }
      ]
    },
    {
      "cell_type": "code",
      "metadata": {
        "id": "KjI8SIbovOji",
        "colab_type": "code",
        "colab": {
          "base_uri": "https://localhost:8080/",
          "height": 35
        },
        "outputId": "c3c50a55-4709-4ec3-bb85-e9abe4070e66"
      },
      "source": [
        "to_find = 'abc'\n",
        "if to_find in s:\n",
        "    s1 = 'Нашли <' + to_find + '> в строке <' + s + '>'\n",
        "    print(s1)"
      ],
      "execution_count": 35,
      "outputs": [
        {
          "output_type": "stream",
          "text": [
            "Нашли <abc> в строке <abc - cde? abc - cde? abc - cde? >\n"
          ],
          "name": "stdout"
        }
      ]
    },
    {
      "cell_type": "markdown",
      "metadata": {
        "id": "awI3jtMQvOjl",
        "colab_type": "text"
      },
      "source": [
        "### Преобразование регистра"
      ]
    },
    {
      "cell_type": "code",
      "metadata": {
        "id": "9DABjGLcvOjm",
        "colab_type": "code",
        "colab": {
          "base_uri": "https://localhost:8080/",
          "height": 53
        },
        "outputId": "073867fe-3d48-4ea5-aa78-3dbce097d3f1"
      },
      "source": [
        "s1.upper(), s1.lower()"
      ],
      "execution_count": 36,
      "outputs": [
        {
          "output_type": "execute_result",
          "data": {
            "text/plain": [
              "('НАШЛИ <ABC> В СТРОКЕ <ABC - CDE? ABC - CDE? ABC - CDE? >',\n",
              " 'нашли <abc> в строке <abc - cde? abc - cde? abc - cde? >')"
            ]
          },
          "metadata": {
            "tags": []
          },
          "execution_count": 36
        }
      ]
    },
    {
      "cell_type": "code",
      "metadata": {
        "id": "vn2VOu6ovOjr",
        "colab_type": "code",
        "colab": {
          "base_uri": "https://localhost:8080/",
          "height": 35
        },
        "outputId": "065ffeaa-aed6-4f34-9150-50444e6766a9"
      },
      "source": [
        "s1.find('abc')"
      ],
      "execution_count": 37,
      "outputs": [
        {
          "output_type": "execute_result",
          "data": {
            "text/plain": [
              "7"
            ]
          },
          "metadata": {
            "tags": []
          },
          "execution_count": 37
        }
      ]
    },
    {
      "cell_type": "code",
      "metadata": {
        "id": "h-J5pQ3hvOjw",
        "colab_type": "code",
        "colab": {
          "base_uri": "https://localhost:8080/",
          "height": 35
        },
        "outputId": "e2544b7c-4f73-488a-ba62-f64efff5cb16"
      },
      "source": [
        "s1.find('abs')"
      ],
      "execution_count": 38,
      "outputs": [
        {
          "output_type": "execute_result",
          "data": {
            "text/plain": [
              "-1"
            ]
          },
          "metadata": {
            "tags": []
          },
          "execution_count": 38
        }
      ]
    },
    {
      "cell_type": "code",
      "metadata": {
        "id": "OZu6X99hvOj1",
        "colab_type": "code",
        "colab": {
          "base_uri": "https://localhost:8080/",
          "height": 35
        },
        "outputId": "cffc795d-7274-4dfb-df74-c1edccac0f52"
      },
      "source": [
        "s1.count('abc'), s1[8:].count('abc')"
      ],
      "execution_count": 39,
      "outputs": [
        {
          "output_type": "execute_result",
          "data": {
            "text/plain": [
              "(4, 3)"
            ]
          },
          "metadata": {
            "tags": []
          },
          "execution_count": 39
        }
      ]
    },
    {
      "cell_type": "code",
      "metadata": {
        "id": "CNh-d1SUvOkP",
        "colab_type": "code",
        "colab": {
          "base_uri": "https://localhost:8080/",
          "height": 35
        },
        "outputId": "0a80f0bf-598a-4b6b-fcd9-0d34340f6da0"
      },
      "source": [
        "s = '  qwerty  '\n",
        "s_left = '<' + s.lstrip() + '>'\n",
        "s_right = '<' + s.rstrip() + '>'\n",
        "s_both = '<' + s.strip() + '>'\n",
        "print(s_left, s_right, s_both)"
      ],
      "execution_count": 40,
      "outputs": [
        {
          "output_type": "stream",
          "text": [
            "<qwerty  > <  qwerty> <qwerty>\n"
          ],
          "name": "stdout"
        }
      ]
    },
    {
      "cell_type": "code",
      "metadata": {
        "id": "ZfUu7dF8vOkS",
        "colab_type": "code",
        "colab": {
          "base_uri": "https://localhost:8080/",
          "height": 35
        },
        "outputId": "2a1dc095-f674-4ab6-8c52-3bab514f9b04"
      },
      "source": [
        "s1.replace('abc', 'ABC')"
      ],
      "execution_count": 41,
      "outputs": [
        {
          "output_type": "execute_result",
          "data": {
            "application/vnd.google.colaboratory.intrinsic+json": {
              "type": "string"
            },
            "text/plain": [
              "'Нашли <ABC> в строке <ABC - cde? ABC - cde? ABC - cde? >'"
            ]
          },
          "metadata": {
            "tags": []
          },
          "execution_count": 41
        }
      ]
    },
    {
      "cell_type": "code",
      "metadata": {
        "id": "Rnl9auCxvOkX",
        "colab_type": "code",
        "colab": {
          "base_uri": "https://localhost:8080/",
          "height": 35
        },
        "outputId": "08dbed71-8d54-440f-f368-4f054150a437"
      },
      "source": [
        "s1"
      ],
      "execution_count": 42,
      "outputs": [
        {
          "output_type": "execute_result",
          "data": {
            "application/vnd.google.colaboratory.intrinsic+json": {
              "type": "string"
            },
            "text/plain": [
              "'Нашли <abc> в строке <abc - cde? abc - cde? abc - cde? >'"
            ]
          },
          "metadata": {
            "tags": []
          },
          "execution_count": 42
        }
      ]
    },
    {
      "cell_type": "code",
      "metadata": {
        "id": "d1y6OzVtvOkb",
        "colab_type": "code",
        "colab": {
          "base_uri": "https://localhost:8080/",
          "height": 35
        },
        "outputId": "b8e5fef4-dc20-4aa2-af0f-4aa03eb90808"
      },
      "source": [
        "s1.split('?')"
      ],
      "execution_count": 43,
      "outputs": [
        {
          "output_type": "execute_result",
          "data": {
            "text/plain": [
              "['Нашли <abc> в строке <abc - cde', ' abc - cde', ' abc - cde', ' >']"
            ]
          },
          "metadata": {
            "tags": []
          },
          "execution_count": 43
        }
      ]
    },
    {
      "cell_type": "markdown",
      "metadata": {
        "id": "MjbCiG43vOkh",
        "colab_type": "text"
      },
      "source": [
        "### Форматирование"
      ]
    },
    {
      "cell_type": "markdown",
      "metadata": {
        "id": "d_Pw5BB6vOki",
        "colab_type": "text"
      },
      "source": [
        "* __% форматирование__\n",
        "    * %d - целые\n",
        "    * %s - строки\n",
        "    * %f - с плавающей точкой"
      ]
    },
    {
      "cell_type": "code",
      "metadata": {
        "id": "N2tdrS-jvOkj",
        "colab_type": "code",
        "colab": {
          "base_uri": "https://localhost:8080/",
          "height": 35
        },
        "outputId": "160b8cf9-6260-47ee-f3d2-d7c46758b6ef"
      },
      "source": [
        "print('Это строка <%s>, это целое число <%05d>, а это число с плавающей точкой <%03d>' % ('ABC', 234, 3.1415926))"
      ],
      "execution_count": 44,
      "outputs": [
        {
          "output_type": "stream",
          "text": [
            "Это строка <ABC>, это целое число <00234>, а это число с плавающей точкой <003>\n"
          ],
          "name": "stdout"
        }
      ]
    },
    {
      "cell_type": "code",
      "metadata": {
        "id": "yIt03l1KvOkm",
        "colab_type": "code",
        "colab": {
          "base_uri": "https://localhost:8080/",
          "height": 171
        },
        "outputId": "1c03f274-2cc2-423b-aef0-403fbe0f9077"
      },
      "source": [
        "print(s_fmt)"
      ],
      "execution_count": 46,
      "outputs": [
        {
          "output_type": "error",
          "ename": "NameError",
          "evalue": "ignored",
          "traceback": [
            "\u001b[0;31m---------------------------------------------------------------------------\u001b[0m",
            "\u001b[0;31mNameError\u001b[0m                                 Traceback (most recent call last)",
            "\u001b[0;32m<ipython-input-46-1c02f8700db1>\u001b[0m in \u001b[0;36m<module>\u001b[0;34m()\u001b[0m\n\u001b[0;32m----> 1\u001b[0;31m \u001b[0mprint\u001b[0m\u001b[0;34m(\u001b[0m\u001b[0ms_fmt\u001b[0m\u001b[0;34m)\u001b[0m\u001b[0;34m\u001b[0m\u001b[0;34m\u001b[0m\u001b[0m\n\u001b[0m",
            "\u001b[0;31mNameError\u001b[0m: name 's_fmt' is not defined"
          ]
        }
      ]
    },
    {
      "cell_type": "markdown",
      "metadata": {
        "id": "431WdIfEvOkq",
        "colab_type": "text"
      },
      "source": [
        "* Форматирование классом __formatter__"
      ]
    },
    {
      "cell_type": "code",
      "metadata": {
        "id": "7Zn5kaCrvOkr",
        "colab_type": "code",
        "colab": {
          "base_uri": "https://localhost:8080/",
          "height": 55
        },
        "outputId": "293bb163-2e6f-4ec3-8620-90030759860f"
      },
      "source": [
        "fmt = 'Это строка <{0:s}>, это целое число <{1:05d}>, это число с плавающей точкой <{2:3.4f}>, а это снова строка {0}'\n",
        "print(fmt.format('ABC', 234, 3.1415926) )"
      ],
      "execution_count": 47,
      "outputs": [
        {
          "output_type": "stream",
          "text": [
            "Это строка <ABC>, это целое число <00234>, это число с плавающей точкой <3.1416>, а это снова строка ABC\n"
          ],
          "name": "stdout"
        }
      ]
    },
    {
      "cell_type": "code",
      "metadata": {
        "id": "6aOwrecKvOkw",
        "colab_type": "code",
        "colab": {
          "base_uri": "https://localhost:8080/",
          "height": 35
        },
        "outputId": "b9803453-20ad-4724-9f77-6dbb0d5c9c31"
      },
      "source": [
        "fmt = 'Это строка <{}>, это целое число <{}>, это число с плавающей точкой <{}>'\n",
        "print(fmt.format('ABC', 234, 3.1415926) )"
      ],
      "execution_count": 48,
      "outputs": [
        {
          "output_type": "stream",
          "text": [
            "Это строка <ABC>, это целое число <234>, это число с плавающей точкой <3.1415926>\n"
          ],
          "name": "stdout"
        }
      ]
    },
    {
      "cell_type": "code",
      "metadata": {
        "id": "BO78uv96vOkz",
        "colab_type": "code",
        "colab": {
          "base_uri": "https://localhost:8080/",
          "height": 207
        },
        "outputId": "6a5dbe14-0ec4-401f-de1f-e24fced93410"
      },
      "source": [
        "fmt = 'Это строка <{}>, это целое число <{}>, это число с плавающей точкой <{}>, а это снова строка {0}'\n",
        "print(fmt.format('ABC', 234, 3.1415926) )"
      ],
      "execution_count": 49,
      "outputs": [
        {
          "output_type": "error",
          "ename": "ValueError",
          "evalue": "ignored",
          "traceback": [
            "\u001b[0;31m---------------------------------------------------------------------------\u001b[0m",
            "\u001b[0;31mValueError\u001b[0m                                Traceback (most recent call last)",
            "\u001b[0;32m<ipython-input-49-74e8440f3a32>\u001b[0m in \u001b[0;36m<module>\u001b[0;34m()\u001b[0m\n\u001b[1;32m      1\u001b[0m \u001b[0mfmt\u001b[0m \u001b[0;34m=\u001b[0m \u001b[0;34m'Это строка <{}>, это целое число <{}>, это число с плавающей точкой <{}>, а это снова строка {0}'\u001b[0m\u001b[0;34m\u001b[0m\u001b[0;34m\u001b[0m\u001b[0m\n\u001b[0;32m----> 2\u001b[0;31m \u001b[0mprint\u001b[0m\u001b[0;34m(\u001b[0m\u001b[0mfmt\u001b[0m\u001b[0;34m.\u001b[0m\u001b[0mformat\u001b[0m\u001b[0;34m(\u001b[0m\u001b[0;34m'ABC'\u001b[0m\u001b[0;34m,\u001b[0m \u001b[0;36m234\u001b[0m\u001b[0;34m,\u001b[0m \u001b[0;36m3.1415926\u001b[0m\u001b[0;34m)\u001b[0m \u001b[0;34m)\u001b[0m\u001b[0;34m\u001b[0m\u001b[0;34m\u001b[0m\u001b[0m\n\u001b[0m",
            "\u001b[0;31mValueError\u001b[0m: cannot switch from automatic field numbering to manual field specification"
          ]
        }
      ]
    },
    {
      "cell_type": "code",
      "metadata": {
        "id": "oxbPMpNWvOk3",
        "colab_type": "code",
        "colab": {}
      },
      "source": [
        "a = 123\n",
        "b = 'I\\'m a strting'\n",
        "c = 3.1415926\n"
      ],
      "execution_count": 50,
      "outputs": []
    },
    {
      "cell_type": "code",
      "metadata": {
        "id": "sclwWLJKvOk6",
        "colab_type": "code",
        "colab": {
          "base_uri": "https://localhost:8080/",
          "height": 35
        },
        "outputId": "cae97c1c-4a06-4740-d371-7e75025ddac0"
      },
      "source": [
        "s = f\"{a} {b} {c}\"\n",
        "print(s)"
      ],
      "execution_count": 51,
      "outputs": [
        {
          "output_type": "stream",
          "text": [
            "123 I'm a strting 3.1415926\n"
          ],
          "name": "stdout"
        }
      ]
    },
    {
      "cell_type": "code",
      "metadata": {
        "id": "6_NdUy3HvOk9",
        "colab_type": "code",
        "colab": {
          "base_uri": "https://localhost:8080/",
          "height": 35
        },
        "outputId": "cd33ec59-b3b9-4211-ee96-495f260da156"
      },
      "source": [
        "s = f\"{a:05d} {b} {c:.2f}\"\n",
        "print(s)"
      ],
      "execution_count": 52,
      "outputs": [
        {
          "output_type": "stream",
          "text": [
            "00123 I'm a strting 3.14\n"
          ],
          "name": "stdout"
        }
      ]
    },
    {
      "cell_type": "markdown",
      "metadata": {
        "id": "E2BmxJPovOk_",
        "colab_type": "text"
      },
      "source": [
        "### Для самостоятельного изучения:"
      ]
    },
    {
      "cell_type": "markdown",
      "metadata": {
        "id": "3lAK7r0-vOlA",
        "colab_type": "text"
      },
      "source": [
        "\n",
        "* регулярные выражения (regular expressions)"
      ]
    },
    {
      "cell_type": "code",
      "metadata": {
        "id": "OkaCl_lZvOlB",
        "colab_type": "code",
        "colab": {}
      },
      "source": [
        "import re"
      ],
      "execution_count": null,
      "outputs": []
    },
    {
      "cell_type": "code",
      "metadata": {
        "id": "0PGJ-DyzvOlG",
        "colab_type": "code",
        "colab": {}
      },
      "source": [
        ""
      ],
      "execution_count": null,
      "outputs": []
    },
    {
      "cell_type": "code",
      "metadata": {
        "id": "zZfHffE6vOlL",
        "colab_type": "code",
        "colab": {}
      },
      "source": [
        ""
      ],
      "execution_count": null,
      "outputs": []
    },
    {
      "cell_type": "code",
      "metadata": {
        "id": "j-C7RMC0vOlO",
        "colab_type": "code",
        "colab": {}
      },
      "source": [
        ""
      ],
      "execution_count": null,
      "outputs": []
    },
    {
      "cell_type": "markdown",
      "metadata": {
        "id": "RXnFHv0hvOlR",
        "colab_type": "text"
      },
      "source": [
        "# Список"
      ]
    },
    {
      "cell_type": "code",
      "metadata": {
        "id": "PKZCUfJjvOlS",
        "colab_type": "code",
        "colab": {}
      },
      "source": [
        "# Пустой список\n",
        "l = []\n",
        "\n",
        "# Список целых чисел\n",
        "l = [1, 2, 3]\n",
        "\n",
        "# список со различными типами данных\n",
        "l = ['abc', 'cde', 3.14159, 2.71828, 1]"
      ],
      "execution_count": 53,
      "outputs": []
    },
    {
      "cell_type": "markdown",
      "metadata": {
        "id": "LuJj_NXAvOlX",
        "colab_type": "text"
      },
      "source": [
        "### <font color=red>Задание:</font>\n",
        "* выведите для каждого элемента списка:\n",
        "        - порядковый номер (начиная с нуля)\n",
        "        - значения\n",
        "        - тип значения"
      ]
    },
    {
      "cell_type": "code",
      "metadata": {
        "id": "Kwii0t8ovOlZ",
        "colab_type": "code",
        "colab": {
          "base_uri": "https://localhost:8080/",
          "height": 106
        },
        "outputId": "c3221f9c-3354-4515-9527-2e47d968b054"
      },
      "source": [
        "# Ваш код здесь\n",
        "\n",
        "for i, e in enumerate(l):\n",
        "    print(i, e, type(e))"
      ],
      "execution_count": 54,
      "outputs": [
        {
          "output_type": "stream",
          "text": [
            "0 abc <class 'str'>\n",
            "1 cde <class 'str'>\n",
            "2 3.14159 <class 'float'>\n",
            "3 2.71828 <class 'float'>\n",
            "4 1 <class 'int'>\n"
          ],
          "name": "stdout"
        }
      ]
    },
    {
      "cell_type": "markdown",
      "metadata": {
        "id": "WNC4NooPvOld",
        "colab_type": "text"
      },
      "source": [
        "__list__ - __ключевое__ слово, которое  (формально) может использоваться, как имя переменной.<br>\n",
        "Однако, это __сильно__ не рекомендуется делать, так как это приводит к побочным эффектам"
      ]
    },
    {
      "cell_type": "code",
      "metadata": {
        "id": "8LMcofT-vOle",
        "colab_type": "code",
        "colab": {
          "base_uri": "https://localhost:8080/",
          "height": 35
        },
        "outputId": "c921fc69-74ca-4562-ef0b-dbc664af3d2f"
      },
      "source": [
        "l = list( np.array([1,2,3,4]))\n",
        "l"
      ],
      "execution_count": 55,
      "outputs": [
        {
          "output_type": "execute_result",
          "data": {
            "text/plain": [
              "[1, 2, 3, 4]"
            ]
          },
          "metadata": {
            "tags": []
          },
          "execution_count": 55
        }
      ]
    },
    {
      "cell_type": "code",
      "metadata": {
        "id": "XSSc5WLbvOli",
        "colab_type": "code",
        "colab": {}
      },
      "source": [
        "list = [1,2,3,4]"
      ],
      "execution_count": 56,
      "outputs": []
    },
    {
      "cell_type": "code",
      "metadata": {
        "id": "R_pxeLn0vOln",
        "colab_type": "code",
        "colab": {
          "base_uri": "https://localhost:8080/",
          "height": 35
        },
        "outputId": "a7d44869-b91e-47a2-eb6e-20ce0d5f3d43"
      },
      "source": [
        "list"
      ],
      "execution_count": 57,
      "outputs": [
        {
          "output_type": "execute_result",
          "data": {
            "text/plain": [
              "[1, 2, 3, 4]"
            ]
          },
          "metadata": {
            "tags": []
          },
          "execution_count": 57
        }
      ]
    },
    {
      "cell_type": "code",
      "metadata": {
        "scrolled": true,
        "id": "_-eMibEBvOlw",
        "colab_type": "code",
        "colab": {
          "base_uri": "https://localhost:8080/",
          "height": 189
        },
        "outputId": "5e164b47-d544-4109-c275-2a4240c00a7b"
      },
      "source": [
        "l = list( np.array([1,2,3,4]))\n",
        "l"
      ],
      "execution_count": 58,
      "outputs": [
        {
          "output_type": "error",
          "ename": "TypeError",
          "evalue": "ignored",
          "traceback": [
            "\u001b[0;31m---------------------------------------------------------------------------\u001b[0m",
            "\u001b[0;31mTypeError\u001b[0m                                 Traceback (most recent call last)",
            "\u001b[0;32m<ipython-input-58-aab05cd34778>\u001b[0m in \u001b[0;36m<module>\u001b[0;34m()\u001b[0m\n\u001b[0;32m----> 1\u001b[0;31m \u001b[0ml\u001b[0m \u001b[0;34m=\u001b[0m \u001b[0mlist\u001b[0m\u001b[0;34m(\u001b[0m \u001b[0mnp\u001b[0m\u001b[0;34m.\u001b[0m\u001b[0marray\u001b[0m\u001b[0;34m(\u001b[0m\u001b[0;34m[\u001b[0m\u001b[0;36m1\u001b[0m\u001b[0;34m,\u001b[0m\u001b[0;36m2\u001b[0m\u001b[0;34m,\u001b[0m\u001b[0;36m3\u001b[0m\u001b[0;34m,\u001b[0m\u001b[0;36m4\u001b[0m\u001b[0;34m]\u001b[0m\u001b[0;34m)\u001b[0m\u001b[0;34m)\u001b[0m\u001b[0;34m\u001b[0m\u001b[0;34m\u001b[0m\u001b[0m\n\u001b[0m\u001b[1;32m      2\u001b[0m \u001b[0ml\u001b[0m\u001b[0;34m\u001b[0m\u001b[0;34m\u001b[0m\u001b[0m\n",
            "\u001b[0;31mTypeError\u001b[0m: 'list' object is not callable"
          ]
        }
      ]
    },
    {
      "cell_type": "code",
      "metadata": {
        "id": "VsCqfFJEvOl0",
        "colab_type": "code",
        "colab": {}
      },
      "source": [
        "# Удаление объекта приводит к восстановлению поведения по-умолчанию\n",
        "\n",
        "del list"
      ],
      "execution_count": 59,
      "outputs": []
    },
    {
      "cell_type": "code",
      "metadata": {
        "id": "EMLxcDqkvOl2",
        "colab_type": "code",
        "colab": {}
      },
      "source": [
        "r = range(10)\n",
        "s = str(r)\n",
        "l = list(r)"
      ],
      "execution_count": 60,
      "outputs": []
    },
    {
      "cell_type": "code",
      "metadata": {
        "id": "6--UlC1GvOl6",
        "colab_type": "code",
        "colab": {
          "base_uri": "https://localhost:8080/",
          "height": 35
        },
        "outputId": "589d59cb-c95d-4fa6-b4bd-b34eda382ffc"
      },
      "source": [
        "r, s, l"
      ],
      "execution_count": 61,
      "outputs": [
        {
          "output_type": "execute_result",
          "data": {
            "text/plain": [
              "(range(0, 10), 'range(0, 10)', [0, 1, 2, 3, 4, 5, 6, 7, 8, 9])"
            ]
          },
          "metadata": {
            "tags": []
          },
          "execution_count": 61
        }
      ]
    },
    {
      "cell_type": "code",
      "metadata": {
        "scrolled": false,
        "id": "z7e9C3n1vOl_",
        "colab_type": "code",
        "colab": {
          "base_uri": "https://localhost:8080/",
          "height": 35
        },
        "outputId": "f94c28f0-1ac2-4c23-b902-d402eaaac448"
      },
      "source": [
        "s = str(l)\n",
        "s"
      ],
      "execution_count": 62,
      "outputs": [
        {
          "output_type": "execute_result",
          "data": {
            "application/vnd.google.colaboratory.intrinsic+json": {
              "type": "string"
            },
            "text/plain": [
              "'[0, 1, 2, 3, 4, 5, 6, 7, 8, 9]'"
            ]
          },
          "metadata": {
            "tags": []
          },
          "execution_count": 62
        }
      ]
    },
    {
      "cell_type": "markdown",
      "metadata": {
        "id": "W_Pjs5V2vOmC",
        "colab_type": "text"
      },
      "source": [
        "* Сравнение списков аналогично сравнению строк и выполняется поэлементно (у строк - посимвольно)"
      ]
    },
    {
      "cell_type": "code",
      "metadata": {
        "id": "6RkfmMc1vOmC",
        "colab_type": "code",
        "colab": {
          "base_uri": "https://localhost:8080/",
          "height": 35
        },
        "outputId": "d75280b7-1cdf-4377-b5e5-2b570a35e33a"
      },
      "source": [
        "[1, 2, 3] < [1, 3, 4], 'abc' > 'cba'"
      ],
      "execution_count": 63,
      "outputs": [
        {
          "output_type": "execute_result",
          "data": {
            "text/plain": [
              "(True, False)"
            ]
          },
          "metadata": {
            "tags": []
          },
          "execution_count": 63
        }
      ]
    },
    {
      "cell_type": "markdown",
      "metadata": {
        "id": "rF7pEqbSvOmG",
        "colab_type": "text"
      },
      "source": [
        "## Индексация списка"
      ]
    },
    {
      "cell_type": "markdown",
      "metadata": {
        "id": "bVGh7CezvOmG",
        "colab_type": "text"
      },
      "source": [
        "Совпадает с индексацией строк:\n",
        "* индекс размещается в квадратных скобках __\\[ \\]__\n",
        "* начинается с 0\n",
        "* отрицательный индекс __n__ означает __len(s) - n__ => -1 __исключает__ последний символ\n",
        "* можно указывать диапазон через двоеточие __:__\n",
        "* отсутствующий индекс перед двоеточиием означает __\"с начала\"__, после - __\"до последнего символа включительно\"__\n",
        "* можно добавить второе двоеточие, которое означает __\"шаг\"__"
      ]
    },
    {
      "cell_type": "markdown",
      "metadata": {
        "id": "eBxwWGepvOmH",
        "colab_type": "text"
      },
      "source": [
        "### Изменение и добавление элементов"
      ]
    },
    {
      "cell_type": "code",
      "metadata": {
        "id": "KZzW_ZX8vOmI",
        "colab_type": "code",
        "colab": {
          "base_uri": "https://localhost:8080/",
          "height": 35
        },
        "outputId": "63fe0907-b254-4790-fb1a-9eb4a1097ed0"
      },
      "source": [
        "l1 = list( i*2 for i in 'abcdefghijk')\n",
        "l1"
      ],
      "execution_count": 64,
      "outputs": [
        {
          "output_type": "execute_result",
          "data": {
            "text/plain": [
              "['aa', 'bb', 'cc', 'dd', 'ee', 'ff', 'gg', 'hh', 'ii', 'jj', 'kk']"
            ]
          },
          "metadata": {
            "tags": []
          },
          "execution_count": 64
        }
      ]
    },
    {
      "cell_type": "code",
      "metadata": {
        "id": "DIM0zQEUvOmL",
        "colab_type": "code",
        "colab": {}
      },
      "source": [
        "l2 = list( i for i in range(10))"
      ],
      "execution_count": 65,
      "outputs": []
    },
    {
      "cell_type": "code",
      "metadata": {
        "id": "LE_dTLOsvOmO",
        "colab_type": "code",
        "colab": {
          "base_uri": "https://localhost:8080/",
          "height": 321
        },
        "outputId": "1f2e47dd-a345-497c-ccba-241658393cab"
      },
      "source": [
        "l1 + l2[2:4] + l2[3:7]"
      ],
      "execution_count": 66,
      "outputs": [
        {
          "output_type": "execute_result",
          "data": {
            "text/plain": [
              "['aa',\n",
              " 'bb',\n",
              " 'cc',\n",
              " 'dd',\n",
              " 'ee',\n",
              " 'ff',\n",
              " 'gg',\n",
              " 'hh',\n",
              " 'ii',\n",
              " 'jj',\n",
              " 'kk',\n",
              " 2,\n",
              " 3,\n",
              " 3,\n",
              " 4,\n",
              " 5,\n",
              " 6]"
            ]
          },
          "metadata": {
            "tags": []
          },
          "execution_count": 66
        }
      ]
    },
    {
      "cell_type": "code",
      "metadata": {
        "id": "D4-OdDngvOmR",
        "colab_type": "code",
        "colab": {
          "base_uri": "https://localhost:8080/",
          "height": 35
        },
        "outputId": "3a181df6-6cdd-4b51-e650-d6fd394d7ff3"
      },
      "source": [
        "l = l1\n",
        "l.append(l2[2:4])\n",
        "l"
      ],
      "execution_count": 67,
      "outputs": [
        {
          "output_type": "execute_result",
          "data": {
            "text/plain": [
              "['aa', 'bb', 'cc', 'dd', 'ee', 'ff', 'gg', 'hh', 'ii', 'jj', 'kk', [2, 3]]"
            ]
          },
          "metadata": {
            "tags": []
          },
          "execution_count": 67
        }
      ]
    },
    {
      "cell_type": "code",
      "metadata": {
        "id": "kRGBA6KBvOmT",
        "colab_type": "code",
        "colab": {
          "base_uri": "https://localhost:8080/",
          "height": 267
        },
        "outputId": "9079edbe-4bc6-4a21-8c64-ec19ab414c9f"
      },
      "source": [
        "l = l1\n",
        "l.extend(l2[2:4])\n",
        "l"
      ],
      "execution_count": 68,
      "outputs": [
        {
          "output_type": "execute_result",
          "data": {
            "text/plain": [
              "['aa',\n",
              " 'bb',\n",
              " 'cc',\n",
              " 'dd',\n",
              " 'ee',\n",
              " 'ff',\n",
              " 'gg',\n",
              " 'hh',\n",
              " 'ii',\n",
              " 'jj',\n",
              " 'kk',\n",
              " [2, 3],\n",
              " 2,\n",
              " 3]"
            ]
          },
          "metadata": {
            "tags": []
          },
          "execution_count": 68
        }
      ]
    },
    {
      "cell_type": "code",
      "metadata": {
        "id": "nc54QQ2gvOmW",
        "colab_type": "code",
        "colab": {
          "base_uri": "https://localhost:8080/",
          "height": 267
        },
        "outputId": "5dea30ba-be25-494a-eecf-ad226c4d8715"
      },
      "source": [
        "l1"
      ],
      "execution_count": 69,
      "outputs": [
        {
          "output_type": "execute_result",
          "data": {
            "text/plain": [
              "['aa',\n",
              " 'bb',\n",
              " 'cc',\n",
              " 'dd',\n",
              " 'ee',\n",
              " 'ff',\n",
              " 'gg',\n",
              " 'hh',\n",
              " 'ii',\n",
              " 'jj',\n",
              " 'kk',\n",
              " [2, 3],\n",
              " 2,\n",
              " 3]"
            ]
          },
          "metadata": {
            "tags": []
          },
          "execution_count": 69
        }
      ]
    },
    {
      "cell_type": "markdown",
      "metadata": {
        "id": "Go_MpUfDvOmb",
        "colab_type": "text"
      },
      "source": [
        "### <font color=blue>Нужно запомнить</font>"
      ]
    },
    {
      "cell_type": "markdown",
      "metadata": {
        "id": "x2O5jsjuvOmc",
        "colab_type": "text"
      },
      "source": [
        "Списки - <b>изменяемый</b> тип данных"
      ]
    },
    {
      "cell_type": "markdown",
      "metadata": {
        "id": "avAu_8ZxvOmd",
        "colab_type": "text"
      },
      "source": [
        "### Удаление элементов"
      ]
    },
    {
      "cell_type": "code",
      "metadata": {
        "id": "ZEIwbW-wvOme",
        "colab_type": "code",
        "colab": {
          "base_uri": "https://localhost:8080/",
          "height": 35
        },
        "outputId": "acd153ee-4f05-4127-8add-3e199f83fd1d"
      },
      "source": [
        "l.clear()\n",
        "l.extend([1,2,3,4,5])\n",
        "l"
      ],
      "execution_count": 70,
      "outputs": [
        {
          "output_type": "execute_result",
          "data": {
            "text/plain": [
              "[1, 2, 3, 4, 5]"
            ]
          },
          "metadata": {
            "tags": []
          },
          "execution_count": 70
        }
      ]
    },
    {
      "cell_type": "code",
      "metadata": {
        "id": "RTpJaplvvOmi",
        "colab_type": "code",
        "colab": {
          "base_uri": "https://localhost:8080/",
          "height": 35
        },
        "outputId": "be2592c2-a771-4e9b-a7b1-19f4364ba27f"
      },
      "source": [
        "l.insert(5, 6)\n",
        "l"
      ],
      "execution_count": 71,
      "outputs": [
        {
          "output_type": "execute_result",
          "data": {
            "text/plain": [
              "[1, 2, 3, 4, 5, 6]"
            ]
          },
          "metadata": {
            "tags": []
          },
          "execution_count": 71
        }
      ]
    },
    {
      "cell_type": "code",
      "metadata": {
        "id": "hLKZtZiJvOmn",
        "colab_type": "code",
        "colab": {}
      },
      "source": [
        "l.sort(reverse=True)\n",
        "l3 = l.copy()"
      ],
      "execution_count": 72,
      "outputs": []
    },
    {
      "cell_type": "code",
      "metadata": {
        "id": "NHPiEROEvOmp",
        "colab_type": "code",
        "colab": {
          "base_uri": "https://localhost:8080/",
          "height": 35
        },
        "outputId": "d3ad923b-b0a0-4c97-e312-10c3856836a6"
      },
      "source": [
        "l.remove(2)\n",
        "l"
      ],
      "execution_count": 73,
      "outputs": [
        {
          "output_type": "execute_result",
          "data": {
            "text/plain": [
              "[6, 5, 4, 3, 1]"
            ]
          },
          "metadata": {
            "tags": []
          },
          "execution_count": 73
        }
      ]
    },
    {
      "cell_type": "code",
      "metadata": {
        "id": "7PB1khw5vOmt",
        "colab_type": "code",
        "colab": {
          "base_uri": "https://localhost:8080/",
          "height": 35
        },
        "outputId": "7083f0e8-6f8c-42a1-ed9d-8512789187cb"
      },
      "source": [
        "l.pop()\n",
        "l"
      ],
      "execution_count": 74,
      "outputs": [
        {
          "output_type": "execute_result",
          "data": {
            "text/plain": [
              "[6, 5, 4, 3]"
            ]
          },
          "metadata": {
            "tags": []
          },
          "execution_count": 74
        }
      ]
    },
    {
      "cell_type": "markdown",
      "metadata": {
        "id": "Mqp6JLHMvOmx",
        "colab_type": "text"
      },
      "source": [
        "### <font color=red>Опишите, что делает этот код</font>"
      ]
    },
    {
      "cell_type": "code",
      "metadata": {
        "id": "b4IlVFVmvOmy",
        "colab_type": "code",
        "colab": {
          "base_uri": "https://localhost:8080/",
          "height": 71
        },
        "outputId": "86c1fe27-d094-4337-ece8-32257bd7c1b0"
      },
      "source": [
        "txt = 'а роза упала на лапу азора' # объявления строки\n",
        "words = txt.split() # создание списка слов из строки\n",
        "\n",
        "# создание списка пар (длина слова, слово)\n",
        "l = list()\n",
        "for word in words:\n",
        "    l.append((len(word), word))\n",
        "print(l)\n",
        "\n",
        "# сортировка созданного списка по длине слова в порядке убывания\n",
        "l.sort(reverse=True)\n",
        "print(l)\n",
        "\n",
        "# создание списка, содержащего только слова, из списка, полученного выше\n",
        "res = list()\n",
        "for length, word in l:\n",
        "    res.append(word)\n",
        "\n",
        "print(res)\n"
      ],
      "execution_count": 76,
      "outputs": [
        {
          "output_type": "stream",
          "text": [
            "[(1, 'а'), (4, 'роза'), (5, 'упала'), (2, 'на'), (4, 'лапу'), (5, 'азора')]\n",
            "[(5, 'упала'), (5, 'азора'), (4, 'роза'), (4, 'лапу'), (2, 'на'), (1, 'а')]\n",
            "['упала', 'азора', 'роза', 'лапу', 'на', 'а']\n"
          ],
          "name": "stdout"
        }
      ]
    },
    {
      "cell_type": "markdown",
      "metadata": {
        "id": "fQjmmaHevOm1",
        "colab_type": "text"
      },
      "source": [
        "### Методы списков"
      ]
    },
    {
      "cell_type": "markdown",
      "metadata": {
        "id": "oUuv9Rw9vOm1",
        "colab_type": "text"
      },
      "source": [
        "```python\n",
        "append() Добавляет элемент в конец списка\n",
        "extend() Добавляет все элементы списка к другому списку\n",
        "insert() Вставляет элемент на место, указнное индексом\n",
        "remove() Удаляет элемент из списка\n",
        "pop() Удаляет элемент из списка и возвращает его, как параметр\n",
        "clear() Очищает список (удаляет все элементы)\n",
        "index() Возвращает индекс первого встречающегося элемента\n",
        "count() Возвращает количество вхождений данного элемента в списке\n",
        "sort() Сортирует элементы списка в возрастающем порядке\n",
        "reverse() Изменяет порядок элементов в списке на обратный\n",
        "copy() Копирует список\n",
        "```"
      ]
    },
    {
      "cell_type": "markdown",
      "metadata": {
        "id": "QBgAsTqfvOm2",
        "colab_type": "text"
      },
      "source": [
        "```python\n",
        "all() Возвращает True если все элементы списка верны или если список пустой\n",
        "any() Возвращает True если хотя бы один элементы списка верены. если списко пустой, возвращает False\n",
        "enumerate() Возвращает объект enumerate, содержащий индекс и значение всех элементов списка в виде кортежей\n",
        "len() Возвращает длину (количество элементов в) списке\n",
        "list() Преобразует любой итерируемый объект (iterable) в список (кортеж, строку, множество, словарь)\n",
        "max() Возвращает максимальный элемент в списке\n",
        "min() Возвращает минимальный элемент в списке\n",
        "sorted() Возвращает новый отсортированный список (не сортирует сам список!)\n",
        "sum() Возвращает сумму элементов в списке\n",
        "```"
      ]
    },
    {
      "cell_type": "markdown",
      "metadata": {
        "id": "EWhvlu6cvOm3",
        "colab_type": "text"
      },
      "source": [
        "### <font color=red>Задание</font>"
      ]
    },
    {
      "cell_type": "markdown",
      "metadata": {
        "id": "5WBBE8F8vOm3",
        "colab_type": "text"
      },
      "source": [
        "* Постройте частотную характеристику по словам в тексте Гамлета с использованием списков\n",
        "    * Используйте split для разбивки по пробелам\n",
        "    * удалите возвраты строк и символы, отличающиеся от букв\n",
        "    * выведите 10 наиболее часто встречающихся слов\n",
        "    * используйте zip для слияния списков в один\n",
        "* Посчитайте, сколько вообще слов в Гамлете"
      ]
    },
    {
      "cell_type": "markdown",
      "metadata": {
        "id": "hBsAIuT-vOm4",
        "colab_type": "text"
      },
      "source": [
        "#### <font color=blue>Порядок решения:</font><br>\n",
        "\n",
        "1. Получить текст по урлу.\n",
        "2. Разбить текст на слова.\n",
        "3. Удалить символы, не являющиеся буквами.\n",
        "4. Построить каунтер по списку слов.\n",
        "5. Посчитать количество слов в тексте."
      ]
    },
    {
      "cell_type": "code",
      "metadata": {
        "id": "Z80cU-BTvOm5",
        "colab_type": "code",
        "colab": {}
      },
      "source": [
        "import urllib\n",
        "\n",
        "hamlet_url = \"http://erdani.com/tdpl/hamlet.txt\"\n",
        "f = urllib.request.urlopen(hamlet_url)\n",
        "hamlet_text = f.read().decode('utf-8')"
      ],
      "execution_count": 77,
      "outputs": []
    },
    {
      "cell_type": "code",
      "metadata": {
        "id": "wJyGUd7vvOnE",
        "colab_type": "code",
        "colab": {}
      },
      "source": [
        "text = [i.lower() for i in hamlet_text.split() if i.isalpha()]"
      ],
      "execution_count": 78,
      "outputs": []
    },
    {
      "cell_type": "code",
      "metadata": {
        "id": "vMP9FhFz7vrA",
        "colab_type": "code",
        "colab": {
          "base_uri": "https://localhost:8080/",
          "height": 196
        },
        "outputId": "3dfa44d2-3cc2-467d-c982-4b536c81a73f"
      },
      "source": [
        "from collections import Counter\n",
        "с = Counter(text)\n",
        "с.most_common(10)"
      ],
      "execution_count": 79,
      "outputs": [
        {
          "output_type": "execute_result",
          "data": {
            "text/plain": [
              "[('the', 1083),\n",
              " ('and', 939),\n",
              " ('to', 727),\n",
              " ('of', 670),\n",
              " ('a', 540),\n",
              " ('i', 523),\n",
              " ('my', 519),\n",
              " ('you', 433),\n",
              " ('in', 420),\n",
              " ('that', 343)]"
            ]
          },
          "metadata": {
            "tags": []
          },
          "execution_count": 79
        }
      ]
    },
    {
      "cell_type": "code",
      "metadata": {
        "id": "4irOCVVP72ii",
        "colab_type": "code",
        "colab": {
          "base_uri": "https://localhost:8080/",
          "height": 35
        },
        "outputId": "65cf0d45-ce8e-44e3-ea7a-e5e3c6ec7691"
      },
      "source": [
        "print(len(text))"
      ],
      "execution_count": 80,
      "outputs": [
        {
          "output_type": "stream",
          "text": [
            "23230\n"
          ],
          "name": "stdout"
        }
      ]
    },
    {
      "cell_type": "markdown",
      "metadata": {
        "id": "wDvjxlkDvOnG",
        "colab_type": "text"
      },
      "source": [
        "### Генераторы списков (list comprehensions)"
      ]
    },
    {
      "cell_type": "code",
      "metadata": {
        "id": "QjOneH5XvOnH",
        "colab_type": "code",
        "colab": {
          "base_uri": "https://localhost:8080/",
          "height": 35
        },
        "outputId": "485e538b-4bb3-4369-e758-fa1911ac5fb1"
      },
      "source": [
        "l = [i**2 for i in range(10)]\n",
        "l"
      ],
      "execution_count": 81,
      "outputs": [
        {
          "output_type": "execute_result",
          "data": {
            "text/plain": [
              "[0, 1, 4, 9, 16, 25, 36, 49, 64, 81]"
            ]
          },
          "metadata": {
            "tags": []
          },
          "execution_count": 81
        }
      ]
    },
    {
      "cell_type": "code",
      "metadata": {
        "id": "KT5hC_9KvOnK",
        "colab_type": "code",
        "colab": {
          "base_uri": "https://localhost:8080/",
          "height": 821
        },
        "outputId": "142aaf2a-7d73-4646-fdfc-c8151d15ef82"
      },
      "source": [
        "l_even = [i*j for i in range(10) for  j in range(6) if i*j % 2 == 0]\n",
        "l_even"
      ],
      "execution_count": 82,
      "outputs": [
        {
          "output_type": "execute_result",
          "data": {
            "text/plain": [
              "[0,\n",
              " 0,\n",
              " 0,\n",
              " 0,\n",
              " 0,\n",
              " 0,\n",
              " 0,\n",
              " 2,\n",
              " 4,\n",
              " 0,\n",
              " 2,\n",
              " 4,\n",
              " 6,\n",
              " 8,\n",
              " 10,\n",
              " 0,\n",
              " 6,\n",
              " 12,\n",
              " 0,\n",
              " 4,\n",
              " 8,\n",
              " 12,\n",
              " 16,\n",
              " 20,\n",
              " 0,\n",
              " 10,\n",
              " 20,\n",
              " 0,\n",
              " 6,\n",
              " 12,\n",
              " 18,\n",
              " 24,\n",
              " 30,\n",
              " 0,\n",
              " 14,\n",
              " 28,\n",
              " 0,\n",
              " 8,\n",
              " 16,\n",
              " 24,\n",
              " 32,\n",
              " 40,\n",
              " 0,\n",
              " 18,\n",
              " 36]"
            ]
          },
          "metadata": {
            "tags": []
          },
          "execution_count": 82
        }
      ]
    },
    {
      "cell_type": "code",
      "metadata": {
        "id": "6gzaZnwSvOnM",
        "colab_type": "code",
        "colab": {}
      },
      "source": [
        ""
      ],
      "execution_count": null,
      "outputs": []
    },
    {
      "cell_type": "code",
      "metadata": {
        "id": "ellnsevCvOnO",
        "colab_type": "code",
        "colab": {
          "base_uri": "https://localhost:8080/",
          "height": 35
        },
        "outputId": "7596bf33-6f60-4e81-8f63-ffe4a56652ed"
      },
      "source": [
        "list1 = ['1', '2', '3', '4', '5']\n",
        "str1 = ' '.join(list1)\n",
        "str1"
      ],
      "execution_count": 83,
      "outputs": [
        {
          "output_type": "execute_result",
          "data": {
            "application/vnd.google.colaboratory.intrinsic+json": {
              "type": "string"
            },
            "text/plain": [
              "'1 2 3 4 5'"
            ]
          },
          "metadata": {
            "tags": []
          },
          "execution_count": 83
        }
      ]
    },
    {
      "cell_type": "code",
      "metadata": {
        "id": "myOYXJF4vOnS",
        "colab_type": "code",
        "colab": {
          "base_uri": "https://localhost:8080/",
          "height": 189
        },
        "outputId": "b536b285-ba94-4dec-c6d8-c4102cb7c59e"
      },
      "source": [
        "list2 = list(range(6))\n",
        "str2 = ''.join(list2)"
      ],
      "execution_count": 84,
      "outputs": [
        {
          "output_type": "error",
          "ename": "TypeError",
          "evalue": "ignored",
          "traceback": [
            "\u001b[0;31m---------------------------------------------------------------------------\u001b[0m",
            "\u001b[0;31mTypeError\u001b[0m                                 Traceback (most recent call last)",
            "\u001b[0;32m<ipython-input-84-1ff7e94af032>\u001b[0m in \u001b[0;36m<module>\u001b[0;34m()\u001b[0m\n\u001b[1;32m      1\u001b[0m \u001b[0mlist2\u001b[0m \u001b[0;34m=\u001b[0m \u001b[0mlist\u001b[0m\u001b[0;34m(\u001b[0m\u001b[0mrange\u001b[0m\u001b[0;34m(\u001b[0m\u001b[0;36m6\u001b[0m\u001b[0;34m)\u001b[0m\u001b[0;34m)\u001b[0m\u001b[0;34m\u001b[0m\u001b[0;34m\u001b[0m\u001b[0m\n\u001b[0;32m----> 2\u001b[0;31m \u001b[0mstr2\u001b[0m \u001b[0;34m=\u001b[0m \u001b[0;34m''\u001b[0m\u001b[0;34m.\u001b[0m\u001b[0mjoin\u001b[0m\u001b[0;34m(\u001b[0m\u001b[0mlist2\u001b[0m\u001b[0;34m)\u001b[0m\u001b[0;34m\u001b[0m\u001b[0;34m\u001b[0m\u001b[0m\n\u001b[0m",
            "\u001b[0;31mTypeError\u001b[0m: sequence item 0: expected str instance, int found"
          ]
        }
      ]
    },
    {
      "cell_type": "markdown",
      "metadata": {
        "id": "Vg1l1BdkvOnU",
        "colab_type": "text"
      },
      "source": [
        "### <font color=red>Задания:</font>"
      ]
    },
    {
      "cell_type": "markdown",
      "metadata": {
        "id": "gyOV0rglvOnU",
        "colab_type": "text"
      },
      "source": [
        "С помощью генераторов списка:\n",
        "* Исправьте предыдущий пример, чтобы получить строку\n",
        "* просуммируйте числа от 1 до 100"
      ]
    },
    {
      "cell_type": "code",
      "metadata": {
        "id": "R18sKxcNvOnU",
        "colab_type": "code",
        "colab": {
          "base_uri": "https://localhost:8080/",
          "height": 35
        },
        "outputId": "60b29ea8-b82a-4034-9ddf-51675203dcb7"
      },
      "source": [
        "''.join(str(i) for i in list2)"
      ],
      "execution_count": 85,
      "outputs": [
        {
          "output_type": "execute_result",
          "data": {
            "application/vnd.google.colaboratory.intrinsic+json": {
              "type": "string"
            },
            "text/plain": [
              "'012345'"
            ]
          },
          "metadata": {
            "tags": []
          },
          "execution_count": 85
        }
      ]
    },
    {
      "cell_type": "code",
      "metadata": {
        "id": "mB63-PDV8E_K",
        "colab_type": "code",
        "colab": {
          "base_uri": "https://localhost:8080/",
          "height": 35
        },
        "outputId": "d2920b6b-d516-46c7-dcd1-77592f28c53a"
      },
      "source": [
        "sum([i for i in range(1, 101)])"
      ],
      "execution_count": 86,
      "outputs": [
        {
          "output_type": "execute_result",
          "data": {
            "text/plain": [
              "5050"
            ]
          },
          "metadata": {
            "tags": []
          },
          "execution_count": 86
        }
      ]
    },
    {
      "cell_type": "markdown",
      "metadata": {
        "id": "RBt8WP-svOnX",
        "colab_type": "text"
      },
      "source": [
        "# Кортеж"
      ]
    },
    {
      "cell_type": "markdown",
      "metadata": {
        "id": "-i74kjcbvOnY",
        "colab_type": "text"
      },
      "source": [
        "Кортеж (tuple) отличается от списка тем, что он __неизменяемый__ (immutable)"
      ]
    },
    {
      "cell_type": "code",
      "metadata": {
        "id": "A_JBm0qZvOnZ",
        "colab_type": "code",
        "colab": {
          "base_uri": "https://localhost:8080/",
          "height": 35
        },
        "outputId": "5e7fbd4f-8c88-422e-b644-de738b1a07e0"
      },
      "source": [
        "t = 'a', 'b', 'c', 'd', 'e'\n",
        "t"
      ],
      "execution_count": 87,
      "outputs": [
        {
          "output_type": "execute_result",
          "data": {
            "text/plain": [
              "('a', 'b', 'c', 'd', 'e')"
            ]
          },
          "metadata": {
            "tags": []
          },
          "execution_count": 87
        }
      ]
    },
    {
      "cell_type": "code",
      "metadata": {
        "id": "DGAl32b7vOnb",
        "colab_type": "code",
        "colab": {
          "base_uri": "https://localhost:8080/",
          "height": 35
        },
        "outputId": "68089411-69f6-4e28-b4b1-1ae1628e6104"
      },
      "source": [
        "t = ('a', 'b', 'c', 'd', 'e')\n",
        "t"
      ],
      "execution_count": 88,
      "outputs": [
        {
          "output_type": "execute_result",
          "data": {
            "text/plain": [
              "('a', 'b', 'c', 'd', 'e')"
            ]
          },
          "metadata": {
            "tags": []
          },
          "execution_count": 88
        }
      ]
    },
    {
      "cell_type": "code",
      "metadata": {
        "id": "zvwG_z1NvOnc",
        "colab_type": "code",
        "colab": {
          "base_uri": "https://localhost:8080/",
          "height": 35
        },
        "outputId": "d3322636-35d0-4c83-8258-559d2972ac75"
      },
      "source": [
        "t = tuple('Some string')\n",
        "t"
      ],
      "execution_count": 89,
      "outputs": [
        {
          "output_type": "execute_result",
          "data": {
            "text/plain": [
              "('S', 'o', 'm', 'e', ' ', 's', 't', 'r', 'i', 'n', 'g')"
            ]
          },
          "metadata": {
            "tags": []
          },
          "execution_count": 89
        }
      ]
    },
    {
      "cell_type": "code",
      "metadata": {
        "id": "BVmvXUE9vOnf",
        "colab_type": "code",
        "colab": {}
      },
      "source": [
        "url = 'www.mai.ru'\n",
        "a,b,c = url.split('.')"
      ],
      "execution_count": 90,
      "outputs": []
    },
    {
      "cell_type": "code",
      "metadata": {
        "id": "HAWewuPlvOni",
        "colab_type": "code",
        "colab": {
          "base_uri": "https://localhost:8080/",
          "height": 35
        },
        "outputId": "05402167-1525-4182-df4c-f09b36230b41"
      },
      "source": [
        "a, b, c"
      ],
      "execution_count": 91,
      "outputs": [
        {
          "output_type": "execute_result",
          "data": {
            "text/plain": [
              "('www', 'mai', 'ru')"
            ]
          },
          "metadata": {
            "tags": []
          },
          "execution_count": 91
        }
      ]
    },
    {
      "cell_type": "code",
      "metadata": {
        "id": "TB-E6XH-vOnk",
        "colab_type": "code",
        "colab": {}
      },
      "source": [
        "a, b = b, a"
      ],
      "execution_count": 92,
      "outputs": []
    },
    {
      "cell_type": "code",
      "metadata": {
        "id": "M5roz-i8vOnn",
        "colab_type": "code",
        "colab": {
          "base_uri": "https://localhost:8080/",
          "height": 35
        },
        "outputId": "2febbad8-3b49-41dc-bdc9-a2321c0f9d7b"
      },
      "source": [
        "url_parts = url.split('.')\n",
        "url_parts, type(url_parts)"
      ],
      "execution_count": 93,
      "outputs": [
        {
          "output_type": "execute_result",
          "data": {
            "text/plain": [
              "(['www', 'mai', 'ru'], list)"
            ]
          },
          "metadata": {
            "tags": []
          },
          "execution_count": 93
        }
      ]
    },
    {
      "cell_type": "code",
      "metadata": {
        "id": "VYkPk0ExvOnp",
        "colab_type": "code",
        "colab": {
          "base_uri": "https://localhost:8080/",
          "height": 35
        },
        "outputId": "690e2ed9-1448-4837-ab8f-d687053d0483"
      },
      "source": [
        "d = {i:c for i, c in enumerate('abcdefg')}\n",
        "d"
      ],
      "execution_count": 94,
      "outputs": [
        {
          "output_type": "execute_result",
          "data": {
            "text/plain": [
              "{0: 'a', 1: 'b', 2: 'c', 3: 'd', 4: 'e', 5: 'f', 6: 'g'}"
            ]
          },
          "metadata": {
            "tags": []
          },
          "execution_count": 94
        }
      ]
    },
    {
      "cell_type": "code",
      "metadata": {
        "id": "sDXm8yfSvOnr",
        "colab_type": "code",
        "colab": {
          "base_uri": "https://localhost:8080/",
          "height": 35
        },
        "outputId": "811f5573-392c-4120-df2b-8eb8d0bac2cb"
      },
      "source": [
        "items = d.items()\n",
        "items"
      ],
      "execution_count": 95,
      "outputs": [
        {
          "output_type": "execute_result",
          "data": {
            "text/plain": [
              "dict_items([(0, 'a'), (1, 'b'), (2, 'c'), (3, 'd'), (4, 'e'), (5, 'f'), (6, 'g')])"
            ]
          },
          "metadata": {
            "tags": []
          },
          "execution_count": 95
        }
      ]
    },
    {
      "cell_type": "code",
      "metadata": {
        "id": "Z7jSo_39vOoC",
        "colab_type": "code",
        "colab": {
          "base_uri": "https://localhost:8080/",
          "height": 35
        },
        "outputId": "66503b67-3591-4083-c11a-840ff2e46f59"
      },
      "source": [
        "sorted(items)"
      ],
      "execution_count": 96,
      "outputs": [
        {
          "output_type": "execute_result",
          "data": {
            "text/plain": [
              "[(0, 'a'), (1, 'b'), (2, 'c'), (3, 'd'), (4, 'e'), (5, 'f'), (6, 'g')]"
            ]
          },
          "metadata": {
            "tags": []
          },
          "execution_count": 96
        }
      ]
    },
    {
      "cell_type": "markdown",
      "metadata": {
        "id": "zpxuesvUvOoH",
        "colab_type": "text"
      },
      "source": [
        "### <font color=green>Полезно запомнить</font>"
      ]
    },
    {
      "cell_type": "code",
      "metadata": {
        "id": "dhobTpIqvOoH",
        "colab_type": "code",
        "colab": {
          "base_uri": "https://localhost:8080/",
          "height": 35
        },
        "outputId": "e2522de6-610d-4eb2-c54f-ab6098c075a2"
      },
      "source": [
        "(1, 2, 3) < (1, 3, 4)"
      ],
      "execution_count": 97,
      "outputs": [
        {
          "output_type": "execute_result",
          "data": {
            "text/plain": [
              "True"
            ]
          },
          "metadata": {
            "tags": []
          },
          "execution_count": 97
        }
      ]
    },
    {
      "cell_type": "code",
      "metadata": {
        "id": "Eop94qwhvOoK",
        "colab_type": "code",
        "colab": {
          "base_uri": "https://localhost:8080/",
          "height": 171
        },
        "outputId": "9809f0ac-9bbd-4929-d8ad-84507ea27347"
      },
      "source": [
        "[1, 2, 3] < (1, 3, 4)"
      ],
      "execution_count": 98,
      "outputs": [
        {
          "output_type": "error",
          "ename": "TypeError",
          "evalue": "ignored",
          "traceback": [
            "\u001b[0;31m---------------------------------------------------------------------------\u001b[0m",
            "\u001b[0;31mTypeError\u001b[0m                                 Traceback (most recent call last)",
            "\u001b[0;32m<ipython-input-98-4a1ddb2a5a8a>\u001b[0m in \u001b[0;36m<module>\u001b[0;34m()\u001b[0m\n\u001b[0;32m----> 1\u001b[0;31m \u001b[0;34m[\u001b[0m\u001b[0;36m1\u001b[0m\u001b[0;34m,\u001b[0m \u001b[0;36m2\u001b[0m\u001b[0;34m,\u001b[0m \u001b[0;36m3\u001b[0m\u001b[0;34m]\u001b[0m \u001b[0;34m<\u001b[0m \u001b[0;34m(\u001b[0m\u001b[0;36m1\u001b[0m\u001b[0;34m,\u001b[0m \u001b[0;36m3\u001b[0m\u001b[0;34m,\u001b[0m \u001b[0;36m4\u001b[0m\u001b[0;34m)\u001b[0m\u001b[0;34m\u001b[0m\u001b[0;34m\u001b[0m\u001b[0m\n\u001b[0m",
            "\u001b[0;31mTypeError\u001b[0m: '<' not supported between instances of 'list' and 'tuple'"
          ]
        }
      ]
    },
    {
      "cell_type": "code",
      "metadata": {
        "id": "DUnR9547vOoN",
        "colab_type": "code",
        "colab": {
          "base_uri": "https://localhost:8080/",
          "height": 35
        },
        "outputId": "e66a39f0-6f28-492f-b05c-52601418db45"
      },
      "source": [
        "tuple([1, 2, 3]) > (1, 3, 4), [1, 2, 3] > list((1, 3, 4))"
      ],
      "execution_count": 99,
      "outputs": [
        {
          "output_type": "execute_result",
          "data": {
            "text/plain": [
              "(False, False)"
            ]
          },
          "metadata": {
            "tags": []
          },
          "execution_count": 99
        }
      ]
    },
    {
      "cell_type": "code",
      "metadata": {
        "id": "vOnVAny-vOoP",
        "colab_type": "code",
        "colab": {}
      },
      "source": [
        "gen = (i for i in 'Как-то вот так генерируем')"
      ],
      "execution_count": 100,
      "outputs": []
    },
    {
      "cell_type": "code",
      "metadata": {
        "id": "pVBCj6PrvOoS",
        "colab_type": "code",
        "colab": {
          "base_uri": "https://localhost:8080/",
          "height": 35
        },
        "outputId": "1d70702a-5751-42b2-d6de-25b10a3ccd96"
      },
      "source": [
        "gen, type( list( gen))"
      ],
      "execution_count": 101,
      "outputs": [
        {
          "output_type": "execute_result",
          "data": {
            "text/plain": [
              "(<generator object <genexpr> at 0x7fa583a0bd00>, list)"
            ]
          },
          "metadata": {
            "tags": []
          },
          "execution_count": 101
        }
      ]
    },
    {
      "cell_type": "markdown",
      "metadata": {
        "id": "8b36EgHmvOoU",
        "colab_type": "text"
      },
      "source": [
        "# Словарь"
      ]
    },
    {
      "cell_type": "code",
      "metadata": {
        "scrolled": true,
        "id": "gSPmzOFMvOoW",
        "colab_type": "code",
        "colab": {
          "base_uri": "https://localhost:8080/",
          "height": 35
        },
        "outputId": "88e66b07-2301-46b2-bbc8-1f665fd5f240"
      },
      "source": [
        "d = {1:'a', 2:'b', 3:'c', 4:'d', 5:'e'}\n",
        "d"
      ],
      "execution_count": 102,
      "outputs": [
        {
          "output_type": "execute_result",
          "data": {
            "text/plain": [
              "{1: 'a', 2: 'b', 3: 'c', 4: 'd', 5: 'e'}"
            ]
          },
          "metadata": {
            "tags": []
          },
          "execution_count": 102
        }
      ]
    },
    {
      "cell_type": "code",
      "metadata": {
        "id": "3Nw8QiTTvOoY",
        "colab_type": "code",
        "colab": {
          "base_uri": "https://localhost:8080/",
          "height": 35
        },
        "outputId": "c4ba5152-4c47-45ce-fdc8-c5ab7198a1c4"
      },
      "source": [
        "d[1]='oops'\n",
        "d"
      ],
      "execution_count": 103,
      "outputs": [
        {
          "output_type": "execute_result",
          "data": {
            "text/plain": [
              "{1: 'oops', 2: 'b', 3: 'c', 4: 'd', 5: 'e'}"
            ]
          },
          "metadata": {
            "tags": []
          },
          "execution_count": 103
        }
      ]
    },
    {
      "cell_type": "code",
      "metadata": {
        "id": "-aWUieuZvOob",
        "colab_type": "code",
        "colab": {
          "base_uri": "https://localhost:8080/",
          "height": 71
        },
        "outputId": "7ee39e09-9d60-4003-8c0e-0cd49256a091"
      },
      "source": [
        "d.keys(), d.values(), d.items()"
      ],
      "execution_count": 104,
      "outputs": [
        {
          "output_type": "execute_result",
          "data": {
            "text/plain": [
              "(dict_keys([1, 2, 3, 4, 5]),\n",
              " dict_values(['oops', 'b', 'c', 'd', 'e']),\n",
              " dict_items([(1, 'oops'), (2, 'b'), (3, 'c'), (4, 'd'), (5, 'e')]))"
            ]
          },
          "metadata": {
            "tags": []
          },
          "execution_count": 104
        }
      ]
    },
    {
      "cell_type": "code",
      "metadata": {
        "id": "fQ9ok2WPvOod",
        "colab_type": "code",
        "colab": {
          "base_uri": "https://localhost:8080/",
          "height": 171
        },
        "outputId": "593fe5c5-2dfc-4bb0-ccb3-43c39c4c828a"
      },
      "source": [
        "sum( list( d.values()))"
      ],
      "execution_count": 105,
      "outputs": [
        {
          "output_type": "error",
          "ename": "TypeError",
          "evalue": "ignored",
          "traceback": [
            "\u001b[0;31m---------------------------------------------------------------------------\u001b[0m",
            "\u001b[0;31mTypeError\u001b[0m                                 Traceback (most recent call last)",
            "\u001b[0;32m<ipython-input-105-4056f462dafd>\u001b[0m in \u001b[0;36m<module>\u001b[0;34m()\u001b[0m\n\u001b[0;32m----> 1\u001b[0;31m \u001b[0msum\u001b[0m\u001b[0;34m(\u001b[0m \u001b[0mlist\u001b[0m\u001b[0;34m(\u001b[0m \u001b[0md\u001b[0m\u001b[0;34m.\u001b[0m\u001b[0mvalues\u001b[0m\u001b[0;34m(\u001b[0m\u001b[0;34m)\u001b[0m\u001b[0;34m)\u001b[0m\u001b[0;34m)\u001b[0m\u001b[0;34m\u001b[0m\u001b[0;34m\u001b[0m\u001b[0m\n\u001b[0m",
            "\u001b[0;31mTypeError\u001b[0m: unsupported operand type(s) for +: 'int' and 'str'"
          ]
        }
      ]
    },
    {
      "cell_type": "code",
      "metadata": {
        "id": "lDLSe0dbvOoe",
        "colab_type": "code",
        "colab": {
          "base_uri": "https://localhost:8080/",
          "height": 35
        },
        "outputId": "b87d436f-a236-40ae-9701-7aea8f948ec8"
      },
      "source": [
        "list(d.items())"
      ],
      "execution_count": 106,
      "outputs": [
        {
          "output_type": "execute_result",
          "data": {
            "text/plain": [
              "[(1, 'oops'), (2, 'b'), (3, 'c'), (4, 'd'), (5, 'e')]"
            ]
          },
          "metadata": {
            "tags": []
          },
          "execution_count": 106
        }
      ]
    },
    {
      "cell_type": "code",
      "metadata": {
        "id": "UPu_clppvOoh",
        "colab_type": "code",
        "colab": {
          "base_uri": "https://localhost:8080/",
          "height": 106
        },
        "outputId": "d0b21e33-4530-4a5d-9ddb-f47ab9133b64"
      },
      "source": [
        "for i in d:\n",
        "    print( i, d[i])\n"
      ],
      "execution_count": 107,
      "outputs": [
        {
          "output_type": "stream",
          "text": [
            "1 oops\n",
            "2 b\n",
            "3 c\n",
            "4 d\n",
            "5 e\n"
          ],
          "name": "stdout"
        }
      ]
    },
    {
      "cell_type": "code",
      "metadata": {
        "id": "MShCKI6ovOoi",
        "colab_type": "code",
        "colab": {
          "base_uri": "https://localhost:8080/",
          "height": 106
        },
        "outputId": "804d0cf2-6db6-4e7a-be0b-c73885a50be3"
      },
      "source": [
        "for i, k in enumerate(d):\n",
        "    print( i, k, d[k])"
      ],
      "execution_count": 108,
      "outputs": [
        {
          "output_type": "stream",
          "text": [
            "0 1 oops\n",
            "1 2 b\n",
            "2 3 c\n",
            "3 4 d\n",
            "4 5 e\n"
          ],
          "name": "stdout"
        }
      ]
    },
    {
      "cell_type": "code",
      "metadata": {
        "id": "0kGoqqrdvOok",
        "colab_type": "code",
        "colab": {
          "base_uri": "https://localhost:8080/",
          "height": 196
        },
        "outputId": "223d1c7f-4626-4bcd-9b66-0089d690863f"
      },
      "source": [
        "for i, k in enumerate( range(10)):\n",
        "    print(i, k)"
      ],
      "execution_count": 109,
      "outputs": [
        {
          "output_type": "stream",
          "text": [
            "0 0\n",
            "1 1\n",
            "2 2\n",
            "3 3\n",
            "4 4\n",
            "5 5\n",
            "6 6\n",
            "7 7\n",
            "8 8\n",
            "9 9\n"
          ],
          "name": "stdout"
        }
      ]
    },
    {
      "cell_type": "code",
      "metadata": {
        "id": "Pj6U7HOfvOon",
        "colab_type": "code",
        "colab": {
          "base_uri": "https://localhost:8080/",
          "height": 35
        },
        "outputId": "d95392ea-e53c-42c7-854f-fb104849eec8"
      },
      "source": [
        "d.pop(2)"
      ],
      "execution_count": 110,
      "outputs": [
        {
          "output_type": "execute_result",
          "data": {
            "application/vnd.google.colaboratory.intrinsic+json": {
              "type": "string"
            },
            "text/plain": [
              "'b'"
            ]
          },
          "metadata": {
            "tags": []
          },
          "execution_count": 110
        }
      ]
    },
    {
      "cell_type": "code",
      "metadata": {
        "id": "-U9D8b8xvOoo",
        "colab_type": "code",
        "colab": {
          "base_uri": "https://localhost:8080/",
          "height": 35
        },
        "outputId": "c0d3b1f1-d360-4947-c997-fe09f0d3bd26"
      },
      "source": [
        "d[8] = 'oops!'\n",
        "d"
      ],
      "execution_count": 111,
      "outputs": [
        {
          "output_type": "execute_result",
          "data": {
            "text/plain": [
              "{1: 'oops', 3: 'c', 4: 'd', 5: 'e', 8: 'oops!'}"
            ]
          },
          "metadata": {
            "tags": []
          },
          "execution_count": 111
        }
      ]
    },
    {
      "cell_type": "code",
      "metadata": {
        "id": "Hl1jnmk5vOoq",
        "colab_type": "code",
        "colab": {
          "base_uri": "https://localhost:8080/",
          "height": 35
        },
        "outputId": "b070476d-90cc-46a9-cd14-a5c97c6035b0"
      },
      "source": [
        "del d[3]\n",
        "d"
      ],
      "execution_count": 112,
      "outputs": [
        {
          "output_type": "execute_result",
          "data": {
            "text/plain": [
              "{1: 'oops', 4: 'd', 5: 'e', 8: 'oops!'}"
            ]
          },
          "metadata": {
            "tags": []
          },
          "execution_count": 112
        }
      ]
    },
    {
      "cell_type": "markdown",
      "metadata": {
        "id": "t78AgYyEvOos",
        "colab_type": "text"
      },
      "source": [
        "hashable!!!"
      ]
    },
    {
      "cell_type": "markdown",
      "metadata": {
        "id": "CGV2VjN4vOot",
        "colab_type": "text"
      },
      "source": [
        "### Генераторы словарей (dictionary comprehensions)"
      ]
    },
    {
      "cell_type": "code",
      "metadata": {
        "id": "Ykr9LlJmvOot",
        "colab_type": "code",
        "colab": {
          "base_uri": "https://localhost:8080/",
          "height": 35
        },
        "outputId": "b318b314-88f7-45da-b928-ebb9f2d5afae"
      },
      "source": [
        "d = {i:i**2 for i in range(11)}\n",
        "d"
      ],
      "execution_count": 113,
      "outputs": [
        {
          "output_type": "execute_result",
          "data": {
            "text/plain": [
              "{0: 0, 1: 1, 2: 4, 3: 9, 4: 16, 5: 25, 6: 36, 7: 49, 8: 64, 9: 81, 10: 100}"
            ]
          },
          "metadata": {
            "tags": []
          },
          "execution_count": 113
        }
      ]
    },
    {
      "cell_type": "code",
      "metadata": {
        "id": "Z741qyi2vOov",
        "colab_type": "code",
        "colab": {
          "base_uri": "https://localhost:8080/",
          "height": 35
        },
        "outputId": "41d2efef-77dc-42e0-aad1-5885ab3ddf02"
      },
      "source": [
        "d = (i for i in range(11))\n",
        "d"
      ],
      "execution_count": 114,
      "outputs": [
        {
          "output_type": "execute_result",
          "data": {
            "text/plain": [
              "<generator object <genexpr> at 0x7fa583a151a8>"
            ]
          },
          "metadata": {
            "tags": []
          },
          "execution_count": 114
        }
      ]
    },
    {
      "cell_type": "code",
      "metadata": {
        "id": "bsuurQGbvOow",
        "colab_type": "code",
        "colab": {
          "base_uri": "https://localhost:8080/",
          "height": 35
        },
        "outputId": "ae0a324e-5dc8-4a45-a72e-89f6bd453133"
      },
      "source": [
        "list(d)"
      ],
      "execution_count": 115,
      "outputs": [
        {
          "output_type": "execute_result",
          "data": {
            "text/plain": [
              "[0, 1, 2, 3, 4, 5, 6, 7, 8, 9, 10]"
            ]
          },
          "metadata": {
            "tags": []
          },
          "execution_count": 115
        }
      ]
    },
    {
      "cell_type": "code",
      "metadata": {
        "id": "ybbZuBITvOoy",
        "colab_type": "code",
        "colab": {
          "base_uri": "https://localhost:8080/",
          "height": 135
        },
        "outputId": "f7c3eb56-61d5-4ef1-9784-1f3ef30ad0f6"
      },
      "source": [
        "# в чем ошибка?\n",
        "d = [i:i**2 for i in range(11)]\n",
        "d"
      ],
      "execution_count": 116,
      "outputs": [
        {
          "output_type": "error",
          "ename": "SyntaxError",
          "evalue": "ignored",
          "traceback": [
            "\u001b[0;36m  File \u001b[0;32m\"<ipython-input-116-b1af9ff88311>\"\u001b[0;36m, line \u001b[0;32m2\u001b[0m\n\u001b[0;31m    d = [i:i**2 for i in range(11)]\u001b[0m\n\u001b[0m          ^\u001b[0m\n\u001b[0;31mSyntaxError\u001b[0m\u001b[0;31m:\u001b[0m invalid syntax\n"
          ]
        }
      ]
    },
    {
      "cell_type": "markdown",
      "metadata": {
        "id": "nEZJtaV5vOo1",
        "colab_type": "text"
      },
      "source": [
        "### <font color=red>Задание</font>"
      ]
    },
    {
      "cell_type": "markdown",
      "metadata": {
        "id": "QP7wqglSvOo1",
        "colab_type": "text"
      },
      "source": [
        "* Перепишите код с частотной характеристикой слов в тексте Гамлета с использованием словаря"
      ]
    },
    {
      "cell_type": "code",
      "metadata": {
        "id": "Kyi9IHR2vOo2",
        "colab_type": "code",
        "colab": {
          "base_uri": "https://localhost:8080/",
          "height": 196
        },
        "outputId": "d5f09f32-4fd2-44ac-d453-d9da32654efb"
      },
      "source": [
        "d = dict()\n",
        "for i in text:\n",
        "    if i in d:\n",
        "        d[i] += 1\n",
        "    else:\n",
        "        d[i] = 1\n",
        "\n",
        "d = sorted(d.items(), key=lambda x: x[1], reverse=True)\n",
        "\n",
        "for i, j in enumerate(d):\n",
        "    k, v = j\n",
        "    if i > 9:\n",
        "        break\n",
        "    print(k, v)"
      ],
      "execution_count": 119,
      "outputs": [
        {
          "output_type": "stream",
          "text": [
            "the 1083\n",
            "and 939\n",
            "to 727\n",
            "of 670\n",
            "a 540\n",
            "i 523\n",
            "my 519\n",
            "you 433\n",
            "in 420\n",
            "that 343\n"
          ],
          "name": "stdout"
        }
      ]
    },
    {
      "cell_type": "markdown",
      "metadata": {
        "id": "w-n-OMggvOo4",
        "colab_type": "text"
      },
      "source": [
        "## Списки и словари в аргументах функции"
      ]
    },
    {
      "cell_type": "markdown",
      "metadata": {
        "id": "xW0xmQBvvOo5",
        "colab_type": "text"
      },
      "source": [
        "#### Скорректируйте функции так, чтобы они выдавали аргумент функции и его тип"
      ]
    },
    {
      "cell_type": "code",
      "metadata": {
        "id": "oOdCiX7-vOo5",
        "colab_type": "code",
        "colab": {
          "base_uri": "https://localhost:8080/",
          "height": 35
        },
        "outputId": "e9b5df6b-ba0a-4678-cfcc-c851bfd27dc1"
      },
      "source": [
        "def login(*usernamepassword):\n",
        "    # Get username in the list.\n",
        "    username = usernamepassword[0]\n",
        "    # Get password in the list.\n",
        "    password = usernamepassword[1]\n",
        "\n",
        "    if (username == 'hello') and (password == 'hello'):\n",
        "        print(\"Login Success!\")\n",
        "    else:\n",
        "        print(\"Login Failed!\")\n",
        "\n",
        "login('hello', 'hello')"
      ],
      "execution_count": 120,
      "outputs": [
        {
          "output_type": "stream",
          "text": [
            "Login Success!\n"
          ],
          "name": "stdout"
        }
      ]
    },
    {
      "cell_type": "code",
      "metadata": {
        "id": "X08eW4_5vOo8",
        "colab_type": "code",
        "colab": {
          "base_uri": "https://localhost:8080/",
          "height": 35
        },
        "outputId": "411a83b3-acc4-4c75-ac8a-38f3fd874a18"
      },
      "source": [
        "def loginWithDictArguments(**upDict):\n",
        "    # Get all keys in the dictionary.\n",
        "    keys = upDict.keys()\n",
        "\n",
        "    username = ''\n",
        "    password = ''\n",
        "    email = ''\n",
        "\n",
        "    # Loop in the dict keys.\n",
        "    for key in keys:\n",
        "        if key == 'username':\n",
        "            username = upDict[key]\n",
        "        \n",
        "        if key == 'password':\n",
        "            password = upDict[key]\n",
        "\n",
        "        if key == 'email':\n",
        "            email = upDict[key]\n",
        "\n",
        "    if (username == 'hello') and (password == 'hello'):\n",
        "        print('Login Success. Your email is ' + email)\n",
        "    else:\n",
        "        print('Login fail. Your email is ' + email)     \n",
        "\n",
        "loginWithDictArguments(username='hello', password='hello', email='vasya@pupkin.ru') "
      ],
      "execution_count": 121,
      "outputs": [
        {
          "output_type": "stream",
          "text": [
            "Login Success. Your email is vasya@pupkin.ru\n"
          ],
          "name": "stdout"
        }
      ]
    },
    {
      "cell_type": "markdown",
      "metadata": {
        "id": "NABKAA8zvOo-",
        "colab_type": "text"
      },
      "source": [
        "## Множество"
      ]
    },
    {
      "cell_type": "code",
      "metadata": {
        "id": "55jc8ccxvOo-",
        "colab_type": "code",
        "colab": {}
      },
      "source": [
        "a = set((0,1,2,3,4,5,6,7,8,9,3,4,5,6,7,8,0))\n",
        "b = set(['a', 'b', 'c', 'd', 1, 2, 3, 4])"
      ],
      "execution_count": 122,
      "outputs": []
    },
    {
      "cell_type": "code",
      "metadata": {
        "id": "sINSTeZDvOpC",
        "colab_type": "code",
        "colab": {
          "base_uri": "https://localhost:8080/",
          "height": 35
        },
        "outputId": "7512b04f-1d2a-42d7-af68-f808d57ac9cd"
      },
      "source": [
        "a,b"
      ],
      "execution_count": 123,
      "outputs": [
        {
          "output_type": "execute_result",
          "data": {
            "text/plain": [
              "({0, 1, 2, 3, 4, 5, 6, 7, 8, 9}, {1, 2, 3, 4, 'a', 'b', 'c', 'd'})"
            ]
          },
          "metadata": {
            "tags": []
          },
          "execution_count": 123
        }
      ]
    },
    {
      "cell_type": "code",
      "metadata": {
        "id": "auBTSIo7vOpE",
        "colab_type": "code",
        "colab": {
          "base_uri": "https://localhost:8080/",
          "height": 53
        },
        "outputId": "afc5273e-2a0c-49da-91c7-db94cac5ffd9"
      },
      "source": [
        "print('1=', a.intersection(b), '\\n2=', b.intersection(a))"
      ],
      "execution_count": 124,
      "outputs": [
        {
          "output_type": "stream",
          "text": [
            "1= {1, 2, 3, 4} \n",
            "2= {1, 2, 3, 4}\n"
          ],
          "name": "stdout"
        }
      ]
    },
    {
      "cell_type": "code",
      "metadata": {
        "id": "_moaU9D5vOpG",
        "colab_type": "code",
        "colab": {
          "base_uri": "https://localhost:8080/",
          "height": 53
        },
        "outputId": "5be36ab6-56d1-4771-bc27-bbb86c7c99f3"
      },
      "source": [
        "print('1=', a.difference(b), '\\n2=', b.difference(a))"
      ],
      "execution_count": 125,
      "outputs": [
        {
          "output_type": "stream",
          "text": [
            "1= {0, 5, 6, 7, 8, 9} \n",
            "2= {'c', 'b', 'a', 'd'}\n"
          ],
          "name": "stdout"
        }
      ]
    },
    {
      "cell_type": "code",
      "metadata": {
        "id": "fFjNzubSvOpI",
        "colab_type": "code",
        "colab": {
          "base_uri": "https://localhost:8080/",
          "height": 53
        },
        "outputId": "a8227162-3485-41d6-d902-2ad5f02d3344"
      },
      "source": [
        "print('1=', a.symmetric_difference(b), '\\n2=', b.symmetric_difference(a))"
      ],
      "execution_count": 126,
      "outputs": [
        {
          "output_type": "stream",
          "text": [
            "1= {0, 5, 6, 7, 8, 9, 'b', 'd', 'c', 'a'} \n",
            "2= {0, 5, 6, 7, 8, 9, 'b', 'd', 'c', 'a'}\n"
          ],
          "name": "stdout"
        }
      ]
    },
    {
      "cell_type": "code",
      "metadata": {
        "id": "S5cI3LMAvOpK",
        "colab_type": "code",
        "colab": {
          "base_uri": "https://localhost:8080/",
          "height": 35
        },
        "outputId": "ffa76af1-9d08-434e-dab8-8a431a0f28a8"
      },
      "source": [
        "print(a.union(b))"
      ],
      "execution_count": 127,
      "outputs": [
        {
          "output_type": "stream",
          "text": [
            "{0, 1, 2, 3, 4, 5, 6, 7, 8, 9, 'b', 'd', 'c', 'a'}\n"
          ],
          "name": "stdout"
        }
      ]
    },
    {
      "cell_type": "markdown",
      "metadata": {
        "id": "_lPcFj-BvOpM",
        "colab_type": "text"
      },
      "source": [
        "### <font color=red>Задание</font>"
      ]
    },
    {
      "cell_type": "markdown",
      "metadata": {
        "id": "ukBmLCQ-vOpM",
        "colab_type": "text"
      },
      "source": [
        "* Найдите количество уникальных слов в Гамлете с помощью множества"
      ]
    },
    {
      "cell_type": "code",
      "metadata": {
        "id": "i4IBOc5I-uNK",
        "colab_type": "code",
        "colab": {
          "base_uri": "https://localhost:8080/",
          "height": 35
        },
        "outputId": "339123dc-0e0b-495f-d2f1-6a3d7d14a92d"
      },
      "source": [
        "len(set(text))"
      ],
      "execution_count": 128,
      "outputs": [
        {
          "output_type": "execute_result",
          "data": {
            "text/plain": [
              "3376"
            ]
          },
          "metadata": {
            "tags": []
          },
          "execution_count": 128
        }
      ]
    },
    {
      "cell_type": "markdown",
      "metadata": {
        "id": "3srjQMqYvOpN",
        "colab_type": "text"
      },
      "source": [
        "### Стек"
      ]
    },
    {
      "cell_type": "code",
      "metadata": {
        "id": "uA15wYvdvOpO",
        "colab_type": "code",
        "colab": {}
      },
      "source": [
        "stack = [1, 2, 3, 4, 5]"
      ],
      "execution_count": 129,
      "outputs": []
    },
    {
      "cell_type": "code",
      "metadata": {
        "id": "g9fsaDSKvOpQ",
        "colab_type": "code",
        "colab": {}
      },
      "source": [
        "stack.append(6)"
      ],
      "execution_count": 130,
      "outputs": []
    },
    {
      "cell_type": "code",
      "metadata": {
        "id": "DkbCdDrIvOpS",
        "colab_type": "code",
        "colab": {}
      },
      "source": [
        "stack.append(7)"
      ],
      "execution_count": 131,
      "outputs": []
    },
    {
      "cell_type": "code",
      "metadata": {
        "id": "v8j0UEcXvOpU",
        "colab_type": "code",
        "colab": {
          "base_uri": "https://localhost:8080/",
          "height": 35
        },
        "outputId": "d7d72d13-9270-45fb-ad15-29566dbd4121"
      },
      "source": [
        "stack"
      ],
      "execution_count": 132,
      "outputs": [
        {
          "output_type": "execute_result",
          "data": {
            "text/plain": [
              "[1, 2, 3, 4, 5, 6, 7]"
            ]
          },
          "metadata": {
            "tags": []
          },
          "execution_count": 132
        }
      ]
    },
    {
      "cell_type": "code",
      "metadata": {
        "id": "VYO93t8hvOpW",
        "colab_type": "code",
        "colab": {
          "base_uri": "https://localhost:8080/",
          "height": 35
        },
        "outputId": "88101f2a-17e1-41ad-d9d1-0feb3a109d79"
      },
      "source": [
        "stack.pop()"
      ],
      "execution_count": 133,
      "outputs": [
        {
          "output_type": "execute_result",
          "data": {
            "text/plain": [
              "7"
            ]
          },
          "metadata": {
            "tags": []
          },
          "execution_count": 133
        }
      ]
    },
    {
      "cell_type": "code",
      "metadata": {
        "id": "RaeeAFRhvOpd",
        "colab_type": "code",
        "colab": {
          "base_uri": "https://localhost:8080/",
          "height": 35
        },
        "outputId": "35bd15e1-0395-4754-809e-be05f29ba83d"
      },
      "source": [
        "stack.pop()"
      ],
      "execution_count": 134,
      "outputs": [
        {
          "output_type": "execute_result",
          "data": {
            "text/plain": [
              "6"
            ]
          },
          "metadata": {
            "tags": []
          },
          "execution_count": 134
        }
      ]
    },
    {
      "cell_type": "code",
      "metadata": {
        "id": "WX42K_WgvOph",
        "colab_type": "code",
        "colab": {
          "base_uri": "https://localhost:8080/",
          "height": 35
        },
        "outputId": "7183d77a-ba87-4d1b-879c-2d276b7a9000"
      },
      "source": [
        "stack"
      ],
      "execution_count": 135,
      "outputs": [
        {
          "output_type": "execute_result",
          "data": {
            "text/plain": [
              "[1, 2, 3, 4, 5]"
            ]
          },
          "metadata": {
            "tags": []
          },
          "execution_count": 135
        }
      ]
    },
    {
      "cell_type": "markdown",
      "metadata": {
        "id": "mtANrwISvOpi",
        "colab_type": "text"
      },
      "source": [
        "# Collections"
      ]
    },
    {
      "cell_type": "code",
      "metadata": {
        "id": "UFNrfTcsvOpj",
        "colab_type": "code",
        "colab": {}
      },
      "source": [
        "import collections"
      ],
      "execution_count": 136,
      "outputs": []
    },
    {
      "cell_type": "markdown",
      "metadata": {
        "id": "y2oJ9EXJvOpk",
        "colab_type": "text"
      },
      "source": [
        "### Очередь"
      ]
    },
    {
      "cell_type": "code",
      "metadata": {
        "id": "8A8PtJa9vOpl",
        "colab_type": "code",
        "colab": {}
      },
      "source": [
        "queue = collections.deque()"
      ],
      "execution_count": 137,
      "outputs": []
    },
    {
      "cell_type": "code",
      "metadata": {
        "id": "4q_7ecmWvOpn",
        "colab_type": "code",
        "colab": {}
      },
      "source": [
        "from collections import deque, ChainMap, OrderedDict, Counter"
      ],
      "execution_count": 138,
      "outputs": []
    },
    {
      "cell_type": "code",
      "metadata": {
        "id": "hUCpjmAFvOpp",
        "colab_type": "code",
        "colab": {}
      },
      "source": [
        "queue = deque()"
      ],
      "execution_count": 139,
      "outputs": []
    },
    {
      "cell_type": "markdown",
      "metadata": {
        "id": "LBzxcc69vOpr",
        "colab_type": "text"
      },
      "source": [
        "```python\n",
        "    append(x) - добавить элемент справа\n",
        "    appendleft(x) - добавить элемент слева\n",
        "    extend(iterable) - расширить списком справа\n",
        "    extendleft(iterable) - расширить списком слева\n",
        "    pop() - извлечь элемент справа\n",
        "    popleft() - извлечь элемент слева\n",
        "```"
      ]
    },
    {
      "cell_type": "code",
      "metadata": {
        "id": "qYUrRL-WvOps",
        "colab_type": "code",
        "colab": {}
      },
      "source": [
        "import random \n",
        "\n",
        "queue = deque()\n",
        "for i in range(50):\n",
        "    x = random.randint(0,1000)\n",
        "    size = len(queue)\n",
        "    if size == 0:\n",
        "        queue.append(x)\n",
        "    elif x < queue[0]:\n",
        "        queue.appendleft(x)\n",
        "    elif x >  queue[size-1]:\n",
        "        queue.append(x)"
      ],
      "execution_count": 140,
      "outputs": []
    },
    {
      "cell_type": "code",
      "metadata": {
        "id": "PtE6mrpivOpu",
        "colab_type": "code",
        "colab": {
          "base_uri": "https://localhost:8080/",
          "height": 35
        },
        "outputId": "0da9add7-3468-494c-a887-6827fbd1b6b9"
      },
      "source": [
        " queue"
      ],
      "execution_count": 141,
      "outputs": [
        {
          "output_type": "execute_result",
          "data": {
            "text/plain": [
              "deque([17, 36, 37, 62, 99, 108, 428, 902, 936, 952])"
            ]
          },
          "metadata": {
            "tags": []
          },
          "execution_count": 141
        }
      ]
    },
    {
      "cell_type": "markdown",
      "metadata": {
        "id": "0ckG6M9jvOpx",
        "colab_type": "text"
      },
      "source": [
        "### ChainMap"
      ]
    },
    {
      "cell_type": "markdown",
      "metadata": {
        "id": "JPZm5VkEvOpy",
        "colab_type": "text"
      },
      "source": [
        "Объединяет словари без создания нового объекта \"словарь\". \"Вохдящие\" в цепочку словари используются, как ссылки"
      ]
    },
    {
      "cell_type": "code",
      "metadata": {
        "id": "rBuKTUQUvOpy",
        "colab_type": "code",
        "colab": {}
      },
      "source": [
        "chain = ChainMap()"
      ],
      "execution_count": 142,
      "outputs": []
    },
    {
      "cell_type": "code",
      "metadata": {
        "id": "UpqU6vUAvOp1",
        "colab_type": "code",
        "colab": {}
      },
      "source": [
        "d1 = {'вишня': 5, 'яблоко': 1, 'персик': 8, 'груша': 2, 'тыква':7,  'баклажан':11}\n",
        "d2 = {'мороженное': 27, 'яблоко': 2, 'торт': 102, 'маффин': 13, 'ром-баба':32,  'пирожок с капустой':33}"
      ],
      "execution_count": 143,
      "outputs": []
    },
    {
      "cell_type": "code",
      "metadata": {
        "id": "SXue9WYCvOp2",
        "colab_type": "code",
        "colab": {}
      },
      "source": [
        "chain = ChainMap(d1, d2)"
      ],
      "execution_count": 144,
      "outputs": []
    },
    {
      "cell_type": "code",
      "metadata": {
        "id": "tgX_5yb5vOp4",
        "colab_type": "code",
        "colab": {
          "base_uri": "https://localhost:8080/",
          "height": 35
        },
        "outputId": "1e84da1b-59ad-4a3e-9302-3169eb871abe"
      },
      "source": [
        "chain['вишня'], chain['торт'], chain['яблоко']"
      ],
      "execution_count": 145,
      "outputs": [
        {
          "output_type": "execute_result",
          "data": {
            "text/plain": [
              "(5, 102, 1)"
            ]
          },
          "metadata": {
            "tags": []
          },
          "execution_count": 145
        }
      ]
    },
    {
      "cell_type": "code",
      "metadata": {
        "id": "aCfrepJ6vOp6",
        "colab_type": "code",
        "colab": {
          "base_uri": "https://localhost:8080/",
          "height": 35
        },
        "outputId": "a7777c69-b459-486e-d2bb-636236def87f"
      },
      "source": [
        "len(d1), len(d2), len(chain)"
      ],
      "execution_count": 146,
      "outputs": [
        {
          "output_type": "execute_result",
          "data": {
            "text/plain": [
              "(6, 6, 11)"
            ]
          },
          "metadata": {
            "tags": []
          },
          "execution_count": 146
        }
      ]
    },
    {
      "cell_type": "markdown",
      "metadata": {
        "id": "cRdiE9ukvOp8",
        "colab_type": "text"
      },
      "source": [
        "### Словарь с упорядочением\n"
      ]
    },
    {
      "cell_type": "markdown",
      "metadata": {
        "id": "SDhdsE8DvOp8",
        "colab_type": "text"
      },
      "source": [
        "Сохраняет порядок, у котором вносились элементы списка"
      ]
    },
    {
      "cell_type": "code",
      "metadata": {
        "id": "zA3SQyJhvOp8",
        "colab_type": "code",
        "colab": {}
      },
      "source": [
        "# обычный словарь\n",
        "d = {'вишня': 5, 'яблоко': 1, 'персик': 8, 'груша': 2, 'тыква':7,  'баклажан':11}"
      ],
      "execution_count": 147,
      "outputs": []
    },
    {
      "cell_type": "code",
      "metadata": {
        "id": "xEmMGjUQvOp_",
        "colab_type": "code",
        "colab": {
          "base_uri": "https://localhost:8080/",
          "height": 124
        },
        "outputId": "b1099538-34d3-40d9-c462-7521e5975d66"
      },
      "source": [
        "# словарь, отсортированый по ключам\n",
        "OrderedDict(sorted(d.items(), key=lambda t: t[0]))"
      ],
      "execution_count": 148,
      "outputs": [
        {
          "output_type": "execute_result",
          "data": {
            "text/plain": [
              "OrderedDict([('баклажан', 11),\n",
              "             ('вишня', 5),\n",
              "             ('груша', 2),\n",
              "             ('персик', 8),\n",
              "             ('тыква', 7),\n",
              "             ('яблоко', 1)])"
            ]
          },
          "metadata": {
            "tags": []
          },
          "execution_count": 148
        }
      ]
    },
    {
      "cell_type": "code",
      "metadata": {
        "id": "ZIt291j7vOqB",
        "colab_type": "code",
        "colab": {
          "base_uri": "https://localhost:8080/",
          "height": 124
        },
        "outputId": "ed205ec3-a4bc-47a7-a717-e57e5bd583dd"
      },
      "source": [
        "# словарь, отсортированый позначениям\n",
        "OrderedDict(sorted(d.items(), key=lambda t: t[1]))"
      ],
      "execution_count": 149,
      "outputs": [
        {
          "output_type": "execute_result",
          "data": {
            "text/plain": [
              "OrderedDict([('яблоко', 1),\n",
              "             ('груша', 2),\n",
              "             ('вишня', 5),\n",
              "             ('тыква', 7),\n",
              "             ('персик', 8),\n",
              "             ('баклажан', 11)])"
            ]
          },
          "metadata": {
            "tags": []
          },
          "execution_count": 149
        }
      ]
    },
    {
      "cell_type": "code",
      "metadata": {
        "id": "HV9ClEK4vOqD",
        "colab_type": "code",
        "colab": {
          "base_uri": "https://localhost:8080/",
          "height": 124
        },
        "outputId": "4c8faaaa-bbda-491f-e583-af3be8cc6eb0"
      },
      "source": [
        "# словарь, отсортированый по длине слова-ключа\n",
        "OrderedDict(sorted(d.items(), key=lambda t: len(t[0])))"
      ],
      "execution_count": 150,
      "outputs": [
        {
          "output_type": "execute_result",
          "data": {
            "text/plain": [
              "OrderedDict([('вишня', 5),\n",
              "             ('груша', 2),\n",
              "             ('тыква', 7),\n",
              "             ('яблоко', 1),\n",
              "             ('персик', 8),\n",
              "             ('баклажан', 11)])"
            ]
          },
          "metadata": {
            "tags": []
          },
          "execution_count": 150
        }
      ]
    },
    {
      "cell_type": "markdown",
      "metadata": {
        "id": "YzB0HEFxvOqF",
        "colab_type": "text"
      },
      "source": [
        "### Счетчик вхождения элементов"
      ]
    },
    {
      "cell_type": "markdown",
      "metadata": {
        "id": "vbeS03YWvOqG",
        "colab_type": "text"
      },
      "source": [
        "Интерфейс аналогичен словарю"
      ]
    },
    {
      "cell_type": "code",
      "metadata": {
        "id": "5Lh3sf0JvOqH",
        "colab_type": "code",
        "colab": {
          "base_uri": "https://localhost:8080/",
          "height": 196
        },
        "outputId": "1713f632-ae21-4f13-96ce-6a6d0e8c7b26"
      },
      "source": [
        "from collections import Counter\n",
        "import urllib\n",
        "import re\n",
        "\n",
        "hamlet_url = \"http://erdani.com/tdpl/hamlet.txt\"\n",
        "f = urllib.request.urlopen(hamlet_url)\n",
        "hamlet_text = f.read().decode('utf-8')\n",
        "words = re.findall(r'\\w+', hamlet_text.lower())\n",
        "ctr = Counter(words).most_common(10)\n",
        "ctr"
      ],
      "execution_count": 151,
      "outputs": [
        {
          "output_type": "execute_result",
          "data": {
            "text/plain": [
              "[('the', 1091),\n",
              " ('and', 969),\n",
              " ('to', 767),\n",
              " ('of', 675),\n",
              " ('i', 633),\n",
              " ('a', 571),\n",
              " ('you', 558),\n",
              " ('my', 520),\n",
              " ('in', 451),\n",
              " ('it', 421)]"
            ]
          },
          "metadata": {
            "tags": []
          },
          "execution_count": 151
        }
      ]
    },
    {
      "cell_type": "code",
      "metadata": {
        "id": "sNzU1CKvvOqI",
        "colab_type": "code",
        "colab": {
          "base_uri": "https://localhost:8080/",
          "height": 35
        },
        "outputId": "cd6744b8-ba96-4cbf-a46d-a680f397c984"
      },
      "source": [
        "sum([k for i,k in ctr])"
      ],
      "execution_count": 152,
      "outputs": [
        {
          "output_type": "execute_result",
          "data": {
            "text/plain": [
              "6656"
            ]
          },
          "metadata": {
            "tags": []
          },
          "execution_count": 152
        }
      ]
    },
    {
      "cell_type": "markdown",
      "metadata": {
        "id": "ovrZhh4yvOqK",
        "colab_type": "text"
      },
      "source": [
        "# Дерево"
      ]
    },
    {
      "cell_type": "markdown",
      "metadata": {
        "id": "am3JvJ_dvOqK",
        "colab_type": "text"
      },
      "source": [
        "### <font color=red>Задание</font>"
      ]
    },
    {
      "cell_type": "markdown",
      "metadata": {
        "id": "QQWxiRpPvOqK",
        "colab_type": "text"
      },
      "source": [
        "* Создайте список из 1000 случайных строк, состоящих из латинских букв.\n",
        "* Каждая строка - случайной длиной от 3 до 8 символов.\n",
        "* Реализуйте бинарное дерево для строк\n",
        "* Реализуйте поиск ближайшего слова для заданного."
      ]
    },
    {
      "cell_type": "code",
      "metadata": {
        "id": "wXfitcFhvOqM",
        "colab_type": "code",
        "colab": {}
      },
      "source": [
        "class Node:\n",
        "    def __init__(self, key):\n",
        "        self.left = None\n",
        "        self.right = None\n",
        "        self.key = key\n",
        "\n",
        "\n",
        "class BST:\n",
        "    def __init__(self):\n",
        "        self.root = None\n",
        "\n",
        "    def search(self, key):\n",
        "        cur = self.root\n",
        "        prev = ''\n",
        "        while cur is not None:\n",
        "            if cur.key == key:\n",
        "                return key\n",
        "            elif cur.key < key:\n",
        "                prev = cur.key\n",
        "                cur = cur.right\n",
        "            else:\n",
        "                prev = cur.key\n",
        "                cur = cur.left\n",
        "        return prev\n",
        "\n",
        "    def insert(self, key):\n",
        "        if self.root is None:\n",
        "            self.root = Node(key)\n",
        "        else:\n",
        "            cur = self.root\n",
        "            prev = None\n",
        "            while cur is not None:\n",
        "                prev = cur\n",
        "                if key <= cur.key:\n",
        "                    cur = cur.left\n",
        "                else:\n",
        "                    cur = cur.right\n",
        "            if key <= prev.key:\n",
        "                prev.left = Node(key)\n",
        "            else:\n",
        "                prev.right = Node(key)\n",
        "\n",
        "    def remove(self, key):\n",
        "        self.root = self._remove(self.root, key)\n",
        "\n",
        "    def _remove(self, node, key):\n",
        "        if node is None:\n",
        "            return None\n",
        "        elif node.key < key:\n",
        "            node.right = self._remove(nore.right, key)\n",
        "        elif node.key > key:\n",
        "            node.left = self._remove(nore.left, key)\n",
        "        else:\n",
        "            if node.left and node.right:\n",
        "                pred = self._find_predecessor(cur.right)\n",
        "                node.key = pred.key\n",
        "                node.right = self._remove(node.right, pred.key)\n",
        "            elif node.left:\n",
        "                node.key = node.left.key\n",
        "                node.right = node.left.right\n",
        "                node.left = node.left.left\n",
        "            elif node.right:\n",
        "                node.key = node.right.key\n",
        "                node.left = node.right.left\n",
        "                node.right = node.right.right\n",
        "            else:\n",
        "                del node\n",
        "                return None\n",
        "            return node\n",
        "\n",
        "    def _find_predecessor(self, node):\n",
        "        while node.left is not None:\n",
        "            node = node.left\n",
        "        return node"
      ],
      "execution_count": 4,
      "outputs": []
    },
    {
      "cell_type": "code",
      "metadata": {
        "id": "8fCG_Iy87am-",
        "colab_type": "code",
        "colab": {}
      },
      "source": [
        "import random\n",
        "import string\n",
        "\n",
        "\n",
        "def random_strings(n=1000):\n",
        "    letters = string.ascii_lowercase\n",
        "    res = []\n",
        "    for _ in range(n):\n",
        "        str_len = random.randint(3, 8)\n",
        "        res.append(''.join(random.choice(letters) for _ in range(str_len)))\n",
        "    return res\n",
        "\n",
        "bst = BST()\n",
        "keys = random_strings()\n",
        "for i in keys:\n",
        "    bst.insert(i)"
      ],
      "execution_count": 5,
      "outputs": []
    },
    {
      "cell_type": "code",
      "metadata": {
        "id": "pns7bSez8etT",
        "colab_type": "code",
        "colab": {
          "base_uri": "https://localhost:8080/",
          "height": 35
        },
        "outputId": "662fd8df-c1d4-462b-b18d-50a48123bc0c"
      },
      "source": [
        "bst.search('kek')"
      ],
      "execution_count": 8,
      "outputs": [
        {
          "output_type": "execute_result",
          "data": {
            "application/vnd.google.colaboratory.intrinsic+json": {
              "type": "string"
            },
            "text/plain": [
              "'kdiin'"
            ]
          },
          "metadata": {
            "tags": []
          },
          "execution_count": 8
        }
      ]
    },
    {
      "cell_type": "markdown",
      "metadata": {
        "id": "ZdK2phPLvOqN",
        "colab_type": "text"
      },
      "source": [
        "# Исключения и их обработка"
      ]
    },
    {
      "cell_type": "markdown",
      "metadata": {
        "id": "WeZi8Oi9vOqO",
        "colab_type": "text"
      },
      "source": [
        "```python\n",
        "try:\n",
        "    You do your operations here;\n",
        "    ......................\n",
        "except ExceptionI:\n",
        "    If there is ExceptionI, then execute this block.\n",
        "except ExceptionII:\n",
        "    If there is ExceptionII, then execute this block.\n",
        "    ......................\n",
        "else:\n",
        "    If there is no exception then execute this block. \n",
        "```"
      ]
    },
    {
      "cell_type": "code",
      "metadata": {
        "id": "IFSsbmXNvOqO",
        "colab_type": "code",
        "colab": {
          "base_uri": "https://localhost:8080/",
          "height": 189
        },
        "outputId": "83d9e795-611a-438e-ecfc-a44461be4214"
      },
      "source": [
        "l = list(range(10))\n",
        "l[11]"
      ],
      "execution_count": 9,
      "outputs": [
        {
          "output_type": "error",
          "ename": "IndexError",
          "evalue": "ignored",
          "traceback": [
            "\u001b[0;31m---------------------------------------------------------------------------\u001b[0m",
            "\u001b[0;31mIndexError\u001b[0m                                Traceback (most recent call last)",
            "\u001b[0;32m<ipython-input-9-b3af133f2050>\u001b[0m in \u001b[0;36m<module>\u001b[0;34m()\u001b[0m\n\u001b[1;32m      1\u001b[0m \u001b[0ml\u001b[0m \u001b[0;34m=\u001b[0m \u001b[0mlist\u001b[0m\u001b[0;34m(\u001b[0m\u001b[0mrange\u001b[0m\u001b[0;34m(\u001b[0m\u001b[0;36m10\u001b[0m\u001b[0;34m)\u001b[0m\u001b[0;34m)\u001b[0m\u001b[0;34m\u001b[0m\u001b[0;34m\u001b[0m\u001b[0m\n\u001b[0;32m----> 2\u001b[0;31m \u001b[0ml\u001b[0m\u001b[0;34m[\u001b[0m\u001b[0;36m11\u001b[0m\u001b[0;34m]\u001b[0m\u001b[0;34m\u001b[0m\u001b[0;34m\u001b[0m\u001b[0m\n\u001b[0m",
            "\u001b[0;31mIndexError\u001b[0m: list index out of range"
          ]
        }
      ]
    },
    {
      "cell_type": "code",
      "metadata": {
        "id": "whBuOFvqvOqh",
        "colab_type": "code",
        "colab": {
          "base_uri": "https://localhost:8080/",
          "height": 53
        },
        "outputId": "5e3c8e77-443a-4dd4-a94b-b48626acb265"
      },
      "source": [
        "try:\n",
        "    print(l[9])\n",
        "except IndexError:\n",
        "    print('Выход за границы списка!')\n",
        "else:\n",
        "    print('Получилось!')\n"
      ],
      "execution_count": 10,
      "outputs": [
        {
          "output_type": "stream",
          "text": [
            "9\n",
            "Получилось!\n"
          ],
          "name": "stdout"
        }
      ]
    },
    {
      "cell_type": "code",
      "metadata": {
        "id": "spcTAuImvOqj",
        "colab_type": "code",
        "colab": {
          "base_uri": "https://localhost:8080/",
          "height": 35
        },
        "outputId": "a2660b78-1766-49a3-86ba-8cf415fe6034"
      },
      "source": [
        "try:\n",
        "    open('very_strange_file.txt')\n",
        "except:\n",
        "    print('Что-то не так с файлом!')\n",
        "else:\n",
        "    print('Странно ... Откуда он здесь?')"
      ],
      "execution_count": 11,
      "outputs": [
        {
          "output_type": "stream",
          "text": [
            "Что-то не так с файлом!\n"
          ],
          "name": "stdout"
        }
      ]
    },
    {
      "cell_type": "code",
      "metadata": {
        "id": "HI4uklGhvOql",
        "colab_type": "code",
        "colab": {}
      },
      "source": [
        "def func( n ):\n",
        "    if n < 0:\n",
        "        raise ValueError(\"n должен быть больше 0!\", n)\n",
        "    pass"
      ],
      "execution_count": 12,
      "outputs": []
    },
    {
      "cell_type": "code",
      "metadata": {
        "id": "hwgdChgFvOqn",
        "colab_type": "code",
        "colab": {
          "base_uri": "https://localhost:8080/",
          "height": 278
        },
        "outputId": "372681fd-49e1-4fd6-82f7-63f53174dad5"
      },
      "source": [
        "func(-2)"
      ],
      "execution_count": 13,
      "outputs": [
        {
          "output_type": "error",
          "ename": "ValueError",
          "evalue": "ignored",
          "traceback": [
            "\u001b[0;31m---------------------------------------------------------------------------\u001b[0m",
            "\u001b[0;31mValueError\u001b[0m                                Traceback (most recent call last)",
            "\u001b[0;32m<ipython-input-13-f13e9e2ceaa0>\u001b[0m in \u001b[0;36m<module>\u001b[0;34m()\u001b[0m\n\u001b[0;32m----> 1\u001b[0;31m \u001b[0mfunc\u001b[0m\u001b[0;34m(\u001b[0m\u001b[0;34m-\u001b[0m\u001b[0;36m2\u001b[0m\u001b[0;34m)\u001b[0m\u001b[0;34m\u001b[0m\u001b[0;34m\u001b[0m\u001b[0m\n\u001b[0m",
            "\u001b[0;32m<ipython-input-12-d57669ac115b>\u001b[0m in \u001b[0;36mfunc\u001b[0;34m(n)\u001b[0m\n\u001b[1;32m      1\u001b[0m \u001b[0;32mdef\u001b[0m \u001b[0mfunc\u001b[0m\u001b[0;34m(\u001b[0m \u001b[0mn\u001b[0m \u001b[0;34m)\u001b[0m\u001b[0;34m:\u001b[0m\u001b[0;34m\u001b[0m\u001b[0;34m\u001b[0m\u001b[0m\n\u001b[1;32m      2\u001b[0m     \u001b[0;32mif\u001b[0m \u001b[0mn\u001b[0m \u001b[0;34m<\u001b[0m \u001b[0;36m0\u001b[0m\u001b[0;34m:\u001b[0m\u001b[0;34m\u001b[0m\u001b[0;34m\u001b[0m\u001b[0m\n\u001b[0;32m----> 3\u001b[0;31m         \u001b[0;32mraise\u001b[0m \u001b[0mValueError\u001b[0m\u001b[0;34m(\u001b[0m\u001b[0;34m\"n должен быть больше 0!\"\u001b[0m\u001b[0;34m,\u001b[0m \u001b[0mn\u001b[0m\u001b[0;34m)\u001b[0m\u001b[0;34m\u001b[0m\u001b[0;34m\u001b[0m\u001b[0m\n\u001b[0m\u001b[1;32m      4\u001b[0m     \u001b[0;32mpass\u001b[0m\u001b[0;34m\u001b[0m\u001b[0;34m\u001b[0m\u001b[0m\n",
            "\u001b[0;31mValueError\u001b[0m: ('n должен быть больше 0!', -2)"
          ]
        }
      ]
    },
    {
      "cell_type": "code",
      "metadata": {
        "id": "Tmg-04ZivOqq",
        "colab_type": "code",
        "colab": {}
      },
      "source": [
        ""
      ],
      "execution_count": null,
      "outputs": []
    },
    {
      "cell_type": "markdown",
      "metadata": {
        "id": "vWmaVqj6vOqs",
        "colab_type": "text"
      },
      "source": [
        "## Экзаменационные вопросы:"
      ]
    },
    {
      "cell_type": "markdown",
      "metadata": {
        "id": "PpBx8AjxvOqt",
        "colab_type": "text"
      },
      "source": [
        "* Рекурсия\n",
        "* Регулярные выражения\n",
        "* Обработка и индексирование строк\n",
        "* Обработка и индексирование списков\n",
        "* Словари\n",
        "* Множества\n",
        "* Очередь\n",
        "* Дерево\n",
        "* Стек\n",
        "* Исключения и их обработка"
      ]
    },
    {
      "cell_type": "markdown",
      "metadata": {
        "id": "ENnJlViovOqt",
        "colab_type": "text"
      },
      "source": [
        "### К следующему занятию прочитать:\n"
      ]
    },
    {
      "cell_type": "markdown",
      "metadata": {
        "id": "lDmAZK6vvOqu",
        "colab_type": "text"
      },
      "source": [
        "* что такое объектно ориентированное програмирование\n",
        "* что такое функциональное программирование"
      ]
    }
  ]
}